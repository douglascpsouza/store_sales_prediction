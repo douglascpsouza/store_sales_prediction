{
 "cells": [
  {
   "cell_type": "markdown",
   "id": "7bfc2ef0",
   "metadata": {},
   "source": [
    "# <font color='#002726'> Data Science em Produção </font>\n",
    "    \n",
    "=-=- ROSSMANN - STORE SALES PREDICTION -=-="
   ]
  },
  {
   "cell_type": "markdown",
   "id": "170c65a0",
   "metadata": {},
   "source": [
    "# <font color='#36013F'> 0. Imports </font>"
   ]
  },
  {
   "cell_type": "code",
   "execution_count": null,
   "id": "11ade934",
   "metadata": {},
   "outputs": [],
   "source": [
    "import inflection  # helper function\n",
    "\n",
    "import numpy as np\n",
    "import pandas as pd\n",
    "import seaborn as sns"
   ]
  },
  {
   "cell_type": "markdown",
   "id": "ce4b793b",
   "metadata": {},
   "source": [
    "## <font color='#1F45FC'> 0.1. Helper Functions </font>"
   ]
  },
  {
   "cell_type": "code",
   "execution_count": null,
   "id": "be4f4bcb",
   "metadata": {},
   "outputs": [],
   "source": [
    "def snakecase(list_of_names):\n",
    "    \"\"\"Returns a list of names in snake case, which refers to the style of  \n",
    "    writing in which each space is replaced by an underscore (_) character.\"\"\"\n",
    "    \n",
    "    new_list = list(map(inflection.underscore, list_of_names))\n",
    "    return new_list\n",
    "\n"
   ]
  },
  {
   "cell_type": "markdown",
   "id": "1a0db2ad",
   "metadata": {},
   "source": [
    "## <font color='#1F45FC'> 0.2. Loading Data </font>"
   ]
  },
  {
   "cell_type": "code",
   "execution_count": null,
   "id": "d4757095",
   "metadata": {},
   "outputs": [],
   "source": [
    "# loading historical data - including Sales\n",
    "df_sales_raw = pd.read_csv('../raw_data/train.csv', low_memory=False)\n",
    "\n",
    "# loading information about the stores\n",
    "df_store_raw = pd.read_csv('../raw_data/store.csv', low_memory=False)"
   ]
  },
  {
   "cell_type": "markdown",
   "id": "92084ce1",
   "metadata": {},
   "source": [
    "### <font color='#F37126'> Data Fields </font>"
   ]
  },
  {
   "cell_type": "markdown",
   "id": "d51b697a",
   "metadata": {},
   "source": [
    "**Most of the fields are self-explanatory. The following are descriptions for those that aren't.**\n",
    "\n",
    "- **Id** - an Id that represents a (Store, Date) duple within the test set;\n",
    "- **Store** - a unique Id for each store;\n",
    "- **Sales** - the turnover for any given day (this is what you are predicting);\n",
    "- **Customers** - the number of customers on a given day;\n",
    "- **Open** - an indicator for whether the store was open: 0 = closed, 1 = open;\n",
    "- **StateHoliday** - indicates a state holiday. Normally all stores, with few exceptions, are closed on state holidays. Note that all schools are closed on public holidays and weekends. a = public holiday, b = Easter holiday, c = Christmas, 0 = None;\n",
    "- **SchoolHoliday** - indicates if the (Store, Date) was affected by the closure of public schools;\n",
    "- **StoreType** - differentiates between 4 different store models: a, b, c, d;\n",
    "- **Assortment** - describes an assortment level: a = basic, b = extra, c = extended;\n",
    "- **CompetitionDistance** - distance in meters to the nearest competitor store;\n",
    "- **CompetitionOpenSince[Month/Year]** - gives the approximate year and month of the time the nearest competitor was opened;\n",
    "- **Promo** - indicates whether a store is running a promo on that day;\n",
    "- **Promo2** - Promo2 is a continuing and consecutive promotion for some stores: 0 = store is not participating, 1 = store is participating;\n",
    "- **Promo2Since[Year/Week]** - describes the year and calendar week when the store started participating in Promo2;\n",
    "- **PromoInterval** - describes the consecutive intervals Promo2 is started, naming the months the promotion is started anew. E.g. \"Feb,May,Aug,Nov\" means each round starts in February, May, August, November of any given year for that store."
   ]
  },
  {
   "cell_type": "markdown",
   "id": "d5cc887a",
   "metadata": {},
   "source": [
    "# <font color='#36013F'> 1. Descriptive Data Analysis </font>"
   ]
  },
  {
   "cell_type": "markdown",
   "id": "7ea07f34",
   "metadata": {},
   "source": [
    "## <font color='#1F45FC'> 1.0. Dataframe in Progress Backup </font>"
   ]
  },
  {
   "cell_type": "code",
   "execution_count": null,
   "id": "eb99744f",
   "metadata": {},
   "outputs": [],
   "source": [
    "df1_store = df_store_raw.copy()\n",
    "\n",
    "df1_sales = df_sales_raw.copy()"
   ]
  },
  {
   "cell_type": "markdown",
   "id": "756086eb",
   "metadata": {},
   "source": [
    "## <font color='#1F45FC'> 1.1. Column Renaming </font>"
   ]
  },
  {
   "cell_type": "code",
   "execution_count": null,
   "id": "906c4dfa",
   "metadata": {},
   "outputs": [],
   "source": [
    "# renaming df1_store column names\n",
    "df1_store.columns = snakecase(df1_store.columns)\n",
    "\n",
    "# renaming df1_sales column names\n",
    "df1_sales.columns = snakecase(df1_sales.columns)"
   ]
  },
  {
   "cell_type": "markdown",
   "id": "dd6798be",
   "metadata": {},
   "source": [
    "## <font color='#1F45FC'> 1.2. Data Dimension </font>"
   ]
  },
  {
   "cell_type": "code",
   "execution_count": null,
   "id": "7b0ac497",
   "metadata": {},
   "outputs": [],
   "source": [
    "print(f'Store Dataframe - Number of Rows: {df1_store.shape[0]}. \\nStore Dataframe - Number of Columns: {df1_store.shape[1]}.', end='\\n\\n')\n",
    "print(f'Sales Dataframe - Number of Rows: {df1_sales.shape[0]}. \\nSales Dataframe - Number of Columns: {df1_sales.shape[1]}.')"
   ]
  },
  {
   "cell_type": "markdown",
   "id": "9b0a5aec",
   "metadata": {},
   "source": [
    "## <font color='#1F45FC'> 1.3. Data Types </font>"
   ]
  },
  {
   "cell_type": "code",
   "execution_count": null,
   "id": "8a7e10a1",
   "metadata": {},
   "outputs": [],
   "source": [
    "# Store dataframe data types\n",
    "df1_store.dtypes"
   ]
  },
  {
   "cell_type": "code",
   "execution_count": null,
   "id": "ef049f41",
   "metadata": {},
   "outputs": [],
   "source": [
    "# Sales dataframe data types\n",
    "df1_sales.dtypes"
   ]
  },
  {
   "cell_type": "code",
   "execution_count": null,
   "id": "b1caacc8",
   "metadata": {},
   "outputs": [],
   "source": [
    "# setting date column as datetime type\n",
    "df1_sales['date'] = pd.to_datetime(df1_sales['date'])\n",
    "\n",
    "df1_sales.dtypes"
   ]
  },
  {
   "cell_type": "markdown",
   "id": "77d975fd",
   "metadata": {},
   "source": [
    "## <font color='#1F45FC'> 1.4. Check NA </font>"
   ]
  },
  {
   "cell_type": "code",
   "execution_count": null,
   "id": "92168873",
   "metadata": {},
   "outputs": [],
   "source": [
    "# checking NA in df1_sales - no NAs\n",
    "df1_sales.isna().sum()"
   ]
  },
  {
   "cell_type": "code",
   "execution_count": null,
   "id": "5989d000",
   "metadata": {},
   "outputs": [],
   "source": [
    "# checking NA in d1_store\n",
    "df1_store.isna().sum()"
   ]
  },
  {
   "cell_type": "markdown",
   "id": "6aad9b4c",
   "metadata": {},
   "source": [
    "## <font color='#1F45FC'> 1.5. Fillout NA </font>"
   ]
  },
  {
   "cell_type": "markdown",
   "id": "a0ae51ce",
   "metadata": {},
   "source": [
    "**Store dataframe - df_store**\n",
    "\n",
    "    competition_distance              3\n",
    "\n",
    "    competition_open_since_month    354\n",
    "    competition_open_since_year     354\n",
    "\n",
    "    promo2_since_week               544\n",
    "    promo2_since_year               544\n",
    "    promo_interval                  544"
   ]
  },
  {
   "cell_type": "code",
   "execution_count": null,
   "id": "1b79a0bd",
   "metadata": {},
   "outputs": [],
   "source": [
    "# competition_distance\n",
    "\n",
    "# maximun distance x 2\n",
    "max_dist_x_2 = df1_store['competition_distance'].max() * 2\n",
    "\n",
    "# assuming competitors are twice as far away as the greatest distance found\n",
    "df1_store['competition_distance'] = df1_store['competition_distance'].apply(lambda x: max_dist_x_2 if np.isnan(x) else x)"
   ]
  },
  {
   "cell_type": "code",
   "execution_count": null,
   "id": "0e19d735",
   "metadata": {},
   "outputs": [],
   "source": [
    "# competition_open_since_year\n",
    "\n",
    "ax = sns.boxplot(x='competition_open_since_year', data=df1_store)"
   ]
  },
  {
   "cell_type": "code",
   "execution_count": null,
   "id": "eabe4780",
   "metadata": {},
   "outputs": [],
   "source": [
    "# competition_open_since_year\n",
    "\n",
    "# frequency per year of existing competition_open_since_year data\n",
    "frequency = df1_store['competition_open_since_year'].value_counts(\n",
    "                                                     normalize=True).reset_index().rename(\n",
    "                                                     columns={'index': 'year', \n",
    "                                                              'competition_open_since_year': 'percent'})\n",
    "\n",
    "# True/False missing/Null Series\n",
    "missing = df1_store['competition_open_since_year'].isna()\n",
    "\n",
    "# Using Numpy's random.choice to fill out missing data based on the frequency of existing info\n",
    "df1_store.loc[missing,'competition_open_since_year'] = np.random.choice(frequency.year, \n",
    "                                                                        size=len(df1_store[missing]), \n",
    "                                                                        p=frequency.percent)"
   ]
  },
  {
   "cell_type": "code",
   "execution_count": null,
   "id": "7ad7af8d",
   "metadata": {},
   "outputs": [],
   "source": [
    "# competition_open_since_month\n",
    "\n",
    "# frequency per month of existing competition_open_since_month data\n",
    "frequency = df1_store['competition_open_since_month'].value_counts(\n",
    "                                                          normalize=True).reset_index().rename(\n",
    "                                                          columns={'index': 'month', \n",
    "                                                                   'competition_open_since_month': 'percent'})\n",
    "\n",
    "# True/False missing/Null Series\n",
    "missing = df1_store['competition_open_since_month'].isna()\n",
    "\n",
    "# Using Numpy's random.choice to fill out missing data based on the frequency of existing info\n",
    "df1_store.loc[missing,'competition_open_since_month'] = np.random.choice(frequency.month, \n",
    "                                                                         size=len(df1_store[missing]), \n",
    "                                                                         p=frequency.percent)"
   ]
  },
  {
   "cell_type": "code",
   "execution_count": null,
   "id": "15374b75",
   "metadata": {},
   "outputs": [],
   "source": []
  }
 ],
 "metadata": {
  "kernelspec": {
   "display_name": "ve_sales_prediction",
   "language": "python",
   "name": "ve_sales_prediction"
  },
  "language_info": {
   "codemirror_mode": {
    "name": "ipython",
    "version": 3
   },
   "file_extension": ".py",
   "mimetype": "text/x-python",
   "name": "python",
   "nbconvert_exporter": "python",
   "pygments_lexer": "ipython3",
   "version": "3.9.6"
  }
 },
 "nbformat": 4,
 "nbformat_minor": 5
}
