{
 "cells": [
  {
   "cell_type": "markdown",
   "id": "7bfc2ef0",
   "metadata": {},
   "source": [
    "# <font color='#002726'> Data Science em Produção </font>\n",
    "    \n",
    "=-=- ROSSMANN - STORE SALES PREDICTION -=-="
   ]
  },
  {
   "cell_type": "markdown",
   "id": "170c65a0",
   "metadata": {
    "heading_collapsed": true
   },
   "source": [
    "# <font color='#3F0094'> 0. Imports </font>"
   ]
  },
  {
   "cell_type": "code",
   "execution_count": 5,
   "id": "11ade934",
   "metadata": {
    "ExecuteTime": {
     "end_time": "2021-09-30T22:20:00.940223Z",
     "start_time": "2021-09-30T22:20:00.928995Z"
    },
    "hidden": true
   },
   "outputs": [],
   "source": [
    "# general use\n",
    "import numpy as np\n",
    "import pandas as pd\n",
    "\n",
    "# helper function\n",
    "import inflection\n",
    "\n",
    "# feature engineering and data analysis\n",
    "import seaborn as sns\n",
    "from matplotlib                    import gridspec, pyplot as plt\n",
    "from IPython.display               import Image\n",
    "from scipy.stats                   import ranksums, chi2_contingency\n",
    "from datetime                      import datetime, timedelta\n",
    "from statsmodels.stats.weightstats import DescrStatsW, CompareMeans\n",
    "\n",
    "# data preparation\n",
    "from sklearn.preprocessing import RobustScaler, MinMaxScaler, LabelEncoder\n",
    "\n",
    "# feature selection\n",
    "from boruta import BorutaPy\n",
    "\n",
    "# machine learning\n",
    "import pickle\n",
    "import xgboost as xgb\n",
    "from sklearn.linear_model import LinearRegression, Lasso\n",
    "from sklearn.ensemble     import RandomForestRegressor \n",
    "from sklearn.metrics      import mean_absolute_error, mean_absolute_percentage_error, mean_squared_error"
   ]
  },
  {
   "cell_type": "markdown",
   "id": "ce4b793b",
   "metadata": {
    "heading_collapsed": true,
    "hidden": true
   },
   "source": [
    "## <font color='#200CF'> 0.1. Helper Functions </font>"
   ]
  },
  {
   "cell_type": "code",
   "execution_count": 6,
   "id": "be4f4bcb",
   "metadata": {
    "ExecuteTime": {
     "end_time": "2021-09-30T22:20:00.968759Z",
     "start_time": "2021-09-30T22:20:00.943458Z"
    },
    "code_folding": [],
    "hidden": true
   },
   "outputs": [],
   "source": [
    "# Notebook Setups\n",
    "\n",
    "sns.set_style('darkgrid')\n",
    "sns.set_context('talk')\n",
    "sns.set_palette('Set2')\n",
    "\n",
    "# Functions\n",
    "\n",
    "\n",
    "def bootstrap(attribute, estimate='mean', n_repeat=100, n_sample=100, ci=95):\n",
    "    \"\"\"Bootstrap\"\"\"\n",
    "    \n",
    "    results = []\n",
    "    \n",
    "    if estimate == 'mean':\n",
    "        for n in range(n_repeat):\n",
    "            sample = np.random.choice(a=attribute, size=n_sample)\n",
    "            results.append(np.mean(sample))\n",
    "    elif estimate == 'median':\n",
    "        for n in range(n_repeat):\n",
    "            sample = np.random.choice(a=attribute, size=n_sample)\n",
    "            results.append(np.median(sample))\n",
    "    else:\n",
    "        results = [0]\n",
    "    \n",
    "    ci_bottom = (100 - ci) / 2\n",
    "    ci_top = ci + (100 - ci) / 2\n",
    "    \n",
    "    statistic_mean = np.mean(results)\n",
    "    statistic_std_error = np.std(results)\n",
    "    lower_percentile = np.percentile(results, q=ci_bottom)\n",
    "    upper_percentile = np.percentile(results, q=ci_top)\n",
    "    \n",
    "    return [statistic_mean, statistic_std_error, lower_percentile, upper_percentile]\n",
    "\n",
    "\n",
    "def cramer_v(x, y):\n",
    "    \"\"\"Cramér's V formula to measure the association between two nominal variables\"\"\"\n",
    "    \n",
    "    # confusion matrix - getting the values only (as matrix)\n",
    "    cm = pd.crosstab(x, y).values\n",
    "    # chi2_contingency from scipy returns a list, the first value is the statistic test result\n",
    "    chi2 = chi2_contingency(cm)[0]\n",
    "    # n is the grand total of observations\n",
    "    n = cm.sum()\n",
    "    # number of rows and columns\n",
    "    r, k = cm.shape\n",
    "    \n",
    "    # bias correction \n",
    "    phi_cor = max(0, chi2/n - (k-1)*(r-1)/(n-1))\n",
    "    k_cor = k - (k-1)**2/(n-1)\n",
    "    r_cor = r - (r-1)**2/(n-1)\n",
    "\n",
    "    return np.sqrt((phi_cor) / (min(k_cor-1, r_cor-1)))\n",
    "\n",
    "\n",
    "def ml_error(model_name, y, yhat):\n",
    "    \"\"\"Tests machine learning model prediction error.\"\"\"\n",
    "    \n",
    "    # mean absolute error (MAE)\n",
    "    mae = mean_absolute_error(y , yhat)\n",
    "    \n",
    "    # mean absolute percentage error (MAPE)\n",
    "    mape = mean_absolute_percentage_error(y, yhat)\n",
    "    \n",
    "    # root-mean-square error (RMSE)\n",
    "    rmse = np.sqrt(mean_squared_error(y, yhat))\n",
    "    \n",
    "    return pd.DataFrame({'Model Name': model_name, \n",
    "                         'MAE': mae, \n",
    "                         'MAPE': mape, \n",
    "                         'RMSE': rmse}, index=[0])\n",
    "\n",
    "\n",
    "def cross_validation(X_train, kfold, model_name, ml_model, verbose=False):\n",
    "    \n",
    "    # lists to keep the error results\n",
    "    mae_list, mape_list, rmse_list = [], [], []\n",
    "\n",
    "    # cross validation folds\n",
    "    for k in range(kfold, 0, -1):\n",
    "        \n",
    "        # checking if verbose is true\n",
    "        if verbose:\n",
    "            print(f'\\nKFold Number: {k}')\n",
    "        \n",
    "        # start date and end date of validation\n",
    "        validation_start_date = X_train['date'].max() - timedelta(days=k*6*7)\n",
    "        validation_end_date = X_train['date'].max() - timedelta(days=(k-1)*6*7)\n",
    "\n",
    "        # splitting into traning and validation\n",
    "        training   = X_train[X_train['date'] < validation_start_date]\n",
    "        validation = X_train[(X_train['date'] >= validation_start_date) & (X_train['date'] <= validation_end_date)]\n",
    "\n",
    "        # preparing training and validation datasets - removing response subsets\n",
    "        # training\n",
    "        y_training = training['sales']\n",
    "        x_training_ml = training.drop(['date', 'sales'], axis=1)\n",
    "        # validation\n",
    "        y_validation = validation['sales']\n",
    "        x_validation_ml = validation.drop(['date', 'sales'], axis=1)\n",
    "\n",
    "        # model\n",
    "        model_fit = ml_model.fit(x_training_ml, y_training)\n",
    "        # predicition\n",
    "        yhat = model_fit.predict(x_validation_ml)\n",
    "        # performance\n",
    "        result = ml_error(model_name, np.expm1(y_validation), np.expm1(yhat))\n",
    "\n",
    "        # appending error values to the lists in each iteration of KFold\n",
    "        mae_list.append(result['MAE'][0])\n",
    "        mape_list.append(result['MAPE'][0])\n",
    "        rmse_list.append(result['RMSE'][0])\n",
    "\n",
    "    # returning a dataframe with mean and std of each error measure\n",
    "    return pd.DataFrame({\n",
    "        'Model Name': model_name,\n",
    "        'MAE CV': np.round(np.mean(mae_list), 2).astype(str) + ' +/- ' + np.round((np.std(mae_list)), 2).astype(str), \n",
    "        'MAPE CV': np.round(np.mean(mape_list), 2).astype(str) + ' +/- ' + np.round((np.std(mape_list)), 2).astype(str), \n",
    "        'RMSE CV': np.round(np.mean(rmse_list), 2).astype(str) + ' +/- ' + np.round((np.std(rmse_list)), 2).astype(str), \n",
    "    }, index=[0])\n",
    "\n"
   ]
  },
  {
   "cell_type": "markdown",
   "id": "1a0db2ad",
   "metadata": {
    "hidden": true
   },
   "source": [
    "## <font color='#200CF'> 0.2. Loading Data </font>"
   ]
  },
  {
   "cell_type": "code",
   "execution_count": 7,
   "id": "d4757095",
   "metadata": {
    "ExecuteTime": {
     "end_time": "2021-09-30T22:20:01.849282Z",
     "start_time": "2021-09-30T22:20:00.971035Z"
    },
    "hidden": true
   },
   "outputs": [],
   "source": [
    "# loading historical data - including Sales\n",
    "df_sales_raw = pd.read_csv('../raw_data/train.csv', low_memory=False)\n",
    "\n",
    "# loading information about the stores\n",
    "df_store_raw = pd.read_csv('../raw_data/store.csv', low_memory=False)\n",
    "\n",
    "# merging dataframes\n",
    "df_raw = pd.merge(df_sales_raw, df_store_raw, how='left', on='Store')"
   ]
  },
  {
   "cell_type": "markdown",
   "id": "92084ce1",
   "metadata": {
    "hidden": true
   },
   "source": [
    "### <font color='#F37126'> Data Fields </font>"
   ]
  },
  {
   "cell_type": "markdown",
   "id": "d51b697a",
   "metadata": {
    "hidden": true
   },
   "source": [
    "**Most of the fields are self-explanatory. The following are descriptions for those that aren't.**\n",
    "\n",
    "- **Id** - an Id that represents a (Store, Date) duple within the test set;\n",
    "- **Store** - a unique Id for each store;\n",
    "- **Sales** - the turnover for any given day (this is what you are predicting);\n",
    "- **Customers** - the number of customers on a given day;\n",
    "- **Open** - an indicator for whether the store was open: 0 = closed, 1 = open;\n",
    "- **StateHoliday** - indicates a state holiday. Normally all stores, with few exceptions, are closed on state holidays. Note that all schools are closed on public holidays and weekends. a = public holiday, b = Easter holiday, c = Christmas, 0 = None;\n",
    "- **SchoolHoliday** - indicates if the (Store, Date) was affected by the closure of public schools;\n",
    "- **StoreType** - differentiates between 4 different store models: a, b, c, d;\n",
    "- **Assortment** - describes an assortment level: a = basic, b = extra, c = extended;\n",
    "- **CompetitionDistance** - distance in meters to the nearest competitor store;\n",
    "- **CompetitionOpenSince[Month/Year]** - gives the approximate year and month of the time the nearest competitor was opened;\n",
    "- **Promo** - indicates whether a store is running a promo on that day;\n",
    "- **Promo2** - Promo2 is a continuing and consecutive promotion for some stores: 0 = store is not participating, 1 = store is participating;\n",
    "- **Promo2Since[Year/Week]** - describes the year and calendar week when the store started participating in Promo2;\n",
    "- **PromoInterval** - describes the consecutive intervals Promo2 is started, naming the months the promotion is started anew. E.g. \"Feb,May,Aug,Nov\" means each round starts in February, May, August, November of any given year for that store."
   ]
  },
  {
   "cell_type": "markdown",
   "id": "d5cc887a",
   "metadata": {},
   "source": [
    "# <font color='#3F0094'> 1. Descriptive Data Analysis </font>"
   ]
  },
  {
   "cell_type": "markdown",
   "id": "7ea07f34",
   "metadata": {
    "heading_collapsed": true
   },
   "source": [
    "## <font color='#200CF'> 1.0. Dataframe in Progress Backup </font>"
   ]
  },
  {
   "cell_type": "code",
   "execution_count": 8,
   "id": "eb99744f",
   "metadata": {
    "ExecuteTime": {
     "end_time": "2021-09-30T22:20:02.066677Z",
     "start_time": "2021-09-30T22:20:01.851250Z"
    },
    "hidden": true
   },
   "outputs": [],
   "source": [
    "df1 = df_raw.copy()"
   ]
  },
  {
   "cell_type": "markdown",
   "id": "756086eb",
   "metadata": {},
   "source": [
    "## <font color='#200CF'> 1.1. Column Renaming </font>"
   ]
  },
  {
   "cell_type": "code",
   "execution_count": null,
   "id": "ab23d8ac",
   "metadata": {
    "ExecuteTime": {
     "end_time": "2021-09-30T12:20:54.554550Z",
     "start_time": "2021-09-30T12:20:54.548229Z"
    }
   },
   "outputs": [],
   "source": [
    "df1.columns"
   ]
  },
  {
   "cell_type": "code",
   "execution_count": null,
   "id": "906c4dfa",
   "metadata": {
    "ExecuteTime": {
     "end_time": "2021-09-30T12:20:54.559877Z",
     "start_time": "2021-09-30T12:20:54.556347Z"
    }
   },
   "outputs": [],
   "source": [
    "# renaming df1 column names\n",
    "snake_case = lambda x: inflection.underscore(x)\n",
    "df1.columns = list(map(snake_case, df1.columns))"
   ]
  },
  {
   "cell_type": "markdown",
   "id": "dd6798be",
   "metadata": {
    "heading_collapsed": true
   },
   "source": [
    "## <font color='#200CF'> 1.2. Data Dimension </font>"
   ]
  },
  {
   "cell_type": "code",
   "execution_count": null,
   "id": "7b0ac497",
   "metadata": {
    "ExecuteTime": {
     "end_time": "2021-09-29T21:01:41.472391Z",
     "start_time": "2021-09-29T21:01:41.467910Z"
    },
    "hidden": true
   },
   "outputs": [],
   "source": [
    "print(f'Store Dataframe - Number of Rows: {df1.shape[0]}. \\nStore Dataframe - Number of Columns: {df1.shape[1]}.')"
   ]
  },
  {
   "cell_type": "markdown",
   "id": "9b0a5aec",
   "metadata": {
    "heading_collapsed": true
   },
   "source": [
    "## <font color='#200CF'> 1.3. Data Types </font>"
   ]
  },
  {
   "cell_type": "code",
   "execution_count": null,
   "id": "8a7e10a1",
   "metadata": {
    "ExecuteTime": {
     "end_time": "2021-09-29T21:01:41.481288Z",
     "start_time": "2021-09-29T21:01:41.474095Z"
    },
    "hidden": true
   },
   "outputs": [],
   "source": [
    "# dataframe data types\n",
    "df1.dtypes"
   ]
  },
  {
   "cell_type": "code",
   "execution_count": null,
   "id": "b1caacc8",
   "metadata": {
    "ExecuteTime": {
     "end_time": "2021-09-29T21:01:41.598909Z",
     "start_time": "2021-09-29T21:01:41.483064Z"
    },
    "hidden": true
   },
   "outputs": [],
   "source": [
    "# setting date column as datetime type\n",
    "df1['date'] = pd.to_datetime(df1['date'])\n"
   ]
  },
  {
   "cell_type": "markdown",
   "id": "77d975fd",
   "metadata": {
    "heading_collapsed": true
   },
   "source": [
    "## <font color='#200CF'> 1.4. NA Check </font>"
   ]
  },
  {
   "cell_type": "code",
   "execution_count": null,
   "id": "92168873",
   "metadata": {
    "ExecuteTime": {
     "end_time": "2021-09-29T21:01:41.818990Z",
     "start_time": "2021-09-29T21:01:41.600834Z"
    },
    "hidden": true
   },
   "outputs": [],
   "source": [
    "# checking NA - All NA values came from store.csv\n",
    "df1.isna().sum()"
   ]
  },
  {
   "cell_type": "code",
   "execution_count": null,
   "id": "5989d000",
   "metadata": {
    "ExecuteTime": {
     "end_time": "2021-09-29T21:01:42.051653Z",
     "start_time": "2021-09-29T21:01:41.821836Z"
    },
    "hidden": true
   },
   "outputs": [],
   "source": [
    "# checking NA using info()\n",
    "df1.info()"
   ]
  },
  {
   "cell_type": "markdown",
   "id": "6aad9b4c",
   "metadata": {
    "heading_collapsed": true
   },
   "source": [
    "## <font color='#200CF'> 1.5. Filling in Missing/Null Values </font>"
   ]
  },
  {
   "cell_type": "markdown",
   "id": "a0ae51ce",
   "metadata": {
    "hidden": true
   },
   "source": [
    "**Number of NA Values**\n",
    "\n",
    "    competition_distance              2642\n",
    "\n",
    "    competition_open_since_month    323348\n",
    "    competition_open_since_year     323348\n",
    "\n",
    "    promo2_since_week               508031\n",
    "    promo2_since_year               508031\n",
    "    promo_interval                  508031"
   ]
  },
  {
   "cell_type": "code",
   "execution_count": null,
   "id": "328ecc13",
   "metadata": {
    "ExecuteTime": {
     "end_time": "2021-09-29T21:02:45.875804Z",
     "start_time": "2021-09-29T21:01:42.053587Z"
    },
    "hidden": true
   },
   "outputs": [],
   "source": [
    "# competition_distance\n",
    "\n",
    "# maximun distance x 2\n",
    "max_dist_x_2 = df1['competition_distance'].max() * 2\n",
    "\n",
    "# assuming competitors are twice as far away as the greatest distance found\n",
    "df1['competition_distance'] = df1['competition_distance'].apply(lambda x: max_dist_x_2 if np.isnan(x) else x)\n",
    "\n",
    "\n",
    "# competition_open_since_year\n",
    "\n",
    "# frequency per year of existing competition_open_since_year data\n",
    "frequency = df1['competition_open_since_year'].value_counts(\n",
    "                                                normalize=True).reset_index().rename(\n",
    "                                                columns={'index': 'year', \n",
    "                                                         'competition_open_since_year': 'percent'})\n",
    "\n",
    "# True/False missing/Null Series\n",
    "missing = df1['competition_open_since_year'].isna()\n",
    "\n",
    "# Using Numpy's random.choice to fill out missing data based on the frequency of existing info\n",
    "df1.loc[missing,'competition_open_since_year'] = np.random.choice(frequency.year, \n",
    "                                                                  size=len(df1[missing]), \n",
    "                                                                  p=frequency.percent)\n",
    "\n",
    "\n",
    "# competition_open_since_month\n",
    "\n",
    "# frequency per month of existing competition_open_since_month data\n",
    "frequency = df1['competition_open_since_month'].value_counts(\n",
    "                                                normalize=True).reset_index().rename(\n",
    "                                                columns={'index': 'month', \n",
    "                                                         'competition_open_since_month': 'percent'})\n",
    "\n",
    "# True/False missing/Null Series\n",
    "missing = df1['competition_open_since_month'].isna()\n",
    "\n",
    "# Using Numpy's random.choice to fill out missing data based on the frequency of existing info\n",
    "df1.loc[missing,'competition_open_since_month'] = np.random.choice(frequency.month, \n",
    "                                                                   size=len(df1[missing]), \n",
    "                                                                   p=frequency.percent)\n",
    "\n",
    "# promo2_since_week AND promo2_since_year\n",
    "\n",
    "# the same date of sale will be used as a reference to fill in the NA values\n",
    "# then a new timedelta column will be created (promo2_duration)\n",
    "\n",
    "#promo2_since_week\n",
    "df1['promo2_since_week'] = df1[['date', 'promo2_since_week']].apply(lambda x: x['date'].week if np.isnan(x['promo2_since_week']) else x['promo2_since_week'], axis=1)\n",
    "\n",
    "# promo2_since_year\n",
    "df1['promo2_since_year'] = df1[['date', 'promo2_since_year']].apply(lambda x: x['date'].year if np.isnan(x['promo2_since_year']) else x['promo2_since_year'], axis=1)\n",
    "\n",
    "\n",
    "# promo_interval\n",
    "\n",
    "# filling in NA with 'none'\n",
    "df1['promo_interval'].fillna(value='none', inplace=True)\n",
    "# creating a column with current month\n",
    "df1['curr_month'] = df1['date'].dt.strftime('%b')\n",
    "# creating a column to indicate whether promo2 is active\n",
    "df1['promo2_active'] = df1.apply(lambda x: 1 if ((\n",
    "    x['curr_month'] in x['promo_interval'].split(',')) and (\n",
    "    x['date'] >= datetime.fromisocalendar(int(x['promo2_since_year']), int(x['promo2_since_week']), 1)) and (\n",
    "    x['promo'] == 1)) else 0, axis=1)"
   ]
  },
  {
   "cell_type": "markdown",
   "id": "a332ab3f",
   "metadata": {
    "heading_collapsed": true
   },
   "source": [
    "## <font color='#200CF'> 1.6. Changing Data Types </font>"
   ]
  },
  {
   "cell_type": "code",
   "execution_count": null,
   "id": "410d8b49",
   "metadata": {
    "ExecuteTime": {
     "end_time": "2021-09-29T21:02:45.882945Z",
     "start_time": "2021-09-29T21:02:45.877547Z"
    },
    "hidden": true
   },
   "outputs": [],
   "source": [
    "df1.dtypes"
   ]
  },
  {
   "cell_type": "code",
   "execution_count": null,
   "id": "0037c6e4",
   "metadata": {
    "ExecuteTime": {
     "end_time": "2021-09-29T21:02:45.930668Z",
     "start_time": "2021-09-29T21:02:45.884383Z"
    },
    "hidden": true
   },
   "outputs": [],
   "source": [
    "# Changing DTypes from float to integer\n",
    "\n",
    "df1['competition_distance'] = df1['competition_distance'].astype(int)\n",
    "df1['competition_open_since_month'] = df1['competition_open_since_month'].astype(int)\n",
    "df1['competition_open_since_year'] = df1['competition_open_since_year'].astype(int)\n",
    "df1['promo2_since_week'] = df1['promo2_since_week'].astype(int)\n",
    "df1['promo2_since_year'] = df1['promo2_since_year'].astype(int)"
   ]
  },
  {
   "cell_type": "markdown",
   "id": "23c18483",
   "metadata": {
    "heading_collapsed": true
   },
   "source": [
    "## <font color='#200CF'> 1.7. Descriptive Statistics </font>"
   ]
  },
  {
   "cell_type": "markdown",
   "id": "b74fef7f",
   "metadata": {
    "heading_collapsed": true,
    "hidden": true
   },
   "source": [
    "### <font color='#2365FF'> 1.7.0. Numeric vs Categorical - Attributes Split </font>"
   ]
  },
  {
   "cell_type": "code",
   "execution_count": null,
   "id": "a627141e",
   "metadata": {
    "ExecuteTime": {
     "end_time": "2021-09-29T21:02:46.081934Z",
     "start_time": "2021-09-29T21:02:45.932428Z"
    },
    "hidden": true
   },
   "outputs": [],
   "source": [
    "# dataframe - numeric attributes\n",
    "df_numeric = df1.select_dtypes(include=['int64', 'float64'])\n",
    "\n",
    "# dataframe - categorical attributes\n",
    "df_categorical = df1.select_dtypes(exclude=['int64', 'float64', 'datetime64[ns]'])"
   ]
  },
  {
   "cell_type": "markdown",
   "id": "b2a9e2e4",
   "metadata": {
    "heading_collapsed": true,
    "hidden": true
   },
   "source": [
    "### <font color='#2365FF'> 1.7.1. Numeric Attributes </font>"
   ]
  },
  {
   "cell_type": "code",
   "execution_count": null,
   "id": "07153cf1",
   "metadata": {
    "ExecuteTime": {
     "end_time": "2021-09-29T21:02:46.388997Z",
     "start_time": "2021-09-29T21:02:46.083820Z"
    },
    "hidden": true
   },
   "outputs": [],
   "source": [
    "# using DF describe() method\n",
    "df1.describe().T"
   ]
  },
  {
   "cell_type": "code",
   "execution_count": null,
   "id": "8b58de8d",
   "metadata": {
    "ExecuteTime": {
     "end_time": "2021-09-29T21:02:49.332121Z",
     "start_time": "2021-09-29T21:02:46.390771Z"
    },
    "hidden": true
   },
   "outputs": [],
   "source": [
    "# central tendency metrics - mean, median\n",
    "ct_mean = df_numeric.apply(np.mean)\n",
    "ct_median = df_numeric.apply(np.median)\n",
    "\n",
    "# dispersion metrics - std, min, max, range, skew, kurtosis\n",
    "d_std = df_numeric.apply(np.std)\n",
    "d_min = df_numeric.apply(min)\n",
    "d_max = df_numeric.apply(max)\n",
    "d_range = df_numeric.apply(lambda x: x.max() - x.min())\n",
    "d_skew = df_numeric.apply(lambda x: x.skew())\n",
    "d_kurtosis = df_numeric.apply(lambda x: x.kurtosis())\n",
    "\n",
    "metrics = pd.DataFrame({\n",
    "    'min': d_min, 'max': d_max, 'range': d_range, 'mean': ct_mean, \n",
    "    'median': ct_median, 'std': d_std, 'skew': d_skew, 'kurtosis': d_kurtosis\n",
    "})\n",
    "metrics"
   ]
  },
  {
   "cell_type": "markdown",
   "id": "c4365998",
   "metadata": {
    "hidden": true
   },
   "source": [
    "**competition_distance**\n",
    " - Skew: highly skewed data, high positive value means that the right-hand tail is much longer than the left-hand tail.\n",
    " - Kurtosis: increases as the tails become heavier, the high positive value indicates a very peaked curve.\n",
    "\n",
    "**competition_open_since_year**\n",
    " - Skew: highly skewed data, high negative value means that the left-hand tail is longer than the right-hand tail.\n",
    " - Kurtosis: increases as the tails become heavier, the high positive value indicates a very peaked curve.\n",
    "\n",
    "**sales**\n",
    " - Skewness is close to zero, indicating that the data is not too skewed"
   ]
  },
  {
   "cell_type": "markdown",
   "id": "babb577b",
   "metadata": {
    "heading_collapsed": true,
    "hidden": true
   },
   "source": [
    "### <font color='#2365FF'> 1.7.2. Categorical Attributes </font>"
   ]
  },
  {
   "cell_type": "code",
   "execution_count": null,
   "id": "70c783d3",
   "metadata": {
    "ExecuteTime": {
     "end_time": "2021-09-29T21:02:49.550175Z",
     "start_time": "2021-09-29T21:02:49.333809Z"
    },
    "hidden": true
   },
   "outputs": [],
   "source": [
    "# verifying unique valuesfor each categorical attribute\n",
    "df_categorical.apply(lambda x: len(x.unique()))"
   ]
  },
  {
   "cell_type": "markdown",
   "id": "a5220e6b",
   "metadata": {
    "hidden": true
   },
   "source": [
    "**BOXPLOT OF CATEGORICAL ATTRIBUTES**"
   ]
  },
  {
   "cell_type": "code",
   "execution_count": null,
   "id": "d9b901e8",
   "metadata": {
    "ExecuteTime": {
     "end_time": "2021-09-29T21:02:51.200740Z",
     "start_time": "2021-09-29T21:02:49.551963Z"
    },
    "hidden": true,
    "hide_input": true
   },
   "outputs": [],
   "source": [
    "# Boxplot - Categorical Attributes\n",
    "\n",
    "# not considering when: sales = 0 \n",
    "aux = df1[df1['sales'] > 0]\n",
    "\n",
    "plt.figure(figsize=(24,10))\n",
    "\n",
    "plt.subplot(1, 3, 1)\n",
    "ax1 = sns.boxplot(x='state_holiday', y='sales', data=aux)\n",
    "ax1.set_title('Boxplot - state_holiday', fontsize=18, pad=10)\n",
    "ax1.set_xticklabels(labels=['None', 'Public', 'Easter', 'Christmas'])\n",
    "\n",
    "plt.subplot(1, 3, 2)\n",
    "ax2 = sns.boxplot(x='store_type', y='sales', data=aux)\n",
    "ax2.set_title('Boxplot - store_type', fontsize=18, pad=10)\n",
    "\n",
    "plt.subplot(1, 3, 3)\n",
    "ax3 = sns.boxplot(x='assortment', y='sales', data=aux)\n",
    "ax3.set_title('Boxplot - assortment', fontsize=18, pad=10)\n",
    "\n",
    "plt.show()"
   ]
  },
  {
   "cell_type": "markdown",
   "id": "a31b9957",
   "metadata": {
    "hidden": true
   },
   "source": [
    "**BOXPLOT OF BINARY CATEGORICAL ATTRIBUTES**"
   ]
  },
  {
   "cell_type": "code",
   "execution_count": null,
   "id": "25f6b49d",
   "metadata": {
    "ExecuteTime": {
     "end_time": "2021-09-29T21:02:51.939584Z",
     "start_time": "2021-09-29T21:02:51.202398Z"
    },
    "hidden": true,
    "hide_input": true
   },
   "outputs": [],
   "source": [
    "# Boxplot - Binary ategorical Attributes\n",
    "\n",
    "plt.figure(figsize=(24,10))\n",
    "\n",
    "plt.subplot(1, 3, 1)\n",
    "ax1 = sns.boxplot(x='promo', y='sales', data=df1)\n",
    "ax1.set_title('Boxplot - promo', fontsize=18, pad=10)\n",
    "\n",
    "plt.subplot(1, 3, 2)\n",
    "ax2 = sns.boxplot(x='promo2_active', y='sales', data=df1)\n",
    "ax2.set_title('Boxplot - promo2_active', fontsize=18, pad=10)\n",
    "\n",
    "plt.subplot(1, 3, 3)\n",
    "ax3 = sns.boxplot(x='school_holiday', y='sales', data=df1)\n",
    "ax3.set_title('Boxplot - school_holiday', fontsize=18, pad=10)\n",
    "\n",
    "plt.show()"
   ]
  },
  {
   "cell_type": "markdown",
   "id": "c4b9ac0b",
   "metadata": {
    "heading_collapsed": true
   },
   "source": [
    "# <font color='#3F0094'> 2. Feature Egineering </font>"
   ]
  },
  {
   "cell_type": "markdown",
   "id": "2987587b",
   "metadata": {
    "heading_collapsed": true,
    "hidden": true
   },
   "source": [
    "## <font color='#200CF'> 2.0. Dataframe in Progress Backup </font>"
   ]
  },
  {
   "cell_type": "code",
   "execution_count": null,
   "id": "4bf3556e",
   "metadata": {
    "ExecuteTime": {
     "end_time": "2021-09-29T21:02:52.018878Z",
     "start_time": "2021-09-29T21:02:51.941352Z"
    },
    "hidden": true
   },
   "outputs": [],
   "source": [
    "df2 = df1.copy()"
   ]
  },
  {
   "cell_type": "markdown",
   "id": "b639718d",
   "metadata": {
    "heading_collapsed": true,
    "hidden": true
   },
   "source": [
    "## <font color='#200CF'> 2.1. Mind Map </font>"
   ]
  },
  {
   "cell_type": "code",
   "execution_count": null,
   "id": "423fdf35",
   "metadata": {
    "ExecuteTime": {
     "end_time": "2021-09-29T21:02:52.058873Z",
     "start_time": "2021-09-29T21:02:52.020680Z"
    },
    "hidden": true
   },
   "outputs": [],
   "source": [
    "# made on coggle.it\n",
    "Image('../img/mind_map01.png')"
   ]
  },
  {
   "cell_type": "markdown",
   "id": "9a7eccaa",
   "metadata": {
    "heading_collapsed": true,
    "hidden": true
   },
   "source": [
    "## <font color='#200CF'> 2.2. Hypothesis </font>"
   ]
  },
  {
   "cell_type": "markdown",
   "id": "06a26df4",
   "metadata": {
    "hidden": true
   },
   "source": [
    "**Based on Descriptive Statistics and on Mind Map**"
   ]
  },
  {
   "cell_type": "markdown",
   "id": "7b4052a3",
   "metadata": {
    "heading_collapsed": true,
    "hidden": true
   },
   "source": [
    "### <font color='#2365FF'> 2.2.1. Store-related Hypothesis </font>"
   ]
  },
  {
   "cell_type": "markdown",
   "id": "87f3c0da",
   "metadata": {
    "hidden": true
   },
   "source": [
    "\n",
    "**H1.** The larger the assortment the greater the global sales of the stores should be.\n",
    "\n",
    "**H2.** The median sales of stores with the largest assortment should be the highest.\n",
    "\n",
    "**H3.** The volume of sales varies according to the type of the store.\n",
    "\n",
    "**H4.** The average value of sales for a specific type of store is higher than the average value for other types (store types: a, b, c, d).\n",
    "\n",
    "**H5.** The sales revenue of stores are lower the closer the competitors are located.\n",
    "\n",
    "**H6.** The average sales value of stores with competitors whose distance is less than 1000 meters is lower than or equal to the average value of other stores.\n",
    "\n",
    "**H7.** The total sales revenue of stores with competitors for a longer time should be higher.\n",
    "\n",
    "**H8.** The average sales values of stores whose competitors opened less than 18 months ago is lower than the average values of other stores."
   ]
  },
  {
   "cell_type": "markdown",
   "id": "895348a0",
   "metadata": {
    "heading_collapsed": true,
    "hidden": true
   },
   "source": [
    "### <font color='#2365FF'> 2.2.2. Product-related Hypothesis </font>"
   ]
  },
  {
   "cell_type": "markdown",
   "id": "b9da69ed",
   "metadata": {
    "hidden": true
   },
   "source": [
    "**H9.** The sales revenue should be greater when running a promotion (promo) than when not running a promo.\n",
    "\n",
    "**H10.** The average sales value of stores should be greater when running a promotion (promo) than when not running a promo.\n",
    "\n",
    "**H11.** The average sales value of stores with continuing and consecutive promotion (promo2) should be greater than those that do not have extended promotion.\n",
    "\n",
    "**H12.** The sales revenue of stores running promo2 should grow over time.\n",
    "\n",
    "**H13.** The median sales value of stores running promo2 for a longer period of time (more than 12 months) should be higher than stores running promo2 for a shorter period of time."
   ]
  },
  {
   "cell_type": "markdown",
   "id": "36b3570d",
   "metadata": {
    "heading_collapsed": true,
    "hidden": true
   },
   "source": [
    "### <font color='#2365FF'> 2.2.3. Time-related Hypothesis </font>"
   ]
  },
  {
   "cell_type": "markdown",
   "id": "c20bbe67",
   "metadata": {
    "hidden": true
   },
   "source": [
    "**H14.** The average ticket per customer should be lower during holiday periods.\n",
    "\n",
    "**H15.** Sales during the Christmas holiday are expected to be the biggest of the year. .\n",
    "\n",
    "**H16.** Stores affected by the closure of public schools on school holidays should sell less, on average.\n",
    "\n",
    "**H17.** The revenue in the last quarter of the year should be higher than in the other quarters.\n",
    "\n",
    "**H18.** Sales behavior is not constant throughout the month, it should be higher in the first 7 days and decreases in the following weeks.\n",
    "\n",
    "**H19.** Average sales during the weekend should be lower than during the rest of the week."
   ]
  },
  {
   "cell_type": "markdown",
   "id": "e8ab0ff4",
   "metadata": {
    "heading_collapsed": true,
    "hidden": true
   },
   "source": [
    "## <font color='#200CF'> 2.3. Feature Engineering </font>"
   ]
  },
  {
   "cell_type": "code",
   "execution_count": null,
   "id": "564adddc",
   "metadata": {
    "ExecuteTime": {
     "end_time": "2021-09-29T21:04:10.393543Z",
     "start_time": "2021-09-29T21:02:52.061617Z"
    },
    "hidden": true
   },
   "outputs": [],
   "source": [
    "# year\n",
    "df2['year'] = df2['date'].dt.year\n",
    "\n",
    "# month\n",
    "df2['month'] = df2['date'].dt.month\n",
    "\n",
    "# day\n",
    "df2['day'] = df2['date'].dt.day\n",
    "\n",
    "# week_of_year\n",
    "df2['week_of_year'] = df2['date'].dt.isocalendar().week.astype('int64')\n",
    "\n",
    "# year_week\n",
    "df2['year_week'] = df2['date'].dt.strftime('%Y-%V')\n",
    "\n",
    "# competition_months_old\n",
    "# calculating the competition period, extracting the days and dividing by 30 to get the period in months\n",
    "df2['competition_months_old'] = df2.apply(lambda x: (\n",
    "    x['date'] - datetime(year=x['competition_open_since_year'], \n",
    "                         month=x['competition_open_since_month'], \n",
    "                         day=1)).days / 30, axis=1).astype(int)\n",
    "# assigning zero to negative values of competition_months_old\n",
    "# in this case it makes no sense to work with the time that is left for the competitor to open\n",
    "df2.loc[df2['competition_months_old'] < 0, 'competition_months_old'] = 0\n",
    "\n",
    "\n",
    "# promo2_months_old\n",
    "# calculation method: zero(0) if promo2 is zero(0) else (actual_date - promo2_starting_date) >> timedelta format \n",
    "# >> then use .days and divide by 30 to extract the number of months >> as integer\n",
    "df2['promo2_months_old'] = df2.apply(lambda x: 0 if x['promo2'] == 0 else (\n",
    "    x['date'] - datetime.fromisocalendar(x['promo2_since_year'], \n",
    "                                         x['promo2_since_week'], \n",
    "                                         1)).days / 30, axis=1).astype(int)\n",
    "# assigning zero to negative values of promo2_months_old\n",
    "# since the store is not yet participating (but will in the future)\n",
    "df2.loc[df2['promo2_months_old'] < 0, 'promo2_months_old'] = 0\n",
    "\n",
    "# assortment\n",
    "df2['assortment'] = df2['assortment'].map({'a': 'basic', 'b': 'extra', 'c': 'extended'})\n",
    "\n",
    "# state_holiday\n",
    "df2['state_holiday'] = df2['state_holiday'].map({'0': 'none', 'a': 'public', 'b': 'easter', 'c': 'christmas'})\n",
    "\n",
    "# =-=-=-=- WARNING: EDA USE ONLY -=-=-=-=\n",
    "# customer_avg_ticket\n",
    "df2['customers_avg_ticket'] = (df2['sales'] / df2['customers'])\n",
    "df2['customers_avg_ticket'].fillna(value=0, inplace=True)"
   ]
  },
  {
   "cell_type": "markdown",
   "id": "aae8c6da",
   "metadata": {
    "heading_collapsed": true
   },
   "source": [
    "# <font color='#3F0094'> 3. Feature Filtering </font>"
   ]
  },
  {
   "cell_type": "markdown",
   "id": "0e3aa5d0",
   "metadata": {
    "heading_collapsed": true,
    "hidden": true
   },
   "source": [
    "## <font color='#200CF'> 3.0. Dataframe in Progress Backup </font>"
   ]
  },
  {
   "cell_type": "code",
   "execution_count": null,
   "id": "c548be33",
   "metadata": {
    "ExecuteTime": {
     "end_time": "2021-09-29T21:04:10.608894Z",
     "start_time": "2021-09-29T21:04:10.395074Z"
    },
    "hidden": true
   },
   "outputs": [],
   "source": [
    "df3 = df2.copy()"
   ]
  },
  {
   "cell_type": "markdown",
   "id": "d5d09043",
   "metadata": {
    "heading_collapsed": true,
    "hidden": true
   },
   "source": [
    "## <font color='#200CF'> 3.1. Filtering Rows </font>"
   ]
  },
  {
   "cell_type": "code",
   "execution_count": null,
   "id": "2f23fa5b",
   "metadata": {
    "ExecuteTime": {
     "end_time": "2021-09-29T21:04:10.768123Z",
     "start_time": "2021-09-29T21:04:10.610438Z"
    },
    "hidden": true
   },
   "outputs": [],
   "source": [
    "# eliminating all records where stores are closed and sales are zero\n",
    "df3 = df3[(df3['open'] != 0) & (df3['sales'] > 0)]"
   ]
  },
  {
   "cell_type": "markdown",
   "id": "fb7d29ac",
   "metadata": {
    "heading_collapsed": true,
    "hidden": true
   },
   "source": [
    "## <font color='#200CF'> 3.2. Filtering Columns </font>"
   ]
  },
  {
   "cell_type": "markdown",
   "id": "5958d9ef",
   "metadata": {
    "hidden": true
   },
   "source": [
    "**customers:** the number of customers will not be available to be used in the model prediction, as it is an unknown and variable value in the future.\n",
    "\n",
    "**open:** column has record 1 only.\n",
    "\n",
    "**promo_interval, curr_month:** auxiliary columns already used in the feature engineering step.\n",
    "\n",
    "**Important Warning:** column **customers_avg_ticket** will only be used during EDA and will be discarded later."
   ]
  },
  {
   "cell_type": "code",
   "execution_count": null,
   "id": "0d1c7277",
   "metadata": {
    "ExecuteTime": {
     "end_time": "2021-09-29T21:04:10.871559Z",
     "start_time": "2021-09-29T21:04:10.769723Z"
    },
    "hidden": true
   },
   "outputs": [],
   "source": [
    "# list of columns to be droped\n",
    "cols_drop = ['customers', 'open', 'promo_interval', 'curr_month']\n",
    "df3.drop(cols_drop, axis=1, inplace=True)"
   ]
  },
  {
   "cell_type": "code",
   "execution_count": null,
   "id": "0ff4311f",
   "metadata": {
    "ExecuteTime": {
     "end_time": "2021-09-29T21:04:10.877063Z",
     "start_time": "2021-09-29T21:04:10.873070Z"
    },
    "hidden": true
   },
   "outputs": [],
   "source": [
    "df3.shape"
   ]
  },
  {
   "cell_type": "markdown",
   "id": "b519e2b6",
   "metadata": {
    "heading_collapsed": true
   },
   "source": [
    "# <font color='#3F0094'> 4. Exploratory Data Analysis </font>"
   ]
  },
  {
   "cell_type": "markdown",
   "id": "0256456d",
   "metadata": {
    "heading_collapsed": true,
    "hidden": true
   },
   "source": [
    "## <font color='#200CF'> 4.0. Dataframe in Progress Backup </font>"
   ]
  },
  {
   "cell_type": "code",
   "execution_count": null,
   "id": "a27f6221",
   "metadata": {
    "ExecuteTime": {
     "end_time": "2021-09-29T21:04:10.951442Z",
     "start_time": "2021-09-29T21:04:10.878412Z"
    },
    "hidden": true
   },
   "outputs": [],
   "source": [
    "# dataframe copy\n",
    "df4 = df3.copy()"
   ]
  },
  {
   "cell_type": "code",
   "execution_count": null,
   "id": "16497c67",
   "metadata": {
    "ExecuteTime": {
     "end_time": "2021-09-26T17:29:38.766066Z",
     "start_time": "2021-09-26T17:29:38.524058Z"
    },
    "code_folding": [],
    "hidden": true
   },
   "outputs": [],
   "source": [
    "# dataframe - numeric attributes - binary attributes droped\n",
    "df_numeric = df4.select_dtypes(include=['int64', 'float64'])\n",
    "# dataframe - categorical attributes\n",
    "df_categorical = df4.select_dtypes(exclude=['int64', 'float64', 'datetime64[ns]']).drop('year_week', axis=1)\n",
    "# dataframe - categorical attributes + binary variables\n",
    "df_cat_n_bin = df_categorical.join(df4[['promo', 'promo2', 'school_holiday']], how='left')"
   ]
  },
  {
   "cell_type": "markdown",
   "id": "3fe204eb",
   "metadata": {
    "heading_collapsed": true,
    "hidden": true
   },
   "source": [
    "## <font color='#200CF'> 4.1. Univariate Analysis </font>"
   ]
  },
  {
   "cell_type": "markdown",
   "id": "194d7858",
   "metadata": {
    "heading_collapsed": true,
    "hidden": true
   },
   "source": [
    "### <font color='#2365FF'> 4.1.1. Response Variable </font>"
   ]
  },
  {
   "cell_type": "code",
   "execution_count": null,
   "id": "78481367",
   "metadata": {
    "ExecuteTime": {
     "end_time": "2021-09-26T17:29:42.319592Z",
     "start_time": "2021-09-26T17:29:38.768326Z"
    },
    "hidden": true,
    "hide_input": false
   },
   "outputs": [],
   "source": [
    "# sales histogram\n",
    "plt.figure()\n",
    "ax = sns.histplot(data=df4, x='sales', stat='proportion', bins=100, kde=True)\n",
    "y_min, y_max = ax.get_ylim()\n",
    "\n",
    "ax.figure.set_size_inches(17, 7)\n",
    "ax.set_title('Sales Histogram', fontsize=20, pad=10)\n",
    "\n",
    "median = np.median(df_numeric['sales'])\n",
    "ax.vlines(x=median, ymin=0, ymax=y_max*0.9, linestyles='dashed', label='median', colors='firebrick')\n",
    "ax.annotate(f'median = {median}', xy=(median*1.15, y_max*0.8), fontsize=14, color='firebrick')\n",
    "\n",
    "plt.savefig('../img/univar_analysis/sales_histogram.png')\n",
    "plt.show()"
   ]
  },
  {
   "cell_type": "markdown",
   "id": "059573f3",
   "metadata": {
    "heading_collapsed": true,
    "hidden": true
   },
   "source": [
    "### <font color='#2365FF'> 4.1.2. Numeric Variable </font>"
   ]
  },
  {
   "cell_type": "code",
   "execution_count": null,
   "id": "df43b574",
   "metadata": {
    "ExecuteTime": {
     "end_time": "2021-09-26T17:29:42.325125Z",
     "start_time": "2021-09-26T17:29:42.321437Z"
    },
    "hidden": true
   },
   "outputs": [],
   "source": [
    "df_numeric.shape"
   ]
  },
  {
   "cell_type": "markdown",
   "id": "ffc8a312",
   "metadata": {
    "hidden": true
   },
   "source": [
    "**NUMERIC VARIABLES HISTOGRAMS**"
   ]
  },
  {
   "cell_type": "code",
   "execution_count": null,
   "id": "14a50b0d",
   "metadata": {
    "ExecuteTime": {
     "end_time": "2021-09-26T17:29:47.770144Z",
     "start_time": "2021-09-26T17:29:42.326720Z"
    },
    "hidden": true,
    "hide_input": true
   },
   "outputs": [],
   "source": [
    "# ploting numeric attributes histograms\n",
    "\n",
    "axes = list()\n",
    "n_bins = 50\n",
    "n=0\n",
    "\n",
    "fig, axes = plt.subplots(nrows=4, ncols=4)\n",
    "fig.set_size_inches(25, 25)\n",
    "\n",
    "for i in range(4):\n",
    "    for j in range(4):\n",
    "        if n < 15:\n",
    "            axes[i][j].hist(df_numeric.iloc[:, n], bins=n_bins)\n",
    "            axes[i][j].set_title(df_numeric.iloc[:, n].name)\n",
    "            n += 1\n",
    "\n",
    "# plt.savefig('../img/univar_analysis/numeric_attr_histograms.png')\n",
    "fig;"
   ]
  },
  {
   "cell_type": "code",
   "execution_count": null,
   "id": "0b749871",
   "metadata": {
    "ExecuteTime": {
     "end_time": "2021-09-26T17:29:49.023437Z",
     "start_time": "2021-09-26T17:29:47.771926Z"
    },
    "code_folding": [],
    "hidden": true,
    "hide_input": true
   },
   "outputs": [],
   "source": [
    "# competition_distance\n",
    "\n",
    "plt.figure(figsize=(20,10))\n",
    "plt.suptitle('Competitor Distance Analysis', fontsize=22)\n",
    "\n",
    "plt.subplot(1, 2, 1)\n",
    "ax1 = sns.histplot(data=df4, x='competition_distance', bins=100)\n",
    "ax1.set_title(\"Histogram\", fontsize=18, pad=10)\n",
    "\n",
    "# cumulative counts as bins increase. \n",
    "plt.subplot(1, 2, 2)\n",
    "ax2 = sns.histplot(data=df4, x='competition_distance', bins=100, cumulative=True)\n",
    "ax2.set_title(\"Cumulative Histogram\", fontsize=18, pad=10)\n",
    "\n",
    "# plt.savefig('../img/univar_analysis/competitor_distance.png')\n",
    "plt.show()"
   ]
  },
  {
   "cell_type": "code",
   "execution_count": null,
   "id": "d00afef8",
   "metadata": {
    "ExecuteTime": {
     "end_time": "2021-09-26T17:29:51.352206Z",
     "start_time": "2021-09-26T17:29:49.025305Z"
    },
    "code_folding": [],
    "hidden": true,
    "hide_input": true
   },
   "outputs": [],
   "source": [
    "# competition_open_since_year -- competition_months_old\n",
    "\n",
    "plt.figure(figsize=(20,20))\n",
    "plt.suptitle('Competition Over Time', fontsize=22)\n",
    "\n",
    "# analysing values between 1985 and present day (30 years)\n",
    "plt.subplot(2, 2, 1)\n",
    "ax1 = sns.histplot(data=df4.query(\"competition_open_since_year > 1985\"), x='competition_open_since_year', bins=30)\n",
    "ax1.set_title(\"Histogram of years when competitors opened\", fontsize=18, pad=10)\n",
    "ax1.set_xlabel(\"\")\n",
    "\n",
    "plt.subplot(2, 2, 2)\n",
    "ax1 = sns.histplot(data=df4.query(\"competition_open_since_year > 1985\"), x='competition_open_since_year', bins=30, cumulative=True)\n",
    "ax1.set_title(\"Histogram of years when competitors opened\\nCumulative\", fontsize=18, pad=10)\n",
    "ax1.set_xlabel(\"\")\n",
    "\n",
    "# analysing values greater than 0 and lower than 360 (30 years)\n",
    "plt.subplot(2, 2, 3)\n",
    "ax2 = sns.histplot(data=df4.query(\"competition_months_old > 0 and competition_months_old < 360\"), x='competition_months_old', bins=30)\n",
    "ax2.set_title(\"Histogram of time elapsed since \\ncompetitors' inauguration (in months)\", fontsize=18, pad=10)\n",
    "ax2.set_xlabel(\"\")\n",
    "\n",
    "plt.subplot(2, 2, 4)\n",
    "ax2 = sns.histplot(data=df4.query(\"competition_months_old > 0 and competition_months_old < 360\"), x='competition_months_old', bins=30, cumulative=True)\n",
    "ax2.set_title(\"Histogram of time elapsed since competitors' \\ninauguration (in months) - Cumulative\", fontsize=18, pad=10)\n",
    "ax2.set_xlabel(\"\")\n",
    "\n",
    "# plt.savefig('../img/univar_analysis/competition_time.png')\n",
    "plt.show()"
   ]
  },
  {
   "cell_type": "code",
   "execution_count": null,
   "id": "f4793e5c",
   "metadata": {
    "ExecuteTime": {
     "end_time": "2021-09-26T17:29:53.176906Z",
     "start_time": "2021-09-26T17:29:51.353994Z"
    },
    "code_folding": [],
    "hidden": true,
    "hide_input": true
   },
   "outputs": [],
   "source": [
    "# promo2_since_year -- promo2_months_old\n",
    "\n",
    "plt.figure(figsize=(20,20))\n",
    "plt.suptitle('Extended Promotion Analysis', fontsize=22)\n",
    "\n",
    "# \n",
    "plt.subplot(2, 2, 1)\n",
    "ax1 = sns.histplot(data=df4, x='promo2_since_year', bins = 7)\n",
    "ax1.set_title(\"Histogram of years when extended promo started\", fontsize=18, pad=10)\n",
    "ax1.set_xlabel(\"\")\n",
    "\n",
    "plt.subplot(2, 2, 2)\n",
    "ax1 = sns.histplot(data=df4, x='promo2_since_year', bins=50, cumulative=True)\n",
    "ax1.set_title(\"Histogram of years when extended promo started \\nCumulative\", fontsize=18, pad=10)\n",
    "ax1.set_xlabel(\"\")\n",
    "\n",
    "\n",
    "# analysing values greater than zero\n",
    "plt.subplot(2, 2, 3)\n",
    "ax2 = sns.histplot(data=df4.query(\"promo2_months_old > 0\"), x='promo2_months_old', bins=14)\n",
    "ax2.set_title(\"Histogram of time elapsed since \\nextended promo started (in months)\", fontsize=18, pad=10)\n",
    "ax2.set_xlabel(\"\")\n",
    "ax2.set_xticks(ticks=np.arange(0, 72, 6))\n",
    "\n",
    "plt.subplot(2, 2, 4)\n",
    "ax2 = sns.histplot(data=df4.query(\"promo2_months_old > 0\"), x='promo2_months_old', bins=14, cumulative=True)\n",
    "ax2.set_title(\"Histogram of time elapsed since extended \\npromo started (in months) - Cumulative\", fontsize=18, pad=10)\n",
    "ax2.set_xlabel(\"\")\n",
    "ax2.set_xticks(ticks=np.arange(0, 72, 6))\n",
    "\n",
    "# plt.savefig('../img/univar_analysis/promo2_time.png')\n",
    "plt.show()"
   ]
  },
  {
   "cell_type": "code",
   "execution_count": null,
   "id": "350b9338",
   "metadata": {
    "ExecuteTime": {
     "end_time": "2021-09-26T17:29:59.647127Z",
     "start_time": "2021-09-26T17:29:53.178680Z"
    },
    "code_folding": [],
    "hidden": true,
    "hide_input": true
   },
   "outputs": [],
   "source": [
    "# histograms - customers_avg_ticket AND sales\n",
    "\n",
    "plt.figure(figsize=(20, 16))\n",
    "\n",
    "plt.subplot(2, 1, 1)\n",
    "ax1 = sns.histplot(data=df4, x='customers_avg_ticket', stat='proportion', bins=100, kde=True)\n",
    "ax1.set_title('Customer Average Ticket Histogram', fontsize=20, pad=15)\n",
    "ax1.set_xlabel('')\n",
    "ax1.set_xlim(left=0)\n",
    "median1 = np.median(df4['customers_avg_ticket'])\n",
    "_, y1_max = ax1.get_ylim()\n",
    "ax1.vlines(x=median1, ymin=0, ymax=y1_max*0.9, linestyles='dashed', label='median', colors='firebrick')\n",
    "ax1.annotate(f'median = $ {median1} / customer', xy=(median1*1.15, y1_max*0.8), fontsize=14, color='firebrick')\n",
    "\n",
    "\n",
    "plt.subplot(2, 1, 2)\n",
    "ax2 = sns.histplot(data=df4, x='sales', stat='proportion', bins=100, kde=True)\n",
    "ax2.set_title('Sales Histogram', fontsize=20, pad=10)\n",
    "ax2.set_xlim(left=0)\n",
    "median2 = np.median(df4['sales'])\n",
    "_, y2_max = ax2.get_ylim()\n",
    "ax2.vlines(x=median2, ymin=0, ymax=y2_max*0.9, linestyles='dashed', label='median', colors='firebrick')\n",
    "ax2.annotate(f'median = {median2}', xy=(median2*1.15, y2_max*0.8), fontsize=14, color='firebrick')\n",
    "\n",
    "# plt.savefig('../img/univar_analysis/customer_ticket_histogram.png')\n",
    "plt.show()"
   ]
  },
  {
   "cell_type": "markdown",
   "id": "fabe25fe",
   "metadata": {
    "heading_collapsed": true,
    "hidden": true
   },
   "source": [
    "### <font color='#2365FF'> 4.1.3. Categorical Variable </font>"
   ]
  },
  {
   "cell_type": "markdown",
   "id": "318d73cd",
   "metadata": {
    "hidden": true
   },
   "source": [
    "**STATE HOLIDAY**"
   ]
  },
  {
   "cell_type": "code",
   "execution_count": null,
   "id": "38f38c8a",
   "metadata": {
    "ExecuteTime": {
     "end_time": "2021-09-26T17:29:59.686720Z",
     "start_time": "2021-09-26T17:29:59.648853Z"
    },
    "hidden": true,
    "hide_input": true
   },
   "outputs": [],
   "source": [
    "df4.query(\"state_holiday != 'none'\").value_counts(subset='state_holiday')"
   ]
  },
  {
   "cell_type": "code",
   "execution_count": null,
   "id": "8c1f5837",
   "metadata": {
    "ExecuteTime": {
     "end_time": "2021-09-26T17:30:00.357657Z",
     "start_time": "2021-09-26T17:29:59.688228Z"
    },
    "hidden": true,
    "hide_input": true
   },
   "outputs": [],
   "source": [
    "# state_holiday\n",
    "# not considering regular day -> state_holiday == 'none'\n",
    "\n",
    "plt.figure(figsize=(20,10))\n",
    "\n",
    "plt.subplot(1, 2, 1)\n",
    "ax1 = sns.countplot(x='state_holiday', data=df4.query(\"state_holiday != 'none'\"))\n",
    "# ax.figure.set_size_inches(10, 10)\n",
    "ax1.set_title('Countplot: State Holiday', fontsize=20, pad=10)\n",
    "ax1.set_xlabel('')\n",
    "\n",
    "plt.subplot(1, 2, 2)\n",
    "ax2 = sns.histplot(x='sales', data=df4.query(\"state_holiday != 'none'\"), hue='state_holiday', kde=True)\n",
    "ax2.set_title('Sales Histogram \\nAccording to State Holiday', fontsize=20, pad=10)\n",
    "ax2.set_xlabel('')\n",
    "\n",
    "plt.show()"
   ]
  },
  {
   "cell_type": "markdown",
   "id": "a6b33139",
   "metadata": {
    "hidden": true
   },
   "source": [
    "**STORE TYPES**"
   ]
  },
  {
   "cell_type": "code",
   "execution_count": null,
   "id": "cf208d6c",
   "metadata": {
    "ExecuteTime": {
     "end_time": "2021-09-26T17:30:00.404818Z",
     "start_time": "2021-09-26T17:30:00.359378Z"
    },
    "hidden": true,
    "hide_input": true
   },
   "outputs": [],
   "source": [
    "df4.value_counts(subset='store_type')"
   ]
  },
  {
   "cell_type": "code",
   "execution_count": null,
   "id": "66ced0e3",
   "metadata": {
    "ExecuteTime": {
     "end_time": "2021-09-26T17:30:05.431001Z",
     "start_time": "2021-09-26T17:30:00.406415Z"
    },
    "hidden": true,
    "hide_input": true
   },
   "outputs": [],
   "source": [
    "# store_type\n",
    "\n",
    "plt.figure(figsize=(20,10))\n",
    "\n",
    "plt.subplot(1, 2, 1)\n",
    "ax1 = sns.countplot(x='store_type', data=df4, order=['a','b','c','d'])\n",
    "# ax.figure.set_size_inches(10, 10)\n",
    "ax1.set_title('Countplot: Store Types', fontsize=20, pad=10)\n",
    "ax1.set_xlabel('')\n",
    "\n",
    "plt.subplot(1, 2, 2)\n",
    "ax2 = sns.histplot(x='sales', data=df4, hue='store_type', stat='percent', bins=50, hue_order=['a','b','c','d'], kde=True)\n",
    "ax2.set_title('Sales Histogram \\nAccording to Store Types', fontsize=20, pad=10)\n",
    "ax2.set_xlabel('')\n",
    "\n",
    "plt.show()"
   ]
  },
  {
   "cell_type": "markdown",
   "id": "919d3744",
   "metadata": {
    "hidden": true
   },
   "source": [
    "**ASSORTMENT**"
   ]
  },
  {
   "cell_type": "code",
   "execution_count": null,
   "id": "2221c4b9",
   "metadata": {
    "ExecuteTime": {
     "end_time": "2021-09-26T17:30:05.481688Z",
     "start_time": "2021-09-26T17:30:05.432793Z"
    },
    "hidden": true,
    "hide_input": true
   },
   "outputs": [],
   "source": [
    "df4['assortment'].value_counts()"
   ]
  },
  {
   "cell_type": "code",
   "execution_count": null,
   "id": "45fb26a9",
   "metadata": {
    "ExecuteTime": {
     "end_time": "2021-09-26T17:30:10.100040Z",
     "start_time": "2021-09-26T17:30:05.483079Z"
    },
    "hidden": true,
    "hide_input": true
   },
   "outputs": [],
   "source": [
    "# assortment\n",
    "\n",
    "plt.figure(figsize=(20,10))\n",
    "\n",
    "plt.subplot(1, 2, 1)\n",
    "ax1 = sns.countplot(x='assortment', data=df4, order=['basic','extended','extra'])\n",
    "# ax.figure.set_size_inches(10, 10)\n",
    "ax1.set_title('Countplot: Assortment Level', fontsize=20, pad=10)\n",
    "ax1.set_xlabel('')\n",
    "\n",
    "plt.subplot(1, 2, 2)\n",
    "ax2 = sns.histplot(x='sales', data=df4, hue='assortment', stat='percent', bins=50, hue_order=['basic','extended','extra'], kde=True)\n",
    "ax2.set_title('Sales Histogram \\nAccording to Assortment Level', fontsize=20, pad=10)\n",
    "ax2.set_xlabel('')\n",
    "\n",
    "plt.show()"
   ]
  },
  {
   "cell_type": "markdown",
   "id": "bd8c9524",
   "metadata": {
    "heading_collapsed": true,
    "hidden": true
   },
   "source": [
    "## <font color='#200CF'> 4.2. Bivariate Analysis </font>"
   ]
  },
  {
   "cell_type": "markdown",
   "id": "78d8c2cc",
   "metadata": {
    "heading_collapsed": true,
    "hidden": true
   },
   "source": [
    "### <font color='#2365FF'> Hypothesis H1. </font>\n",
    "\n",
    "**The larger the assortment the greater the global sales of the stores should be.**"
   ]
  },
  {
   "cell_type": "code",
   "execution_count": null,
   "id": "777939fb",
   "metadata": {
    "ExecuteTime": {
     "end_time": "2021-09-26T17:30:11.636386Z",
     "start_time": "2021-09-26T17:30:10.101872Z"
    },
    "hidden": true
   },
   "outputs": [],
   "source": [
    "# group by assortment then sum the sales\n",
    "aux1 = df4[['assortment', 'sales']].groupby('assortment').sum().reset_index()\n",
    "# group by year-weak an by assortment then sum the sales\n",
    "aux2 = df4[['year_week', 'assortment', 'sales']].groupby(['year_week', 'assortment']).sum().reset_index()\n",
    "# pivoting - each year-week in a row and differents assortments in the columns\n",
    "aux2 = aux2.pivot(index='year_week', columns='assortment', values='sales')\n",
    "\n",
    "plt.figure(figsize=(22, 18))\n",
    "plt.suptitle('Global Sales Analysis by Assortment')\n",
    "\n",
    "plt.subplot(2, 2, 1)\n",
    "sns.barplot(x='assortment', y='sales', data=aux1)\n",
    "plt.xlabel('')\n",
    "plt.ylabel('Sales Revenue')\n",
    "\n",
    "plt.subplot(2, 2, 2)\n",
    "sns.lineplot(data=aux2)\n",
    "plt.xticks(ticks=[10,34,58,82,106,130], fontsize=12)\n",
    "plt.xlabel('Year-Week', fontsize=15)\n",
    "\n",
    "plt.subplot(2, 2, 3)\n",
    "sns.lineplot(data=aux2[['basic', 'extended']])\n",
    "plt.xticks(ticks=[10,34,58,82,106,130], fontsize=12)\n",
    "plt.xlabel('Year-Week', fontsize=15)\n",
    "plt.ylabel('Sales Revenue')\n",
    "\n",
    "plt.subplot(2, 2, 4)\n",
    "sns.lineplot(data=aux2[['extra']])\n",
    "plt.xticks(ticks=[10,34,58,82,106,130], fontsize=12)\n",
    "plt.xlabel('Year-Week', fontsize=15)\n",
    "\n",
    "# plt.savefig('../img/bivar_analysis/assortment_global_sales.png')\n",
    "plt.show()"
   ]
  },
  {
   "cell_type": "markdown",
   "id": "446cf1c0",
   "metadata": {
    "hidden": true
   },
   "source": [
    "<font color='firebrick'>**The number of stores with 'basic' and 'extended' assortment level is much higher (roughly fifty times greater) than the number of stores with 'extra' assortment level, so the sales volume of 'extra' assortment level stores is much smaller when compared to the other types of stores.**</font>"
   ]
  },
  {
   "cell_type": "markdown",
   "id": "313a9f08",
   "metadata": {
    "heading_collapsed": true,
    "hidden": true
   },
   "source": [
    "### <font color='#2365FF'> Hypothesis H2. </font>\n",
    "\n",
    "**The median sales of stores with the largest assortment should be the highest.**"
   ]
  },
  {
   "cell_type": "code",
   "execution_count": null,
   "id": "2714d57f",
   "metadata": {
    "ExecuteTime": {
     "end_time": "2021-09-26T17:30:11.742632Z",
     "start_time": "2021-09-26T17:30:11.637922Z"
    },
    "hidden": true
   },
   "outputs": [],
   "source": [
    "aux1 = df4[['assortment', 'sales']].groupby('assortment').aggregate(func=['count', 'sum', 'median']).droplevel(level=0, axis='columns')\n",
    "aux1"
   ]
  },
  {
   "cell_type": "code",
   "execution_count": null,
   "id": "187f8af8",
   "metadata": {
    "ExecuteTime": {
     "end_time": "2021-09-26T17:30:12.021080Z",
     "start_time": "2021-09-26T17:30:11.744216Z"
    },
    "hidden": true
   },
   "outputs": [],
   "source": [
    "# median sales by assortment - bar plot\n",
    "\n",
    "aux1 = df4[['assortment', 'sales']].groupby('assortment').aggregate(func=['count', 'sum', 'median']).droplevel(level=0, axis='columns')\n",
    "\n",
    "plt.figure(figsize=(18, 9))\n",
    "plt.title('Medain Value of Sales by Assortment', fontsize=22)\n",
    "sns.barplot(x=aux1.index, y='median', data=aux1)\n",
    "plt.xlabel('')\n",
    "plt.ylabel('Median Sales Value', fontsize=16)\n",
    "# plt.savefig('../img/bivar_analysis/assortment_median_sales.png')\n",
    "plt.show()"
   ]
  },
  {
   "cell_type": "markdown",
   "id": "5f617a97",
   "metadata": {
    "hidden": true
   },
   "source": [
    "**Although the total number of sales of stores with the 'extra' assortment is much smaller, the median sales value of these stores is higher than the median sales value of the other stores.**"
   ]
  },
  {
   "cell_type": "code",
   "execution_count": null,
   "id": "ac598b25",
   "metadata": {
    "ExecuteTime": {
     "end_time": "2021-09-26T17:30:12.471209Z",
     "start_time": "2021-09-26T17:30:12.022711Z"
    },
    "hidden": true
   },
   "outputs": [],
   "source": [
    "# The bootstrap (sampling with replacement from a data set) is a powerful\n",
    "# tool for assessing the variability of a sample statistic.\n",
    "\n",
    "# using to calculate the confidence interval for the median sales value,\n",
    "# according to the store assortment level, with a confidence level of 95%.\n",
    "\n",
    "# selecting all sales revenue according to the assortment level\n",
    "sales_basic_assort = df4.loc[df4['assortment'] == 'basic', 'sales']\n",
    "sales_extended_assort = df4.loc[df4['assortment'] == 'extended', 'sales']\n",
    "sales_extra_assort = df4.loc[df4['assortment'] == 'extra', 'sales']\n",
    "\n",
    "# bootstrapp each series of values, take a sample of 500 values, \n",
    "# caluculate its median and repeat the process 500 times\n",
    "boot_basic    = bootstrap(sales_basic_assort, estimate = 'median', n_repeat=500, n_sample=500, ci=99)\n",
    "boot_extended = bootstrap(sales_extended_assort, estimate = 'median', n_repeat=500, n_sample=500, ci=99)\n",
    "boot_extra    = bootstrap(sales_extra_assort, estimate = 'median', n_repeat=500, n_sample=500, ci=99)\n",
    "\n",
    "assortment_bootstrap_statistics = pd.DataFrame([boot_basic, boot_extended, boot_extra], \n",
    "                                               columns = ['statistic_mean', 'standard_error', 'lower_ci', 'upper_ci'], \n",
    "                                               index   = ['basic', 'extended', 'extra'])\n",
    "assortment_bootstrap_statistics"
   ]
  },
  {
   "cell_type": "markdown",
   "id": "1630763c",
   "metadata": {
    "ExecuteTime": {
     "end_time": "2021-09-22T14:10:08.653004Z",
     "start_time": "2021-09-22T14:10:08.646659Z"
    },
    "heading_collapsed": true,
    "hidden": true
   },
   "source": [
    "### <font color='#2365FF'> Hypothesis H3. </font>\n",
    "\n",
    "**The volume of sales varies according to the type of the store.**"
   ]
  },
  {
   "cell_type": "code",
   "execution_count": null,
   "id": "80216c2a",
   "metadata": {
    "ExecuteTime": {
     "end_time": "2021-09-26T17:30:12.537522Z",
     "start_time": "2021-09-26T17:30:12.473032Z"
    },
    "hidden": true
   },
   "outputs": [],
   "source": [
    "# group by assortment then sum the sales\n",
    "aux1 = df4[['store_type', 'sales']].groupby('store_type').sum().reset_index()\n",
    "aux1['sales_share'] = aux1['sales'] / aux1['sales'].sum()\n",
    "aux1"
   ]
  },
  {
   "cell_type": "code",
   "execution_count": null,
   "id": "156562f6",
   "metadata": {
    "ExecuteTime": {
     "end_time": "2021-09-26T17:30:14.057781Z",
     "start_time": "2021-09-26T17:30:12.539184Z"
    },
    "hidden": true
   },
   "outputs": [],
   "source": [
    "# group by assortment then sum the sales\n",
    "aux1 = df4[['store_type', 'sales']].groupby('store_type').sum().reset_index()\n",
    "# group by year-weak an by assortment then sum the sales\n",
    "aux2 = df4[['year_week', 'store_type', 'sales']].groupby(['year_week', 'store_type']).sum().reset_index()\n",
    "# pivoting - each year-week in a row and differents assortments in the columns\n",
    "aux2 = aux2.pivot(index='year_week', columns='store_type', values='sales')\n",
    "\n",
    "plt.figure(figsize=(22, 18))\n",
    "plt.suptitle('Global Sales Analysis by Store Type')\n",
    "\n",
    "plt.subplot(2, 2, 1)\n",
    "sns.barplot(x='store_type', y='sales', data=aux1)\n",
    "plt.xlabel('')\n",
    "plt.ylabel('Sales Revenue')\n",
    "\n",
    "plt.subplot(2, 2, 2)\n",
    "sns.lineplot(data=aux2)\n",
    "plt.xticks(ticks=[10,34,58,82,106,130], fontsize=12)\n",
    "plt.xlabel('Year-Week', fontsize=15)\n",
    "\n",
    "plt.subplot(2, 2, 3)\n",
    "sns.lineplot(data=aux2[['a', 'd']])\n",
    "plt.xticks(ticks=[10,34,58,82,106,130], fontsize=12)\n",
    "plt.xlabel('Year-Week', fontsize=15)\n",
    "plt.ylabel('Sales Revenue')\n",
    "\n",
    "plt.subplot(2, 2, 4)\n",
    "sns.lineplot(data=aux2[['b', 'c']])\n",
    "plt.xticks(ticks=[10,34,58,82,106,130], fontsize=12)\n",
    "plt.xlabel('Year-Week', fontsize=15)\n",
    "\n",
    "# plt.savefig('../img/bivar_analysis/store_type_global_sales.png')\n",
    "plt.show()"
   ]
  },
  {
   "cell_type": "markdown",
   "id": "ec9941dc",
   "metadata": {
    "hidden": true
   },
   "source": [
    "<font color='firebrick'>**Approximately 54% of sales come from type A stores, followed by type 3 stores with 30%, 13% come from type C stores and less than 3% from type B stores.**</font>"
   ]
  },
  {
   "cell_type": "markdown",
   "id": "1db3ec57",
   "metadata": {
    "heading_collapsed": true,
    "hidden": true
   },
   "source": [
    "### <font color='#2365FF'> Hypothesis H4. </font>\n",
    "\n",
    "**The average value of sales for a specific type of store is higher than the average value for other types (store types: a, b, c, d).**"
   ]
  },
  {
   "cell_type": "code",
   "execution_count": null,
   "id": "2c90ef43",
   "metadata": {
    "ExecuteTime": {
     "end_time": "2021-09-26T17:30:14.133003Z",
     "start_time": "2021-09-26T17:30:14.059474Z"
    },
    "hidden": true,
    "scrolled": false
   },
   "outputs": [],
   "source": [
    "df4[['store_type', 'sales']].groupby('store_type').aggregate(func=['count', 'sum', 'mean']).reset_index()"
   ]
  },
  {
   "cell_type": "code",
   "execution_count": null,
   "id": "a71f0c15",
   "metadata": {
    "ExecuteTime": {
     "end_time": "2021-09-26T17:30:22.747537Z",
     "start_time": "2021-09-26T17:30:14.134547Z"
    },
    "hidden": true
   },
   "outputs": [],
   "source": [
    "# store-types / assortment - bar plot\n",
    "\n",
    "# A bar plot represents an estimate of Central Tendency (MEAN) for a numeric variable with the height of\n",
    "# each rectangle and provides some indication of the uncertainty around that estimate using error bars.\n",
    "\n",
    "plt.figure(figsize=(18, 9))\n",
    "plt.title('Average Sales by Store Types', fontsize=22)\n",
    "\n",
    "# ci -> confidence interval of 95%\n",
    "sns.barplot(x='store_type', y='sales', order=['a', 'b', 'c', 'd'], data=df4, ci=95)\n",
    "plt.xlabel('')\n",
    "plt.ylabel('Average Sales Value')\n",
    "\n",
    "# plt.savefig('../img/bivar_analysis/store_type_avg_sales.png')\n",
    "plt.show()"
   ]
  },
  {
   "cell_type": "markdown",
   "id": "4c7017f7",
   "metadata": {
    "hidden": true
   },
   "source": [
    "<font color='red'> **The average sales value of type B stores seems to be considerably greater than the average sales value of the other types of stores.** </font>\n",
    "\n",
    "<b> Performing a Statistic Test </b>"
   ]
  },
  {
   "cell_type": "markdown",
   "id": "75cab16f",
   "metadata": {
    "hidden": true
   },
   "source": [
    "**Hipothesis**: $H_0$ e $H_1$\n",
    "\n",
    "The null hypothesis always contains an equality claim: equal to; less than or equal to; greater than or equal to. So:\n",
    "\n",
    "$\\mu_1 \\Rightarrow$ Average Sales Value of Type B Stores.\n",
    "\n",
    "$\\mu_2 \\Rightarrow$ Average Sales Value of Typea A, C or D Stores.\n",
    "\n",
    "$\n",
    "\\begin{cases}\n",
    "H_0: \\mu_1 \\leq \\mu_2\\\\\n",
    "H_1: \\mu_1 > \\mu_2\n",
    "\\end{cases}\n",
    "$"
   ]
  },
  {
   "cell_type": "code",
   "execution_count": null,
   "id": "00409925",
   "metadata": {
    "ExecuteTime": {
     "end_time": "2021-09-26T17:30:23.035683Z",
     "start_time": "2021-09-26T17:30:22.749423Z"
    },
    "hidden": true,
    "hide_input": false
   },
   "outputs": [],
   "source": [
    "# using DescrStatsW and CompareMeans from statsmodels\n",
    "\n",
    "# getting 2000 random sample of sales values for each type of store type\n",
    "sales_store_type_a = df4.loc[df4['store_type'] == 'a', 'sales'].sample(n=2000)\n",
    "sales_store_type_b = df4.loc[df4['store_type'] == 'b', 'sales'].sample(n=2000)\n",
    "sales_store_type_c = df4.loc[df4['store_type'] == 'c', 'sales'].sample(n=2000)\n",
    "sales_store_type_d = df4.loc[df4['store_type'] == 'd', 'sales'].sample(n=2000)\n",
    "\n",
    "# calculating statistics with DescrStatsW\n",
    "stats_a = DescrStatsW(sales_store_type_a)\n",
    "stats_b = DescrStatsW(sales_store_type_b)\n",
    "stats_c = DescrStatsW(sales_store_type_c)\n",
    "stats_d = DescrStatsW(sales_store_type_d)\n",
    "\n",
    "# using CompareMeans\n",
    "test_b_a = CompareMeans(stats_b, stats_a)\n",
    "test_b_c = CompareMeans(stats_b, stats_c)\n",
    "test_b_d = CompareMeans(stats_b, stats_d)\n",
    "\n",
    "# performing ztest_ind\n",
    "# H_null: Average Sales Value of Type B Stores is less than or equal to Types (A, C, D) Stores\n",
    "\n",
    "z_b_a, pvalue_b_a = test_b_a.ztest_ind(alternative='larger', value=0)\n",
    "z_b_c, pvalue_b_c = test_b_c.ztest_ind(alternative='larger', value=0)\n",
    "z_b_d, pvalue_b_d = test_b_d.ztest_ind(alternative='larger', value=0)\n",
    "\n",
    "pd.DataFrame({\n",
    "    'z': [z_b_a, z_b_c, z_b_d],\n",
    "    'p_value': [round(pvalue_b_a, 6), round(pvalue_b_c, 6), round(pvalue_b_d, 6)],\n",
    "    'H_null_rejected': [pvalue_b_a < 0.05, pvalue_b_c < 0.05, pvalue_b_d < 0.05]},\n",
    "    index=['b_a', 'b_c', 'b_d'])\n"
   ]
  },
  {
   "cell_type": "markdown",
   "id": "d0322f26",
   "metadata": {
    "hidden": true
   },
   "source": [
    "<font color='black'><b> Store_Type per Assortment -vs- Sales </b></font>"
   ]
  },
  {
   "cell_type": "code",
   "execution_count": null,
   "id": "83e571f8",
   "metadata": {
    "ExecuteTime": {
     "end_time": "2021-09-26T17:30:23.170305Z",
     "start_time": "2021-09-26T17:30:23.037236Z"
    },
    "hidden": true
   },
   "outputs": [],
   "source": [
    "df4[['store_type', 'assortment', 'sales']].groupby(['store_type', 'assortment']).aggregate(func=['count', 'sum', 'mean']).reset_index()"
   ]
  },
  {
   "cell_type": "code",
   "execution_count": null,
   "id": "42d8ff3f",
   "metadata": {
    "ExecuteTime": {
     "end_time": "2021-09-26T17:30:32.356214Z",
     "start_time": "2021-09-26T17:30:23.172041Z"
    },
    "hidden": true
   },
   "outputs": [],
   "source": [
    "# store-types / assortment - bar plot\n",
    "\n",
    "# A bar plot represents an estimate of Central Tendency (MEAN) for a numeric variable with the height of\n",
    "# each rectangle and provides some indication of the uncertainty around that estimate using error bars.\n",
    "\n",
    "# ci -> confidence interval of 95%\n",
    "\n",
    "ax = sns.barplot(x='store_type', y='sales', hue='assortment', order=['a', 'b', 'c', 'd'], \n",
    "                 hue_order=['basic','extended','extra'], data=df4, ci=95)\n",
    "\n",
    "ax.figure.set_size_inches(18, 9)\n",
    "ax.set_title('Average Sales by Store Types and Assortment Level', fontsize=20, pad=10)\n",
    "ax.set_xlabel('')\n",
    "ax.set_ylabel('Average Sales Value')\n",
    "\n",
    "# ax.get_figure().savefig('../img/bivar_analysis/storetype_hue_assortment_avg_sales.png')\n",
    "ax;"
   ]
  },
  {
   "cell_type": "markdown",
   "id": "0342e9a4",
   "metadata": {
    "hidden": true
   },
   "source": [
    "**IMPORTANT:** The average sales value of Type B stores stands out even more when the types of stores are separated by assortment types, as can be seen with the average sales of Type B stores with extended assortment levels, it is still more expressive."
   ]
  },
  {
   "cell_type": "markdown",
   "id": "c6bee4cd",
   "metadata": {
    "heading_collapsed": true,
    "hidden": true
   },
   "source": [
    "### <font color='#2365FF'> Hypothesis H5. </font>\n",
    "\n",
    "**The sales revenue of stores are lower the closer the competitors are located.**"
   ]
  },
  {
   "cell_type": "code",
   "execution_count": null,
   "id": "b651b898",
   "metadata": {
    "ExecuteTime": {
     "end_time": "2021-09-26T17:30:33.585028Z",
     "start_time": "2021-09-26T17:30:32.357886Z"
    },
    "hidden": true
   },
   "outputs": [],
   "source": [
    "aux1 = df4[['competition_distance', 'sales']].groupby('competition_distance').sum().reset_index()\n",
    "\n",
    "bins = list(np.arange(0, 25000, 1000)) + [30000, 40000, 50000, 160000]\n",
    "aux1['competition_distance_binned'] = pd.cut(x=aux1['competition_distance'], bins=bins)\n",
    "aux2 = aux1[['competition_distance_binned', 'sales']].groupby('competition_distance_binned').sum().reset_index()\n",
    "\n",
    "grid = gridspec.GridSpec(2, 2)\n",
    "plt.figure(figsize=(20,18))\n",
    "plt.suptitle('Sales Revenue by Competition Distance', fontsize=22)\n",
    "\n",
    "plt.subplot(grid[0,:])\n",
    "sns.barplot(x='competition_distance_binned', y='sales', data=aux2)\n",
    "plt.xlabel('')\n",
    "plt.ylabel('Sales Revenue')\n",
    "plt.xticks(fontsize=9, rotation=30)\n",
    "\n",
    "plt.subplot(grid[1,0])\n",
    "sns.scatterplot(x='competition_distance', y='sales', data=aux1)\n",
    "plt.ylabel('Sales Revenue')\n",
    "plt.xlabel('Distance in Meters')\n",
    "plt.xticks(fontsize=12)\n",
    "plt.xlim(-2000, 160000)\n",
    "\n",
    "plt.subplot(grid[1,1])\n",
    "sns.heatmap(aux1.corr(method='pearson'), annot=True)\n",
    "\n",
    "# plt.savefig('../img/bivar_analysis/competition_distance_global_sales.png')\n",
    "plt.show()"
   ]
  },
  {
   "cell_type": "markdown",
   "id": "ac5443b7",
   "metadata": {
    "hidden": true
   },
   "source": [
    "<font color='firebrick'>**In fact, the sum of sales of stores with closer competitors is considerably higher than the sum of sales of stores with more distant competitors, especially for distances above 3000 meters.** </font>"
   ]
  },
  {
   "cell_type": "markdown",
   "id": "d0db33c4",
   "metadata": {
    "heading_collapsed": true,
    "hidden": true
   },
   "source": [
    "### <font color='#2365FF'> Hypothesis H6. </font>\n",
    "\n",
    "**Regarding the stores with competitors whose distance is less than 1000 meters their average sales value is lower than the average sales value of the other stores.**"
   ]
  },
  {
   "cell_type": "code",
   "execution_count": null,
   "id": "8a2a822a",
   "metadata": {
    "ExecuteTime": {
     "end_time": "2021-09-26T17:30:33.604031Z",
     "start_time": "2021-09-26T17:30:33.586581Z"
    },
    "hidden": true
   },
   "outputs": [],
   "source": [
    "print(f\"The average sales value of stores whose distance is less than 1000 meters: ${(df4.loc[df4['competition_distance'] < 1000, 'sales'].mean()):.2f}.\", end='\\n\\n')\n",
    "print(f\"The average sales value of stores whose distance is greater than 1000 meters: ${(df4.loc[df4['competition_distance'] >= 1000, 'sales'].mean()):.2f}.\")"
   ]
  },
  {
   "cell_type": "markdown",
   "id": "d495fd93",
   "metadata": {
    "hidden": true
   },
   "source": [
    "<font color='firebrick'><b>In fact, the data shows that the average sales value of stores with competitors that are located less than 1000 meters away is higher than the average sales value of other stores. </b></font>"
   ]
  },
  {
   "cell_type": "code",
   "execution_count": null,
   "id": "84355936",
   "metadata": {
    "ExecuteTime": {
     "end_time": "2021-09-26T17:30:42.094449Z",
     "start_time": "2021-09-26T17:30:33.605740Z"
    },
    "hidden": true
   },
   "outputs": [],
   "source": [
    "# competition distance avg sales\n",
    "\n",
    "aux1 = df4[['competition_distance', 'sales']]\n",
    "aux2 = pd.cut(x=aux1['competition_distance'], bins=[0, 1000, 160000])\n",
    "aux2.name = 'competition_distance_binned'\n",
    "aux1 = aux1.join(aux2, how='left')\n",
    "\n",
    "plt.figure(figsize=(19,8))\n",
    "plt.title('Average Store Sales by Competition Distance', fontsize=22)\n",
    "\n",
    "sns.barplot(x='competition_distance_binned', y='sales', data=aux1)\n",
    "plt.xlabel('Distance in Meters')\n",
    "plt.ylabel('Average Sales Value')\n",
    "\n",
    "# plt.savefig('../img/bivar_analysis/competition_distance_avg_sales.png')\n",
    "plt.show()"
   ]
  },
  {
   "cell_type": "markdown",
   "id": "0f5fce48",
   "metadata": {
    "hidden": true
   },
   "source": [
    "**STATISTICAL TESTS TO VERIFY IF THE SETS ARE FROM THE SAME DISTRIBUTUION**\n",
    "\n",
    "**The Wilcoxon rank-sum test tests the null hypothesis that two sets of measurements are drawn from the same distribution.**\n",
    "\n",
    "**The alternative hypothesis is that values in one sample are more likely to be larger than the values in the other sample.**\n",
    "\n",
    "If p_value greater than significance level (usually 5%) then the null hypothesis cannot be rejected."
   ]
  },
  {
   "cell_type": "markdown",
   "id": "973f25f9",
   "metadata": {
    "hidden": true
   },
   "source": [
    "**Hipothesis**: $H_0$ e $H_1$\n",
    "\n",
    "$\\mu_1 \\Rightarrow$ Average Sales Value of Stores whose competitors distance is less than 1000 meters.\n",
    "\n",
    "$\\mu_2 \\Rightarrow$ Average Sales Value of Stores whose competitors distance is grater than 1000 meters.\n",
    "\n",
    "The null hypothesis always contains an equality claim. So:\n",
    "$\n",
    "\\begin{cases}\n",
    "H_0: \\mu_1 \\leq \\mu_2\\\\\n",
    "H_1: \\mu_1 > \\mu_2\n",
    "\\end{cases}\n",
    "$"
   ]
  },
  {
   "cell_type": "code",
   "execution_count": null,
   "id": "a571bf26",
   "metadata": {
    "ExecuteTime": {
     "end_time": "2021-09-26T17:30:42.131960Z",
     "start_time": "2021-09-26T17:30:42.096047Z"
    },
    "hidden": true
   },
   "outputs": [],
   "source": [
    "# unsing ranksums from scipy.stats\n",
    "\n",
    "# getting 10000 random sample of sales values for each distance\n",
    "sales_less_1k = df4.loc[df4['competition_distance'] < 1000, 'sales'].sample(10000)\n",
    "sales_greater_1k = df4.loc[df4['competition_distance'] >= 1000, 'sales'].sample(10000)\n",
    "\n",
    "statistic, p_value = ranksums(sales_less_1k, sales_greater_1k, alternative='greater')\n",
    "\n",
    "print(f'p_value: {p_value:.6f}')"
   ]
  },
  {
   "cell_type": "markdown",
   "id": "0eaedece",
   "metadata": {
    "hidden": true
   },
   "source": [
    "<font color='firebrick'><b>Once p_value is less than 5% (significance level) it can be said that the sales values of stores with competitors whose distance is less than 1000 meters is, in fact, higher than the sales values of the other stores, just the opposite of the initial assumption set out in Hypotheses f.</b></font>"
   ]
  },
  {
   "cell_type": "markdown",
   "id": "f5b43589",
   "metadata": {
    "heading_collapsed": true,
    "hidden": true
   },
   "source": [
    "### <font color='#2365FF'> Hypothesis H7. </font>\n",
    "\n",
    "**The total sales revenue of stores with competitors for a longer time should be higher.**"
   ]
  },
  {
   "cell_type": "code",
   "execution_count": null,
   "id": "0cd36774",
   "metadata": {
    "ExecuteTime": {
     "end_time": "2021-09-26T17:30:45.487437Z",
     "start_time": "2021-09-26T17:30:42.133615Z"
    },
    "hidden": true
   },
   "outputs": [],
   "source": [
    "aux1 = df4[(df4['competition_months_old'] > 0) & (df4['competition_months_old'] < 120)][['competition_months_old', 'sales']].groupby('competition_months_old').sum().reset_index()\n",
    "\n",
    "plt.figure(figsize=(20, 18))\n",
    "plt.suptitle('Global Sales Analisys by Long Time Competition', fontsize=22)\n",
    "\n",
    "plt.subplot(2, 1, 1)\n",
    "sns.barplot(x='competition_months_old', y='sales', data=aux1)\n",
    "plt.xlabel('Months', fontsize=13)\n",
    "plt.ylabel('Sales Revenue')\n",
    "plt.xticks(fontsize=10, rotation=90)\n",
    "\n",
    "plt.subplot(2, 1, 2)\n",
    "sns.heatmap(aux1.corr(method='pearson'), annot=True)\n",
    "\n",
    "# plt.savefig('../img/bivar_analysis/competition_months_global_sales.png')\n",
    "plt.show()"
   ]
  },
  {
   "cell_type": "markdown",
   "id": "c8c346d9",
   "metadata": {
    "hidden": true
   },
   "source": [
    "<font color='firebrick'>**Stores with more recent competitors haver higher total sales values than stores with older competitors.**\n",
    "\n",
    "**However, it is important to emphasize that there has been a great increase in the opening of competitors in recent years, so more stores have started to have competitors nearby.**"
   ]
  },
  {
   "cell_type": "markdown",
   "id": "201c3c99",
   "metadata": {
    "heading_collapsed": true,
    "hidden": true
   },
   "source": [
    "### <font color='#2365FF'> Hypothesis H8. </font>\n",
    "\n",
    "***The average sales values of stores whose competitors opened less than 18 months ago are lower than the average values of other stores.***"
   ]
  },
  {
   "cell_type": "code",
   "execution_count": null,
   "id": "ab9dc304",
   "metadata": {
    "ExecuteTime": {
     "end_time": "2021-09-26T17:30:45.598047Z",
     "start_time": "2021-09-26T17:30:45.489148Z"
    },
    "hidden": true
   },
   "outputs": [],
   "source": [
    "# competition_months_old\n",
    "\n",
    "sales_competition_18_less = df4[(df4['competition_months_old'] < 18) & (df4['competition_months_old'] > 0)]['sales']\n",
    "print(f\"The average sales value of stores whose competitors opened less than 18 months ago: ${sales_competition_18_less.mean():.2f}.\", end='\\n\\n')\n",
    "\n",
    "sales_competition_18_more = df4[df4['competition_months_old'] > 18]['sales']\n",
    "print(f\"The average sales value of stores whose competitors opened more than 18 months ago: ${sales_competition_18_more.mean():.2f}.\")"
   ]
  },
  {
   "cell_type": "code",
   "execution_count": null,
   "id": "542c85e9",
   "metadata": {
    "ExecuteTime": {
     "end_time": "2021-09-26T17:30:52.875246Z",
     "start_time": "2021-09-26T17:30:45.600035Z"
    },
    "hidden": true
   },
   "outputs": [],
   "source": [
    "# competition_months_old average sales bar plot\n",
    "\n",
    "aux1 = df4.loc[df4['competition_months_old'] > 0, ['competition_months_old', 'sales']]\n",
    "aux2 = pd.cut(x=aux1['competition_months_old'], bins=[0, 18, 1410])\n",
    "aux2.name = 'competition_months_binned'\n",
    "aux1 = aux1.join(aux2, how='left')\n",
    "\n",
    "plt.figure(figsize=(19,8))\n",
    "plt.title('Average Store Sales by Long Time Competition', fontsize=22)\n",
    "\n",
    "sns.barplot(x='competition_months_binned', y='sales', data=aux1)\n",
    "plt.xlabel('Time in Months')\n",
    "plt.ylabel('Average Sales Value')\n",
    "\n",
    "# plt.savefig('../img/bivar_analysis/competition_months_avg_sales.png')\n",
    "plt.show()"
   ]
  },
  {
   "cell_type": "markdown",
   "id": "9067166b",
   "metadata": {
    "hidden": true
   },
   "source": [
    "<font color='firebrick'>**The difference between the averages is less than 3% and the statistical test results state that there is no statistically significant difference between sales of stores with more or less than 18 months of competition.**</font>\n",
    "\n",
    "**Performing a Boostrap and calculating the confidence interval.**"
   ]
  },
  {
   "cell_type": "code",
   "execution_count": null,
   "id": "c52aecb6",
   "metadata": {
    "ExecuteTime": {
     "end_time": "2021-09-26T17:30:53.057851Z",
     "start_time": "2021-09-26T17:30:52.877015Z"
    },
    "hidden": true
   },
   "outputs": [],
   "source": [
    "# selecting all sales revenue according to the competition time - greater or less than 18 months\n",
    "# less than 18 months but greater than zero\n",
    "sales_competition_18_less = df4[(df4['competition_months_old'] < 18) & (df4['competition_months_old'] > 0)]['sales']\n",
    "sales_competition_18_more = df4[df4['competition_months_old'] > 18]['sales']\n",
    "\n",
    "boot_less_18 = bootstrap(sales_competition_18_less, estimate='mean', n_repeat=500, n_sample=1000, ci=95)\n",
    "boot_more_18 = bootstrap(sales_competition_18_more, estimate='mean', n_repeat=500, n_sample=1000, ci=95)\n",
    "\n",
    "competition_months_bootstrap_statistics = pd.DataFrame([boot_less_18, boot_more_18], \n",
    "                                                       columns=['statistic_mean', 'standard_error', 'lower_ci', 'upper_ci'], \n",
    "                                                       index=['less_than_18', 'more_than_18'])\n",
    "competition_months_bootstrap_statistics"
   ]
  },
  {
   "cell_type": "markdown",
   "id": "0fd7066d",
   "metadata": {
    "ExecuteTime": {
     "end_time": "2021-09-22T20:14:22.721154Z",
     "start_time": "2021-09-22T20:14:22.714330Z"
    },
    "heading_collapsed": true,
    "hidden": true
   },
   "source": [
    "### <font color='#2365FF'> Hypothesis H9. </font>\n",
    "\n",
    "**The sales revenue should be greater when running a promotion (promo) than when not running a promo.**"
   ]
  },
  {
   "cell_type": "code",
   "execution_count": null,
   "id": "dfceea8c",
   "metadata": {
    "ExecuteTime": {
     "end_time": "2021-09-26T17:30:53.260931Z",
     "start_time": "2021-09-26T17:30:53.059888Z"
    },
    "hidden": true
   },
   "outputs": [],
   "source": [
    "# total sales by promo\n",
    "\n",
    "aux1 = df4[['promo', 'sales']].groupby('promo').sum().reset_index()\n",
    "\n",
    "plt.figure(figsize=(20,10))\n",
    "plt.title('Global Revenue by Sales Period')\n",
    "\n",
    "sns.barplot(x='promo', y='sales', data=aux1)\n",
    "plt.xlabel('')\n",
    "plt.ylabel('Sales Revenue')\n",
    "plt.xticks(ticks=[0, 1], labels=['Off Promo', 'On Promo'])\n",
    "\n",
    "# plt.savefig('../img/bivar_analysis/promo_global_sales.png')\n",
    "plt.show()"
   ]
  },
  {
   "cell_type": "markdown",
   "id": "f2aa8a10",
   "metadata": {
    "ExecuteTime": {
     "end_time": "2021-09-22T20:27:56.609964Z",
     "start_time": "2021-09-22T20:27:56.602860Z"
    },
    "heading_collapsed": true,
    "hidden": true
   },
   "source": [
    "### <font color='#2365FF'> Hypothesis H10. </font>\n",
    "\n",
    "**The average sales value of stores should be greater when running a promotion (promo) than when not running a promo.**"
   ]
  },
  {
   "cell_type": "code",
   "execution_count": null,
   "id": "41c81c24",
   "metadata": {
    "ExecuteTime": {
     "end_time": "2021-09-26T17:30:53.303160Z",
     "start_time": "2021-09-26T17:30:53.262768Z"
    },
    "hidden": true
   },
   "outputs": [],
   "source": [
    "df4[['promo', 'sales']].groupby('promo').aggregate(func=['count', 'sum', 'mean']).reset_index()"
   ]
  },
  {
   "cell_type": "markdown",
   "id": "08b228c0",
   "metadata": {
    "hidden": true
   },
   "source": [
    "<font color='firebrick'>**The average sales value of stores during the period they are on promotion (promo) is considerably higher than the average sales value outside the promotion period.** </font>"
   ]
  },
  {
   "cell_type": "code",
   "execution_count": null,
   "id": "2f342ff1",
   "metadata": {
    "ExecuteTime": {
     "end_time": "2021-09-26T17:31:01.560603Z",
     "start_time": "2021-09-26T17:30:53.304906Z"
    },
    "hidden": true
   },
   "outputs": [],
   "source": [
    "# promo - bar plot\n",
    "\n",
    "# A bar plot represents an estimate of Central Tendency (MEAN) for a numeric variable with the height of\n",
    "# each rectangle and provides some indication of the uncertainty around that estimate using error bars.\n",
    "\n",
    "# ci -> confidence interval of 95%\n",
    "ax = sns.barplot(x='promo', y='sales', data=df4, ci=95)\n",
    "ax.figure.set_size_inches(16, 8)\n",
    "ax.set_title('Average Sales Value by Sales Period \\nPromo', fontsize=20, pad=10)\n",
    "ax.set_xlabel('')\n",
    "ax.set_ylabel('Average Sales Value')\n",
    "ax.set_xticklabels(['Off Promo', 'On Promo'])\n",
    "\n",
    "# ax.get_figure().savefig('../img/bivar_analysis/promo_avg_sales.png')\n",
    "ax;"
   ]
  },
  {
   "cell_type": "markdown",
   "id": "b2fe7cfe",
   "metadata": {
    "heading_collapsed": true,
    "hidden": true
   },
   "source": [
    "### <font color='#2365FF'> Hypothesis H11. </font>\n",
    "\n",
    "**The average sales value of stores with continuing and consecutive promotion (promo2) should be greater than those that do not have extended promotion.**"
   ]
  },
  {
   "cell_type": "code",
   "execution_count": null,
   "id": "7ef64244",
   "metadata": {
    "ExecuteTime": {
     "end_time": "2021-09-26T17:31:01.623914Z",
     "start_time": "2021-09-26T17:31:01.562024Z"
    },
    "hidden": true
   },
   "outputs": [],
   "source": [
    "df4[['promo2', 'promo', 'sales']].groupby(['promo2', 'promo']).aggregate(func=['count', 'sum', 'mean']).reset_index()"
   ]
  },
  {
   "cell_type": "markdown",
   "id": "1b998d33",
   "metadata": {
    "hidden": true
   },
   "source": [
    "<b>The average sales value of stores that are participating in the extended promotion period is lower than the average sales value of stores that are not participating, whether they have active promotion or not.\n",
    "\n",
    "It is necessary to identify possible causes for poor sales performance or reassess the marketing strategy for those stores specifically. \n",
    "\n",
    "However, it should be noted that the average sales value of stores with extended promotion is higher during the promotion period than outside this period.</b>"
   ]
  },
  {
   "cell_type": "code",
   "execution_count": null,
   "id": "d819d235",
   "metadata": {
    "ExecuteTime": {
     "end_time": "2021-09-26T17:31:09.958436Z",
     "start_time": "2021-09-26T17:31:01.625510Z"
    },
    "code_folding": [],
    "hidden": true
   },
   "outputs": [],
   "source": [
    "# promo2 - bar plot\n",
    "\n",
    "# A bar plot represents an estimate of Central Tendency (MEAN) for a numeric variable with the height of\n",
    "# each rectangle and provides some indication of the uncertainty around that estimate using error bars.\n",
    "\n",
    "# ci -> confidence interval of 95%\n",
    "ax = sns.barplot(x='promo2', y='sales', hue='promo', data=df4, ci=95)\n",
    "ax.figure.set_size_inches(16, 8)\n",
    "ax.set_title('Comparison of sales of stores that are participating \\n vs. not participating in the extended promotion', fontsize=20, pad=10)\n",
    "ax.set_xlabel('')\n",
    "ax.set_ylabel('average sales')\n",
    "ax.set_xticklabels(['store is not participating', 'store is participating'])\n",
    "# ax.get_figure().savefig('../img/bivar_analysis/promo2_comparison_avg_sales.png')\n",
    "ax;"
   ]
  },
  {
   "cell_type": "code",
   "execution_count": null,
   "id": "8a64cf95",
   "metadata": {
    "ExecuteTime": {
     "end_time": "2021-09-26T17:31:10.049348Z",
     "start_time": "2021-09-26T17:31:09.960231Z"
    },
    "hidden": true
   },
   "outputs": [],
   "source": [
    "# analysing the average sales of promo2 stores only \n",
    "# comparing the results:  promo2-on  vs  promo2-off\n",
    "df4.query(\"promo2 == 1\")[['promo2_active', 'sales']].groupby('promo2_active').aggregate(func=['count', 'sum', 'mean']).reset_index()"
   ]
  },
  {
   "cell_type": "code",
   "execution_count": null,
   "id": "62c24f56",
   "metadata": {
    "ExecuteTime": {
     "end_time": "2021-09-26T17:31:14.429990Z",
     "start_time": "2021-09-26T17:31:10.050932Z"
    },
    "hidden": true
   },
   "outputs": [],
   "source": [
    "# promo2_active - bar plot\n",
    "\n",
    "# Analysing stores that participate in Promo2\n",
    "# comparing the results:  promo2-off  vs promo2-on\n",
    "\n",
    "ax = sns.barplot(x='promo2_active', y='sales', data=df4.query(\"promo2 == 1\"), ci=95)\n",
    "ax.figure.set_size_inches(16, 8)\n",
    "ax.set_title('Bar Plot: Promo2 \\nOff vs On', fontsize=20, pad=10)\n",
    "ax.set_xlabel('')\n",
    "ax.set_xticklabels(['not_active', 'active'])"
   ]
  },
  {
   "cell_type": "markdown",
   "id": "736a2183",
   "metadata": {
    "heading_collapsed": true,
    "hidden": true
   },
   "source": [
    "### <font color='#2365FF'> Hypothesis H12. </font>\n",
    "\n",
    "**The sales revenue of stores running promo2 should grow over time.**"
   ]
  },
  {
   "cell_type": "code",
   "execution_count": null,
   "id": "ceceec42",
   "metadata": {
    "ExecuteTime": {
     "end_time": "2021-09-26T17:31:16.381250Z",
     "start_time": "2021-09-26T17:31:14.431523Z"
    },
    "hidden": true
   },
   "outputs": [],
   "source": [
    "# sales revenue over promo2 time\n",
    "aux1 = df4.loc[(df4['promo2'] == 1) & (df4['promo2_months_old'] > 12), ['promo2_months_old', 'sales']].groupby('promo2_months_old').sum().reset_index()\n",
    "\n",
    "plt.figure(figsize=(22,10))\n",
    "plt.suptitle('Sales Revenue over Promo2 Time', fontsize=22)\n",
    "\n",
    "plt.subplot(1, 2, 1)\n",
    "sns.barplot(x='promo2_months_old', y='sales', data=aux1)\n",
    "plt.xlabel('')\n",
    "plt.ylabel('Sales Revenue')\n",
    "plt.xticks(fontsize=9)\n",
    "\n",
    "plt.subplot(1, 2, 2)\n",
    "sns.heatmap(data=aux1.corr(method='pearson'), annot=True)\n",
    "\n",
    "# plt.savefig('../img/bivar_analysis/promo2_global_sales.png')\n",
    "plt.show()"
   ]
  },
  {
   "cell_type": "markdown",
   "id": "5219501d",
   "metadata": {
    "hidden": true
   },
   "source": []
  },
  {
   "cell_type": "markdown",
   "id": "285c7169",
   "metadata": {
    "heading_collapsed": true,
    "hidden": true
   },
   "source": [
    "### <font color='#2365FF'> Hypothesis H13. </font>\n",
    "\n",
    "**The median sales value of stores running promo2 for a longer period of time (more than 12 months) should be higher than stores running promo2 for a shorter period of time.**"
   ]
  },
  {
   "cell_type": "code",
   "execution_count": null,
   "id": "f53769ce",
   "metadata": {
    "ExecuteTime": {
     "end_time": "2021-09-26T17:31:16.407354Z",
     "start_time": "2021-09-26T17:31:16.383043Z"
    },
    "hidden": true
   },
   "outputs": [],
   "source": [
    "# stores participating in promo 2 for over 12 months\n",
    "median_sales_promo2_over_12 = df4.loc[(df4['promo2'] == 1) & (df4['promo2_months_old'] > 12), 'sales'].median()\n",
    "\n",
    "# stores participating in promo 2 for less than 12 months\n",
    "median_sales_promo2_less_12 = df4.loc[(df4['promo2'] == 1) & (df4['promo2_months_old'] <= 12) & (df4['promo2_months_old'] > 0), 'sales'].median()\n",
    "\n",
    "print(f'Median sales of stores participating in promo 2 for over 12 months: $ {median_sales_promo2_over_12:.2f}.', end='\\n\\n')\n",
    "print(f'Median sales of stores participating in promo 2 for less than 12 months: $ {median_sales_promo2_less_12:.2f}.')"
   ]
  },
  {
   "cell_type": "code",
   "execution_count": null,
   "id": "5929d5c0",
   "metadata": {
    "ExecuteTime": {
     "end_time": "2021-09-26T17:31:20.078849Z",
     "start_time": "2021-09-26T17:31:16.409055Z"
    },
    "hidden": true
   },
   "outputs": [],
   "source": [
    "aux1 = df4.loc[(df4['promo2'] == 1) & (df4['promo2_months_old'] > 0), ['promo2_months_old', 'sales']]\n",
    "aux2 = pd.cut(x=aux1['promo2_months_old'], bins=[0, 12, 75])\n",
    "aux2.name = 'promo2_months_binned'\n",
    "aux1 = aux1.join(aux2, how='left')\n",
    "\n",
    "plt.figure(figsize=(20,9))\n",
    "plt.title('Average Sales Value over Promo2 Long Time', fontsize=20)\n",
    "\n",
    "sns.barplot(x='promo2_months_binned', y='sales', data=aux1)\n",
    "plt.xlabel('')\n",
    "plt.ylabel('Average Sales Value')\n",
    "plt.xticks(ticks=[0, 1], labels=['Less than 12 months', \"Over 12 months\"])\n",
    "\n",
    "# plt.savefig('../img/bivar_analysis/promo2_avg_sales.png')\n",
    "plt.show()"
   ]
  },
  {
   "cell_type": "markdown",
   "id": "fcfd6f66",
   "metadata": {
    "hidden": true
   },
   "source": [
    "<font color='firebrick'>**Despite being similar values, the median sales value of stores that have been participating in the promo2 for over 12 months is higher.**</font>\n",
    "\n",
    "\n",
    "**Performing a Boostrap and calculating the confidence interval.**"
   ]
  },
  {
   "cell_type": "code",
   "execution_count": null,
   "id": "990e96b7",
   "metadata": {
    "ExecuteTime": {
     "end_time": "2021-09-26T17:31:20.210820Z",
     "start_time": "2021-09-26T17:31:20.080662Z"
    },
    "hidden": true
   },
   "outputs": [],
   "source": [
    "# selecting all sales of stores participating in promo 2 and splitting into greater than or less than 12 months old\n",
    "\n",
    "sales_promo2_over_12 = df4.loc[(df4['promo2'] == 1) & (df4['promo2_months_old'] > 12), 'sales']\n",
    "# less than 12 months but greater than zero\n",
    "sales_promo2_less_12 = df4.loc[(df4['promo2'] == 1) & (df4['promo2_months_old'] <= 12) & (df4['promo2_months_old'] > 0), 'sales']\n",
    "\n",
    "boot_over_12 = bootstrap(sales_promo2_over_12, estimate='median', n_repeat=500, n_sample=1000, ci=95)\n",
    "boot_less_12 = bootstrap(sales_promo2_less_12, estimate='median', n_repeat=500, n_sample=1000, ci=95)\n",
    "\n",
    "promo2_months_bootstrap_statistics = pd.DataFrame([boot_over_12, boot_less_12], \n",
    "                                                  columns=['statistic_mean', 'standard_error', 'lower_ci', 'upper_ci'], \n",
    "                                                  index=['over_12', 'less_than_12'])\n",
    "promo2_months_bootstrap_statistics"
   ]
  },
  {
   "cell_type": "markdown",
   "id": "223d1156",
   "metadata": {
    "heading_collapsed": true,
    "hidden": true
   },
   "source": [
    "### <font color='#2365FF'> Hypothesis H14. </font>\n",
    "\n",
    "**The average ticket per customer should be lower during holiday periods.**"
   ]
  },
  {
   "cell_type": "code",
   "execution_count": null,
   "id": "8a4fab84",
   "metadata": {
    "ExecuteTime": {
     "end_time": "2021-09-26T17:31:28.466252Z",
     "start_time": "2021-09-26T17:31:20.212545Z"
    },
    "hidden": true
   },
   "outputs": [],
   "source": [
    "# customer average ticket by state holiday\n",
    "\n",
    "plt.figure(figsize=(19,10))\n",
    "plt.title('Customer Average Ticket by Holiday/Regular Day', fontsize=20)\n",
    "          \n",
    "sns.barplot(x='state_holiday', y='customers_avg_ticket', data=df4)\n",
    "plt.xlabel('')\n",
    "plt.ylabel('Customer Average Ticket')\n",
    "\n",
    "# plt.savefig('../img/bivar_analysis/customer_avg_ticket_holiday.png')\n",
    "plt.show()"
   ]
  },
  {
   "cell_type": "markdown",
   "id": "ad9a30e2",
   "metadata": {
    "hidden": true
   },
   "source": [
    "<font color='firebrick'>**The customer average ticket price is considerably higher in a regular day than during any state holiday.** </font>"
   ]
  },
  {
   "cell_type": "code",
   "execution_count": null,
   "id": "09f09cd9",
   "metadata": {
    "ExecuteTime": {
     "end_time": "2021-09-26T17:31:28.536616Z",
     "start_time": "2021-09-26T17:31:28.468100Z"
    },
    "hidden": true,
    "hide_input": true
   },
   "outputs": [],
   "source": [
    "aux1 = df4[['state_holiday', 'customers_avg_ticket']].groupby('state_holiday').mean().reset_index()\n",
    "aux1"
   ]
  },
  {
   "cell_type": "markdown",
   "id": "4375c10c",
   "metadata": {
    "heading_collapsed": true,
    "hidden": true
   },
   "source": [
    "### <font color='#2365FF'> Hypothesis H15. </font>\n",
    "\n",
    "**Sales during the Christmas holiday are expected to be the biggest of the year. .**"
   ]
  },
  {
   "cell_type": "code",
   "execution_count": null,
   "id": "da203cbe",
   "metadata": {
    "ExecuteTime": {
     "end_time": "2021-09-26T17:31:28.851548Z",
     "start_time": "2021-09-26T17:31:28.538198Z"
    },
    "hidden": true
   },
   "outputs": [],
   "source": [
    "# sales during holidays\n",
    "\n",
    "aux1 = df4.loc[df4['state_holiday'] != 'none', ['year', 'state_holiday', 'sales']].groupby(['year', 'state_holiday']).sum().reset_index()\n",
    "\n",
    "plt.figure(figsize=(20,10))\n",
    "plt.title('Sales Revenue during State Holidays per Year', fontsize=20)\n",
    "\n",
    "sns.barplot(x='year', y='sales', hue='state_holiday', data=aux1)\n",
    "plt.xlabel('')\n",
    "plt.ylabel('Sales Revenue')\n",
    "\n",
    "# plt.savefig('../img/bivar_analysis/state_holiday_global_sales.png')\n",
    "plt.show()"
   ]
  },
  {
   "cell_type": "markdown",
   "id": "78297b77",
   "metadata": {
    "hidden": true
   },
   "source": [
    "<font color='firebrick'>**Sales during Christmas are lower than during the other State Holidays.**</font>"
   ]
  },
  {
   "cell_type": "markdown",
   "id": "5fc6f6a2",
   "metadata": {
    "heading_collapsed": true,
    "hidden": true
   },
   "source": [
    "### <font color='#2365FF'> Hypothesis H16. </font>\n",
    "\n",
    "**Stores affected by the closure of public schools on school holidays should sell less.**"
   ]
  },
  {
   "cell_type": "code",
   "execution_count": null,
   "id": "80e456e1",
   "metadata": {
    "ExecuteTime": {
     "end_time": "2021-09-26T17:31:37.558656Z",
     "start_time": "2021-09-26T17:31:28.853301Z"
    },
    "hidden": true
   },
   "outputs": [],
   "source": [
    "# sales vs school holidays\n",
    "\n",
    "aux1 = df4[['month', 'school_holiday', 'sales']].groupby(['month', 'school_holiday']).sum().reset_index()\n",
    "\n",
    "plt.figure(figsize=(20,8))\n",
    "plt.suptitle('How Stores Sales Are \\nAfected By School Holiday', fontsize=20)\n",
    "\n",
    "plt.subplot(1, 2, 1)\n",
    "ax1 = sns.barplot(x='month', y='sales', hue='school_holiday', data=aux1)\n",
    "ax1.set_title('Total Sales vs Month', fontsize=16)\n",
    "ax1.set_xlabel('Month')\n",
    "ax1.set_ylabel('Sales Revenue')\n",
    "\n",
    "plt.subplot(1, 2, 2)\n",
    "ax2 = sns.barplot(x='school_holiday', y='sales', data=df4)\n",
    "ax2.set_title('Influence of the school holiday on average sales', fontsize=15)\n",
    "ax2.set_xlabel('')\n",
    "ax2.set_ylabel('Average Sales')\n",
    "ax2.set_xticklabels(['regular day', 'school holiday'])\n",
    "\n",
    "# plt.savefig('../img/bivar_analysis/school_holiday_sales.png')\n",
    "plt.show()"
   ]
  },
  {
   "cell_type": "code",
   "execution_count": null,
   "id": "5b2cd7a2",
   "metadata": {
    "ExecuteTime": {
     "end_time": "2021-09-26T17:31:37.586884Z",
     "start_time": "2021-09-26T17:31:37.560359Z"
    },
    "hidden": true,
    "hide_input": false
   },
   "outputs": [],
   "source": [
    "df4[['school_holiday', 'sales']].groupby('school_holiday').mean()"
   ]
  },
  {
   "cell_type": "markdown",
   "id": "f0a3cfd7",
   "metadata": {
    "hidden": true
   },
   "source": [
    "<font color='firebrick'>**The difference between the average sales values of the stores is less than 5%.**</font>\n",
    "\n",
    "**Performing a Boostrap and calculating the confidence interval.**"
   ]
  },
  {
   "cell_type": "code",
   "execution_count": null,
   "id": "e30b5147",
   "metadata": {
    "ExecuteTime": {
     "end_time": "2021-09-26T17:31:37.709540Z",
     "start_time": "2021-09-26T17:31:37.589406Z"
    },
    "hidden": true
   },
   "outputs": [],
   "source": [
    "# splitting sales into during school holiday and off school holidays\n",
    "\n",
    "on_school_holiday = df4.loc[df4['school_holiday'] == 1, 'sales']\n",
    "\n",
    "# less than 12 months but greater than zero\n",
    "off_school_holiday = df4.loc[df4['school_holiday'] == 0, 'sales']\n",
    "\n",
    "boot_on = bootstrap(on_school_holiday, estimate='mean', n_repeat=500, n_sample=1000, ci=95)\n",
    "boot_off = bootstrap(off_school_holiday, estimate='mean', n_repeat=500, n_sample=1000, ci=95)\n",
    "\n",
    "school_holiday_bootstrap_statistics = pd.DataFrame([boot_on, boot_off], \n",
    "                                                  columns=['statistic_mean', 'standard_error', 'lower_ci', 'upper_ci'], \n",
    "                                                  index=['school_holiday', 'not_school_holiday'])\n",
    "school_holiday_bootstrap_statistics"
   ]
  },
  {
   "cell_type": "markdown",
   "id": "76ce60b1",
   "metadata": {
    "heading_collapsed": true,
    "hidden": true
   },
   "source": [
    "### <font color='#2365FF'> Hypothesis H17. </font>\n",
    "\n",
    "**The revenue in the last quarter of the year should be higher than in the other quarters.**"
   ]
  },
  {
   "cell_type": "code",
   "execution_count": null,
   "id": "b3878629",
   "metadata": {
    "ExecuteTime": {
     "end_time": "2021-09-26T17:31:38.741789Z",
     "start_time": "2021-09-26T17:31:37.712130Z"
    },
    "hidden": true
   },
   "outputs": [],
   "source": [
    "# sales revenue over the quarters of the years\n",
    "\n",
    "# mapping the quarters\n",
    "quarter_map = {1:1, 2:1, 3:1,\n",
    "               4:2, 5:2, 6:2,\n",
    "               7:3, 8:3, 9:3,\n",
    "               10:4, 11:4, 12:4}\n",
    "# the sales data of 2015 stops in july - considering 2013 and 2014 only\n",
    "aux1 = df4.query(\"year != 2015\")[['month', 'sales']].groupby('month').sum().reset_index()\n",
    "aux1['quarter'] = aux1['month'].map(quarter_map)\n",
    "aux2 = aux1[['quarter', 'sales']].groupby('quarter').sum().reset_index()\n",
    "\n",
    "plt.figure(figsize=(20,10))\n",
    "plt.suptitle('Sales Revenue vs Quarters')\n",
    "\n",
    "plt.subplot(2, 2, 1)\n",
    "ax1 = sns.barplot(x='quarter', y='sales', data=aux2)\n",
    "ax1.set_xlabel('')\n",
    "#ax3.set_xticklabels(ticks=[0,1,2,3], labels=['1st', '2nd', '3rd', '4th'])\n",
    "\n",
    "plt.subplot(2, 2, 2)\n",
    "ax2 = sns.regplot(x='quarter', y='sales', data=aux2)\n",
    "ax2.set_xlabel('')\n",
    "\n",
    "plt.subplot(2, 2, 3)\n",
    "ax3 = sns.barplot(x='month', y='sales', data=aux1)\n",
    "ax3.set_xlabel('')\n",
    "\n",
    "plt.subplot(2, 2, 4)\n",
    "ax4 = sns.heatmap(aux2.corr(method='pearson'), annot=True)\n",
    "ax4.set_xlabel('')\n",
    "\n",
    "# plt.savefig('../img/bivar_analysis/quarters_global_sales.png')\n",
    "plt.show()"
   ]
  },
  {
   "cell_type": "markdown",
   "id": "a00c209d",
   "metadata": {
    "hidden": true
   },
   "source": [
    "<font color='firebrick'>**There is an increase in sales in the last quarter of the year, but the difference is not significant in relation to the other quarters**</font>"
   ]
  },
  {
   "cell_type": "markdown",
   "id": "2374efbf",
   "metadata": {
    "heading_collapsed": true,
    "hidden": true
   },
   "source": [
    "### <font color='#2365FF'> Hypothesis H18. </font>\n",
    "\n",
    "**Sales behavior is not constant throughout the month, it should be higher in the first 7 days and decreases in the following weeks.**"
   ]
  },
  {
   "cell_type": "code",
   "execution_count": null,
   "id": "00291992",
   "metadata": {
    "ExecuteTime": {
     "end_time": "2021-09-26T17:31:39.816079Z",
     "start_time": "2021-09-26T17:31:38.743603Z"
    },
    "hidden": true
   },
   "outputs": [],
   "source": [
    "# Sales Revenue vs Days of Month\n",
    "\n",
    "aux1 = df4[['day', 'sales']].groupby('day').sum().reset_index()\n",
    "\n",
    "grids = gridspec.GridSpec(nrows=2, ncols=2)\n",
    "plt.figure(figsize=(20,16))\n",
    "plt.suptitle('Sales Revenue vs Days of Month')\n",
    "\n",
    "plt.subplot(grid[0, 0:])\n",
    "sns.barplot(x='day', y='sales', data=aux1)\n",
    "plt.xlabel('')\n",
    "\n",
    "plt.subplot(grid[1, 0])\n",
    "sns.regplot(x='day', y='sales', data=aux1)\n",
    "plt.xlabel('')\n",
    "\n",
    "plt.subplot(grid[1, 1])\n",
    "sns.heatmap(aux1.corr(method='pearson'), annot=True)\n",
    "\n",
    "# plt.savefig('../img/bivar_analysis/day_global_sales.png')\n",
    "plt.show()"
   ]
  },
  {
   "cell_type": "markdown",
   "id": "fe89546a",
   "metadata": {
    "hidden": true
   },
   "source": [
    "<font color='firebrick'>**There is a drop in sales throughout the month.**</font>"
   ]
  },
  {
   "cell_type": "markdown",
   "id": "8965f318",
   "metadata": {
    "heading_collapsed": true,
    "hidden": true
   },
   "source": [
    "### <font color='#2365FF'> Hypothesis H19. </font>\n",
    "\n",
    "**Average sales in the weekend days should be lower than in the other days of the week.**"
   ]
  },
  {
   "cell_type": "code",
   "execution_count": null,
   "id": "d296bbf9",
   "metadata": {
    "ExecuteTime": {
     "end_time": "2021-09-26T17:31:39.858248Z",
     "start_time": "2021-09-26T17:31:39.817644Z"
    },
    "hidden": true
   },
   "outputs": [],
   "source": [
    "df4[['day_of_week', 'sales']].groupby('day_of_week').aggregate(func=['count', 'sum', 'mean'])"
   ]
  },
  {
   "cell_type": "code",
   "execution_count": null,
   "id": "3aeba958",
   "metadata": {
    "ExecuteTime": {
     "end_time": "2021-09-26T17:31:40.564138Z",
     "start_time": "2021-09-26T17:31:39.860337Z"
    },
    "hidden": true
   },
   "outputs": [],
   "source": [
    "aux1 = df4[['day_of_week', 'sales']].groupby('day_of_week').mean().reset_index()\n",
    "\n",
    "plt.figure(figsize=(22,9))\n",
    "plt.suptitle('Average Sales by Weekday/Weekend', fontsize=20)\n",
    "\n",
    "plt.subplot(1, 3, 1)\n",
    "sns.barplot(x='day_of_week', y='sales', data=aux1)\n",
    "plt.xlabel('')\n",
    "plt.xticks(ticks=[0,1,2,3,4,5,6], \n",
    "           labels=['mon', 'tue', 'wed', 'thu', 'fri', 'sat', 'sun'])\n",
    "\n",
    "plt.subplot(1, 3, 2)\n",
    "sns.regplot(x='day_of_week', y='sales', data=aux1)\n",
    "plt.xlabel('')\n",
    "\n",
    "plt.subplot(1, 3, 3)\n",
    "sns.heatmap(aux1.corr(method='pearson'), annot=True)\n",
    "\n",
    "# plt.savefig('../img/bivar_analysis/weekend_avg_sales.png')\n",
    "plt.show()"
   ]
  },
  {
   "cell_type": "code",
   "execution_count": null,
   "id": "790ec81a",
   "metadata": {
    "hidden": true
   },
   "outputs": [],
   "source": []
  },
  {
   "cell_type": "markdown",
   "id": "e2d9c175",
   "metadata": {
    "heading_collapsed": true,
    "hidden": true
   },
   "source": [
    "## <font color='#200CF'> 4.3. Multivariate Analysis </font>"
   ]
  },
  {
   "cell_type": "markdown",
   "id": "3dd5c4cf",
   "metadata": {
    "heading_collapsed": true,
    "hidden": true
   },
   "source": [
    "### <font color='#2365FF'> 4.3.1. Numeric Attributes </font>"
   ]
  },
  {
   "cell_type": "code",
   "execution_count": null,
   "id": "ad7e2a31",
   "metadata": {
    "ExecuteTime": {
     "end_time": "2021-09-26T17:31:43.164052Z",
     "start_time": "2021-09-26T17:31:40.570286Z"
    },
    "hidden": true
   },
   "outputs": [],
   "source": [
    "correlation = df_numeric.corr(method='pearson')\n",
    "\n",
    "plt.figure(figsize=(26,18))\n",
    "plt.title('Numeric Attributes Multivariate Analysis', fontsize=22, pad=10)\n",
    "sns.heatmap(correlation, annot=True)\n",
    "\n",
    "# plt.savefig('../img/multivar_analysis/numeric_attributes_multivar_analysis.png')\n",
    "plt.show()"
   ]
  },
  {
   "cell_type": "markdown",
   "id": "2baf36cd",
   "metadata": {
    "heading_collapsed": true,
    "hidden": true
   },
   "source": [
    "### <font color='#2365FF'> 4.3.2. Categorical Attributes </font>"
   ]
  },
  {
   "cell_type": "markdown",
   "id": "61a866b7",
   "metadata": {
    "hidden": true
   },
   "source": [
    "https://en.wikipedia.org/wiki/Cram%C3%A9r%27s_V"
   ]
  },
  {
   "cell_type": "code",
   "execution_count": null,
   "id": "4d12458d",
   "metadata": {
    "ExecuteTime": {
     "end_time": "2021-09-26T17:31:46.436660Z",
     "start_time": "2021-09-26T17:31:43.166021Z"
    },
    "code_folding": [
     0
    ],
    "hidden": true
   },
   "outputs": [],
   "source": [
    "# calculating Cramér's V \n",
    "\n",
    "a1 = cramer_v(df_cat_n_bin['state_holiday'], df_cat_n_bin['state_holiday'])\n",
    "a2 = cramer_v(df_cat_n_bin['state_holiday'], df_cat_n_bin['store_type'])\n",
    "a3 = cramer_v(df_cat_n_bin['state_holiday'], df_cat_n_bin['assortment'])\n",
    "a4 = cramer_v(df_cat_n_bin['state_holiday'], df_cat_n_bin['promo'])\n",
    "a5 = cramer_v(df_cat_n_bin['state_holiday'], df_cat_n_bin['promo2'])\n",
    "a6 = cramer_v(df_cat_n_bin['state_holiday'], df_cat_n_bin['school_holiday'])\n",
    "\n",
    "b1 = cramer_v(df_cat_n_bin['store_type'], df_cat_n_bin['state_holiday'])\n",
    "b2 = cramer_v(df_cat_n_bin['store_type'], df_cat_n_bin['store_type'])\n",
    "b3 = cramer_v(df_cat_n_bin['store_type'], df_cat_n_bin['assortment'])\n",
    "b4 = cramer_v(df_cat_n_bin['store_type'], df_cat_n_bin['promo'])\n",
    "b5 = cramer_v(df_cat_n_bin['store_type'], df_cat_n_bin['promo2'])\n",
    "b6 = cramer_v(df_cat_n_bin['store_type'], df_cat_n_bin['school_holiday'])\n",
    "\n",
    "c1 = cramer_v(df_cat_n_bin['assortment'], df_cat_n_bin['state_holiday'])\n",
    "c2 = cramer_v(df_cat_n_bin['assortment'], df_cat_n_bin['store_type'])\n",
    "c3 = cramer_v(df_cat_n_bin['assortment'], df_cat_n_bin['assortment'])\n",
    "c4 = cramer_v(df_cat_n_bin['assortment'], df_cat_n_bin['promo'])\n",
    "c5 = cramer_v(df_cat_n_bin['assortment'], df_cat_n_bin['promo2'])\n",
    "c6 = cramer_v(df_cat_n_bin['assortment'], df_cat_n_bin['school_holiday'])\n",
    "\n",
    "d1 = cramer_v(df_cat_n_bin['promo'], df_cat_n_bin['state_holiday'])\n",
    "d2 = cramer_v(df_cat_n_bin['promo'], df_cat_n_bin['store_type'])\n",
    "d3 = cramer_v(df_cat_n_bin['promo'], df_cat_n_bin['assortment'])\n",
    "d4 = cramer_v(df_cat_n_bin['promo'], df_cat_n_bin['promo'])\n",
    "d5 = cramer_v(df_cat_n_bin['promo'], df_cat_n_bin['promo2'])\n",
    "d6 = cramer_v(df_cat_n_bin['promo'], df_cat_n_bin['school_holiday'])\n",
    "\n",
    "e1 = cramer_v(df_cat_n_bin['promo2'], df_cat_n_bin['state_holiday'])\n",
    "e2 = cramer_v(df_cat_n_bin['promo2'], df_cat_n_bin['store_type'])\n",
    "e3 = cramer_v(df_cat_n_bin['promo2'], df_cat_n_bin['assortment'])\n",
    "e4 = cramer_v(df_cat_n_bin['promo2'], df_cat_n_bin['promo'])\n",
    "e5 = cramer_v(df_cat_n_bin['promo2'], df_cat_n_bin['promo2'])\n",
    "e6 = cramer_v(df_cat_n_bin['promo2'], df_cat_n_bin['school_holiday'])\n",
    "\n",
    "f1 = cramer_v(df_cat_n_bin['school_holiday'], df_cat_n_bin['state_holiday'])\n",
    "f2 = cramer_v(df_cat_n_bin['school_holiday'], df_cat_n_bin['store_type'])\n",
    "f3 = cramer_v(df_cat_n_bin['school_holiday'], df_cat_n_bin['assortment'])\n",
    "f4 = cramer_v(df_cat_n_bin['school_holiday'], df_cat_n_bin['promo'])\n",
    "f5 = cramer_v(df_cat_n_bin['school_holiday'], df_cat_n_bin['promo2'])\n",
    "f6 = cramer_v(df_cat_n_bin['school_holiday'], df_cat_n_bin['school_holiday'])\n",
    "\n",
    "# creating dataframe with Cramer's V results\n",
    "df_cramer_v = pd.DataFrame({'state_holiday': [a1, a2, a3, a4, a5, a6], \n",
    "                            'store_type': [b1, b2, b3, b4, b5, b6], \n",
    "                            'assortment': [c1, c2, c3, c4, c5, c6], \n",
    "                            'promo': [d1, d2, d3, d4, d5, d6], \n",
    "                            'promo2': [e1, e2, e3, e4, e5, e6], \n",
    "                            'school_holiday': [f1, f2, f3, f4, f5, f6]})\n",
    "# using columns names to set the indexes names\n",
    "df_cramer_v.set_index(keys=df_cramer_v.columns, drop=False, inplace=True)"
   ]
  },
  {
   "cell_type": "code",
   "execution_count": null,
   "id": "f9ff4b8b",
   "metadata": {
    "ExecuteTime": {
     "end_time": "2021-09-26T17:31:46.804259Z",
     "start_time": "2021-09-26T17:31:46.438476Z"
    },
    "hidden": true,
    "hide_input": true
   },
   "outputs": [],
   "source": [
    "# heatmap\n",
    "\n",
    "plt.figure(figsize=(19, 8))\n",
    "plt.title('Categorical Attributes Heatmap', fontsize=21, pad=10)\n",
    "sns.heatmap(df_cramer_v, annot=True)\n",
    "# plt.savefig('../img/multivar_analysis/categorical_attributes_multivar_analysis.png')\n",
    "plt.show()"
   ]
  },
  {
   "cell_type": "markdown",
   "id": "4e8993a9",
   "metadata": {
    "heading_collapsed": true
   },
   "source": [
    "# <font color='#3F0094'> 5. Data Preparation </font>"
   ]
  },
  {
   "cell_type": "markdown",
   "id": "4815ab6f",
   "metadata": {
    "heading_collapsed": true,
    "hidden": true
   },
   "source": [
    "## <font color='#200CF'> 5.0. Dataframe Copy for Data Preparation </font>"
   ]
  },
  {
   "cell_type": "code",
   "execution_count": 4,
   "id": "36657bbb",
   "metadata": {
    "ExecuteTime": {
     "end_time": "2021-09-30T16:30:50.916751Z",
     "start_time": "2021-09-30T16:30:50.679747Z"
    },
    "hidden": true
   },
   "outputs": [],
   "source": [
    "# copying dataframe before filling in null values \n",
    "# and before feature engineering\n",
    "df5 = df_raw.copy()"
   ]
  },
  {
   "cell_type": "markdown",
   "id": "d228569a",
   "metadata": {
    "heading_collapsed": true,
    "hidden": true
   },
   "source": [
    "## <font color='#200CF'> 5.1. Feature Engineering for ML Models </font>"
   ]
  },
  {
   "cell_type": "markdown",
   "id": "c8fdc830",
   "metadata": {
    "hidden": true
   },
   "source": [
    "<font color='firebrick'><b>Some features will receive different treatments from those used for Exploratory Data Analysis (EDA) and some feature engineering are not necessary for machine learning models.</b></font>\n",
    "\n",
    "**Features with different treatment:** competition_open_since_year, competition_open_since_month\n",
    "\n",
    "**Features not created / engineered:** customers_avg_ticket, year_week / assortment"
   ]
  },
  {
   "cell_type": "markdown",
   "id": "34e80c85",
   "metadata": {
    "heading_collapsed": true,
    "hidden": true
   },
   "source": [
    "### <font color='#2365FF'> 5.1.1. Data Cleaning </font>"
   ]
  },
  {
   "cell_type": "code",
   "execution_count": 5,
   "id": "86f2dfcf",
   "metadata": {
    "ExecuteTime": {
     "end_time": "2021-09-30T17:04:08.847591Z",
     "start_time": "2021-09-30T17:03:05.192055Z"
    },
    "hidden": true
   },
   "outputs": [],
   "source": [
    "# renaming df5 column names\n",
    "snake_case = lambda x: inflection.underscore(x)\n",
    "df5.columns = list(map(snake_case, df5.columns))\n",
    "\n",
    "# setting date column as datetime type\n",
    "df5['date'] = pd.to_datetime(df5['date'])\n",
    "\n",
    "\n",
    "## =-= Filling in Missing/Null Values =-= ##\n",
    "\n",
    "## competition_distance - using maximum distance x 2\n",
    "# maximun distance x 2\n",
    "max_dist_x_2 = df5['competition_distance'].max() * 2\n",
    "# assuming competitors are twice as far away as the greatest distance found\n",
    "df5['competition_distance'] = df5['competition_distance'].apply(lambda x: max_dist_x_2 if np.isnan(x) else x)\n",
    "\n",
    "## competition_open_since_year\n",
    "# assign the year of the latest date if NA\n",
    "df5.loc[df5['competition_open_since_year'].isna(), 'competition_open_since_year'] = df5['date'].max().year\n",
    "\n",
    "## competition_open_since_month\n",
    "# assign the month of the latest date if NA\n",
    "df5.loc[df5['competition_open_since_month'].isna(), 'competition_open_since_month'] = df5['date'].max().month\n",
    "\n",
    "# promo2_since_week AND promo2_since_year\n",
    "# in case of NA values the date of sale will be used -- the difference between these dates will be used later\n",
    "## promo2_since_week\n",
    "df5['promo2_since_week'] = df5[['date', 'promo2_since_week']].apply(lambda x: x['date'].week if np.isnan(x['promo2_since_week']) else x['promo2_since_week'], axis=1)\n",
    "##  promo2_since_year\n",
    "df5['promo2_since_year'] = df5[['date', 'promo2_since_year']].apply(lambda x: x['date'].year if np.isnan(x['promo2_since_year']) else x['promo2_since_year'], axis=1)\n",
    "\n",
    "\n",
    "## promo_interval: used to create a new column -> promo2_active\n",
    "# filling in NA with 'none'\n",
    "df5['promo_interval'].fillna(value='none', inplace=True)\n",
    "# creating a column with current month\n",
    "df5['curr_month'] = df5['date'].dt.strftime('%b')\n",
    "\n",
    "## creating a column to indicate whether promo2 is active\n",
    "df5['promo2_active'] = df5.apply(lambda x: 1 if ((\n",
    "    x['curr_month'] in x['promo_interval'].split(',')) and (\n",
    "    x['date'] >= datetime.fromisocalendar(int(x['promo2_since_year']), int(x['promo2_since_week']), 1)) and (\n",
    "    x['promo'] == 1)) else 0, axis=1)\n",
    "\n",
    "\n",
    "## =-= Changing Data Types =-= ##\n",
    "\n",
    "# Changing DTypes from float to integer\n",
    "df5['competition_distance'] = df5['competition_distance'].astype(int)\n",
    "df5['competition_open_since_month'] = df5['competition_open_since_month'].astype(int)\n",
    "df5['competition_open_since_year'] = df5['competition_open_since_year'].astype(int)\n",
    "df5['promo2_since_week'] = df5['promo2_since_week'].astype(int)\n",
    "df5['promo2_since_year'] = df5['promo2_since_year'].astype(int)\n"
   ]
  },
  {
   "cell_type": "markdown",
   "id": "93447b07",
   "metadata": {
    "heading_collapsed": true,
    "hidden": true
   },
   "source": [
    "### <font color='#2365FF'> 5.1.2. Feature Engineering </font>"
   ]
  },
  {
   "cell_type": "code",
   "execution_count": 6,
   "id": "aa8a57ca",
   "metadata": {
    "ExecuteTime": {
     "end_time": "2021-09-30T17:05:20.054401Z",
     "start_time": "2021-09-30T17:04:08.849964Z"
    },
    "hidden": true
   },
   "outputs": [],
   "source": [
    "## =-= Dates =-= ##\n",
    "\n",
    "# year\n",
    "df5['year'] = df5['date'].dt.year\n",
    "# month\n",
    "df5['month'] = df5['date'].dt.month\n",
    "# day\n",
    "df5['day'] = df5['date'].dt.day\n",
    "# week_of_year\n",
    "df5['week_of_year'] = df5['date'].dt.isocalendar().week.astype('int64')\n",
    "\n",
    "# competition_months_old\n",
    "# calculating the competition period, extracting the days and dividing by 30 to get the period in months\n",
    "df5['competition_months_old'] = df5.apply(lambda x: (\n",
    "    x['date'] - datetime(year=x['competition_open_since_year'], \n",
    "                         month=x['competition_open_since_month'], \n",
    "                         day=1)).days / 30, axis=1).astype(int)\n",
    "# assigning zero to negative values of competition_months_old\n",
    "# in this case it makes no sense to work with the time that is left for the competitor to open\n",
    "df5.loc[df5['competition_months_old'] < 0, 'competition_months_old'] = 0\n",
    "\n",
    "# promo2_months_old\n",
    "# calculation method: zero(0) if promo2 is zero(0) else (actual_date - promo2_starting_date) >> timedelta format \n",
    "# >> then use .days and divide by 30 to extract the number of months >> as integer\n",
    "df5['promo2_months_old'] = df5.apply(lambda x: 0 if x['promo2'] == 0 else (\n",
    "    x['date'] - datetime.fromisocalendar(x['promo2_since_year'], \n",
    "                                         x['promo2_since_week'], \n",
    "                                         1)).days / 30, axis=1).astype(int)\n",
    "# assigning zero to negative values of promo2_months_old\n",
    "# since the store is not yet participating (but will in the future)\n",
    "df5.loc[df5['promo2_months_old'] < 0, 'promo2_months_old'] = 0\n",
    "\n",
    "\n",
    "## =-= Filtering Features =-= ##\n",
    "\n",
    "# eliminating all records where stores are closed \n",
    "df5 = df5[(df5['open'] != 0) & (df5['sales'] > 0)]\n",
    "\n",
    "# list of columns to be droped\n",
    "cols_drop = ['customers', 'open', 'promo_interval', 'curr_month']\n",
    "df5.drop(cols_drop, axis=1, inplace=True)\n"
   ]
  },
  {
   "cell_type": "markdown",
   "id": "ac66b10e",
   "metadata": {
    "heading_collapsed": true,
    "hidden": true
   },
   "source": [
    "## <font color='#200CF'> 5.2. Feature Scaling - Standardization </font>"
   ]
  },
  {
   "cell_type": "markdown",
   "id": "7ad92afe",
   "metadata": {
    "hidden": true
   },
   "source": [
    "**Also called Z-score normalization. Standardization typically means rescales data to have a mean of 0 and a standard deviation of 1 (unit variance).**"
   ]
  },
  {
   "cell_type": "markdown",
   "id": "20cb67ed",
   "metadata": {
    "hidden": true
   },
   "source": [
    "<font color='firebrick'>**None of the features behavior is close to a Gaussian (normal) distribution, so standardization is not recommended.**</font>"
   ]
  },
  {
   "cell_type": "markdown",
   "id": "823e9916",
   "metadata": {
    "heading_collapsed": true,
    "hidden": true
   },
   "source": [
    "## <font color='#200CF'> 5.3. Feature Scaling - Normalization </font>"
   ]
  },
  {
   "cell_type": "markdown",
   "id": "5d0bc8ab",
   "metadata": {
    "hidden": true
   },
   "source": [
    "**Normalization typically means rescales the values into a range of [0, 1] .**"
   ]
  },
  {
   "cell_type": "markdown",
   "id": "e577c07f",
   "metadata": {
    "hidden": true
   },
   "source": [
    "**ROBUST SCALER**\n",
    "\n",
    "Its use is indicated for cases where data have outliers. To overcome this, the median and interquartile range can be used to rescale numeric variables."
   ]
  },
  {
   "cell_type": "code",
   "execution_count": 7,
   "id": "245b7d91",
   "metadata": {
    "ExecuteTime": {
     "end_time": "2021-09-30T17:05:20.187159Z",
     "start_time": "2021-09-30T17:05:20.056205Z"
    },
    "hidden": true
   },
   "outputs": [],
   "source": [
    "# rescaling with Robust Scaler\n",
    "rs = RobustScaler()\n",
    "\n",
    "# competition_distance\n",
    "df5['competition_distance'] = rs.fit_transform(df5[['competition_distance']].values)\n",
    "# pickle.dump(rs, open('../parameters/competition_distance_scaler.pkl', 'wb'))\n",
    "\n",
    "# competition_months_old\n",
    "df5['competition_months_old'] = rs.fit_transform(df5[['competition_months_old']].values)\n",
    "# pickle.dump(rs, open('../parameters/competition_months_old_scaler.pkl', 'wb'))"
   ]
  },
  {
   "cell_type": "markdown",
   "id": "5246377e",
   "metadata": {
    "hidden": true
   },
   "source": [
    "**MIN-MAX SCALER**"
   ]
  },
  {
   "cell_type": "code",
   "execution_count": 8,
   "id": "8a29ccf5",
   "metadata": {
    "ExecuteTime": {
     "end_time": "2021-09-30T17:05:20.275341Z",
     "start_time": "2021-09-30T17:05:20.189614Z"
    },
    "hidden": true
   },
   "outputs": [],
   "source": [
    "# rescaling with Min-Max Scaler\n",
    "mms = MinMaxScaler()\n",
    "\n",
    "# promo2_months_old\n",
    "df5['promo2_months_old'] = mms.fit_transform(df5[['promo2_months_old']].values)\n",
    "# pickle.dump(mms, open('../parameters/promo2_months_old_scaler.pkl', 'wb'))\n",
    "\n",
    "# year\n",
    "df5['year'] = mms.fit_transform(df5[['year']].values)\n",
    "# pickle.dump(mms, open('../parameters/year_scaler.pkl', 'wb'))"
   ]
  },
  {
   "cell_type": "markdown",
   "id": "2f779ff5",
   "metadata": {
    "heading_collapsed": true,
    "hidden": true
   },
   "source": [
    "## <font color='#200CF'> 5.4. Feature Transformation </font>"
   ]
  },
  {
   "cell_type": "markdown",
   "id": "253d7635",
   "metadata": {
    "heading_collapsed": true,
    "hidden": true
   },
   "source": [
    "### <font color='#2365FF'> 5.3.1. Encoding </font>\n",
    "\n",
    "**Enconding: Transforming Categorical Features Into Numeric Features**"
   ]
  },
  {
   "cell_type": "markdown",
   "id": "b4eb50a0",
   "metadata": {
    "hidden": true
   },
   "source": [
    "**ONE HOT ENCODING -- ORDINAL ENCODING -- LABEL ENCODING**"
   ]
  },
  {
   "cell_type": "code",
   "execution_count": 9,
   "id": "9d629a4c",
   "metadata": {
    "ExecuteTime": {
     "end_time": "2021-09-30T17:05:20.625171Z",
     "start_time": "2021-09-30T17:05:20.277069Z"
    },
    "hidden": true
   },
   "outputs": [],
   "source": [
    "# state_holiday - One Hot Encoding\n",
    "df5 = pd.get_dummies(df5, prefix=['st_hol'], columns=['state_holiday'])\n",
    "\n",
    "# assortment - Ordinal Encoding\n",
    "assortment_dict = {'a': 1, 'b': 2, 'c': 3}\n",
    "df5['assortment'] = df5['assortment'].map(assortment_dict)\n",
    "\n",
    "# store_type - Label Encoding\n",
    "le = LabelEncoder()\n",
    "df5['store_type'] = le.fit_transform(df5['store_type'])\n",
    "# pickle.dump(le, open('../parameters/store_type_scaler.pkl', 'wb'))"
   ]
  },
  {
   "cell_type": "markdown",
   "id": "7ba12a41",
   "metadata": {
    "heading_collapsed": true,
    "hidden": true
   },
   "source": [
    "### <font color='#2365FF'> 5.3.2. Nature Transformation </font>"
   ]
  },
  {
   "cell_type": "code",
   "execution_count": 10,
   "id": "1a58548d",
   "metadata": {
    "ExecuteTime": {
     "end_time": "2021-09-30T17:05:28.728211Z",
     "start_time": "2021-09-30T17:05:20.626969Z"
    },
    "hidden": true
   },
   "outputs": [],
   "source": [
    "# month\n",
    "df5['month_sin'] = df5['month'].apply(lambda x: np.sin(x * (2. * np.pi / 12)))\n",
    "df5['month_cos'] = df5['month'].apply(lambda x: np.cos(x * (2. * np.pi / 12)))\n",
    "# day\n",
    "df5['day_sin'] = df5['day'].apply(lambda x: np.sin(x * (2. * np.pi / 30)))\n",
    "df5['day_cos'] = df5['day'].apply(lambda x: np.cos(x * (2. * np.pi / 30)))\n",
    "# day_of_week\n",
    "df5['day_of_week_sin'] = df5['day_of_week'].apply(lambda x: np.sin(x * (2. * np.pi / 7)))\n",
    "df5['day_of_week_cos'] = df5['day_of_week'].apply(lambda x: np.cos(x * (2. * np.pi / 7)))\n",
    "# week_of_year\n",
    "df5['week_of_year_sin'] = df5['week_of_year'].apply(lambda x: np.sin(x * (2. * np.pi / 52)))\n",
    "df5['week_of_year_cos'] = df5['week_of_year'].apply(lambda x: np.cos(x * (2. * np.pi / 52)))"
   ]
  },
  {
   "cell_type": "markdown",
   "id": "5e42ec7d",
   "metadata": {
    "heading_collapsed": true,
    "hidden": true
   },
   "source": [
    "### <font color='#2365FF'> 5.3.3. Response Variable Tranformation - Log Transform </font>"
   ]
  },
  {
   "cell_type": "code",
   "execution_count": 11,
   "id": "4560909e",
   "metadata": {
    "ExecuteTime": {
     "end_time": "2021-09-30T17:05:28.750979Z",
     "start_time": "2021-09-30T17:05:28.730018Z"
    },
    "hidden": true
   },
   "outputs": [],
   "source": [
    "df5['sales'] = np.log1p(df5['sales'])"
   ]
  },
  {
   "cell_type": "markdown",
   "id": "bc5a82e0",
   "metadata": {
    "heading_collapsed": true
   },
   "source": [
    "# <font color='#3F0094'> 6. Feature Selection </font>"
   ]
  },
  {
   "cell_type": "markdown",
   "id": "26f5b9a7",
   "metadata": {
    "heading_collapsed": true,
    "hidden": true
   },
   "source": [
    "## <font color='#200CF'> 6.0. Dataframe in Progress Backup </font>"
   ]
  },
  {
   "cell_type": "code",
   "execution_count": 12,
   "id": "fc746ce0",
   "metadata": {
    "ExecuteTime": {
     "end_time": "2021-09-30T17:05:28.924867Z",
     "start_time": "2021-09-30T17:05:28.752505Z"
    },
    "hidden": true
   },
   "outputs": [],
   "source": [
    "df6 = df5.copy()"
   ]
  },
  {
   "cell_type": "markdown",
   "id": "b6cc9fe2",
   "metadata": {
    "heading_collapsed": true,
    "hidden": true
   },
   "source": [
    "## <font color='#200CF'> 6.1. Dataframe Split into Training and Test Dataset </font>"
   ]
  },
  {
   "cell_type": "code",
   "execution_count": 39,
   "id": "2a6479cd",
   "metadata": {
    "ExecuteTime": {
     "end_time": "2021-09-30T14:28:34.088221Z",
     "start_time": "2021-09-30T14:28:34.031136Z"
    },
    "hidden": true
   },
   "outputs": [],
   "source": [
    "# droping irrelevant and variables that were derived\n",
    "cols_drop = ['month', 'day', 'day_of_week', 'week_of_year']\n",
    "df6.drop(labels=cols_drop, axis=1, inplace=True)"
   ]
  },
  {
   "cell_type": "code",
   "execution_count": 40,
   "id": "2ef3551b",
   "metadata": {
    "ExecuteTime": {
     "end_time": "2021-09-30T14:28:34.210458Z",
     "start_time": "2021-09-30T14:28:34.090698Z"
    },
    "hidden": true
   },
   "outputs": [],
   "source": [
    "# selecting the last 7 months as test dataset and all previous dates as train dataset\n",
    "X_train = df6[df6['date'] < '2015-01-01']\n",
    "y_train = X_train['sales']\n",
    "\n",
    "X_test = df6[df6['date'] >= '2015-01-01']\n",
    "y_test = X_test['sales']"
   ]
  },
  {
   "cell_type": "markdown",
   "id": "61ffa23e",
   "metadata": {
    "heading_collapsed": true,
    "hidden": true
   },
   "source": [
    "## <font color='#200CF'> 6.2. Boruta as Feature Selector </font>"
   ]
  },
  {
   "cell_type": "code",
   "execution_count": 41,
   "id": "25f23181",
   "metadata": {
    "ExecuteTime": {
     "end_time": "2021-09-30T14:42:35.797430Z",
     "start_time": "2021-09-30T14:30:50.631031Z"
    },
    "hidden": true
   },
   "outputs": [
    {
     "name": "stdout",
     "output_type": "stream",
     "text": [
      "Iteration: \t1 / 100\n",
      "Confirmed: \t0\n",
      "Tentative: \t27\n",
      "Rejected: \t0\n",
      "Iteration: \t2 / 100\n",
      "Confirmed: \t0\n",
      "Tentative: \t27\n",
      "Rejected: \t0\n",
      "Iteration: \t3 / 100\n",
      "Confirmed: \t0\n",
      "Tentative: \t27\n",
      "Rejected: \t0\n",
      "Iteration: \t4 / 100\n",
      "Confirmed: \t0\n",
      "Tentative: \t27\n",
      "Rejected: \t0\n",
      "Iteration: \t5 / 100\n",
      "Confirmed: \t0\n",
      "Tentative: \t27\n",
      "Rejected: \t0\n",
      "Iteration: \t6 / 100\n",
      "Confirmed: \t0\n",
      "Tentative: \t27\n",
      "Rejected: \t0\n",
      "Iteration: \t7 / 100\n",
      "Confirmed: \t0\n",
      "Tentative: \t27\n",
      "Rejected: \t0\n",
      "Iteration: \t8 / 100\n",
      "Confirmed: \t18\n",
      "Tentative: \t0\n",
      "Rejected: \t9\n",
      "\n",
      "\n",
      "BorutaPy finished running.\n",
      "\n",
      "Iteration: \t9 / 100\n",
      "Confirmed: \t18\n",
      "Tentative: \t0\n",
      "Rejected: \t9\n"
     ]
    }
   ],
   "source": [
    "# train and test dataset for boruta\n",
    "X_train_n = X_train.drop(labels=['date', 'sales'], axis=1).values\n",
    "y_train_n = y_train.values.ravel()\n",
    "\n",
    "# defining RandomForestRegressor\n",
    "rf = RandomForestRegressor(n_jobs=-1)\n",
    "\n",
    "# defining BorutaPy\n",
    "boruta = BorutaPy(rf, n_estimators='auto', verbose=2, random_state=42).fit(X_train_n, y_train_n)"
   ]
  },
  {
   "cell_type": "markdown",
   "id": "8a3e1f28",
   "metadata": {
    "hidden": true
   },
   "source": [
    "### <font color='#2365FF'> 6.2.1. Best Features from Boruta </font>"
   ]
  },
  {
   "cell_type": "code",
   "execution_count": 42,
   "id": "3cba6172",
   "metadata": {
    "ExecuteTime": {
     "end_time": "2021-09-30T14:42:35.811027Z",
     "start_time": "2021-09-30T14:42:35.800342Z"
    },
    "hidden": true
   },
   "outputs": [
    {
     "name": "stdout",
     "output_type": "stream",
     "text": [
      "List of columns selected by Boruta:\n",
      "store, promo, store_type, assortment, competition_distance, competition_open_since_month, competition_open_since_year, promo2, promo2_since_week, promo2_since_year, competition_months_old, promo2_months_old, month_cos, day_sin, day_cos, day_of_week_sin, day_of_week_cos, week_of_year_cos.\n",
      "\n",
      "List of columns rejected by Boruta:\n",
      "month_sin, promo2_active, school_holiday, st_hol_0, st_hol_a, st_hol_b, st_hol_c, week_of_year_sin, year.\n"
     ]
    }
   ],
   "source": [
    "# all features except date and sales\n",
    "X_train_fs = X_train.head(1).drop(['date', 'sales'], axis=1)\n",
    "\n",
    "# features selected by boruta\n",
    "cols_selected = boruta.support_.tolist()\n",
    "cols_selected_names = X_train_fs.iloc[:, cols_selected].columns.tolist()\n",
    "print(f\"List of columns selected by Boruta:\\n{', '.join(cols_selected_names)}.\")\n",
    "\n",
    "# features not selected by boruta\n",
    "cols_rejected_boruta = list(np.setdiff1d(X_train_fs.columns, cols_selected_names))\n",
    "print(f\"\\nList of columns rejected by Boruta:\\n{', '.join(cols_rejected_boruta)}.\")"
   ]
  },
  {
   "cell_type": "markdown",
   "id": "ea3e97c9",
   "metadata": {
    "heading_collapsed": true,
    "hidden": true
   },
   "source": [
    "## <font color='#200CF'> 6.3. Feature Selection - Final Decision </font>"
   ]
  },
  {
   "cell_type": "code",
   "execution_count": 43,
   "id": "e29f0dd7",
   "metadata": {
    "ExecuteTime": {
     "end_time": "2021-09-30T14:54:53.235156Z",
     "start_time": "2021-09-30T14:54:53.228004Z"
    },
    "hidden": true
   },
   "outputs": [],
   "source": [
    "# using boruta feature selection + adding month_sin\n",
    "selected_features = [\n",
    "    'store', 'promo', 'store_type', 'assortment', 'competition_distance', 'competition_open_since_month',\n",
    "    'competition_open_since_year', 'promo2', 'promo2_since_week', 'promo2_since_year', 'competition_months_old',\n",
    "    'promo2_months_old', 'month_sin', 'month_cos', 'day_sin', 'day_cos', 'day_of_week_sin', 'day_of_week_cos', \n",
    "    'week_of_year_sin', 'week_of_year_cos']\n",
    "\n",
    "# inserting 'date' and 'sales' back to the features list\n",
    "selected_features.extend(['date', 'sales'])"
   ]
  },
  {
   "cell_type": "markdown",
   "id": "9e053bd3",
   "metadata": {
    "heading_collapsed": true
   },
   "source": [
    "# <font color='#3F0094'> 7. Machine Learning </font>"
   ]
  },
  {
   "cell_type": "markdown",
   "id": "5eca7a93",
   "metadata": {
    "heading_collapsed": true,
    "hidden": true
   },
   "source": [
    "## <font color='#200CF'> 7.0. Dataframe Backup and Train/Test Split</font>"
   ]
  },
  {
   "cell_type": "code",
   "execution_count": 13,
   "id": "dfa1bef4",
   "metadata": {
    "ExecuteTime": {
     "end_time": "2021-09-30T17:05:29.127424Z",
     "start_time": "2021-09-30T17:05:28.926685Z"
    },
    "hidden": true
   },
   "outputs": [],
   "source": [
    "# selected features in the previous stage\n",
    "selected_features = [\n",
    "    'store', 'promo', 'store_type', 'assortment', 'competition_distance', 'competition_open_since_month',\n",
    "    'competition_open_since_year', 'promo2', 'promo2_since_week', 'promo2_since_year', 'competition_months_old',\n",
    "    'promo2_months_old', 'month_sin', 'month_cos', 'day_sin', 'day_cos', 'day_of_week_sin', 'day_of_week_cos', \n",
    "    'week_of_year_sin', 'week_of_year_cos', 'date', 'sales']\n",
    "# dataframe backup using selected features\n",
    "df7 = df6[selected_features].copy()\n",
    "\n",
    "# train/test split\n",
    "# selecting the last 7 months as test dataset and all previous dates as train dataset\n",
    "X_train = df7[df7['date'] < '2015-01-01']\n",
    "y_train = X_train['sales']\n",
    "X_test = df7[df7['date'] >= '2015-01-01']\n",
    "y_test = X_test['sales']\n",
    "\n",
    "# WARNING: Remember to drop 'date' and 'sales' columns from X_train and X_test before running models\n",
    "X_train_ml = X_train.drop(labels=['date', 'sales'], axis=1)\n",
    "X_test_ml = X_test.drop(labels=['date', 'sales'], axis=1)"
   ]
  },
  {
   "cell_type": "markdown",
   "id": "df92a318",
   "metadata": {
    "heading_collapsed": true,
    "hidden": true
   },
   "source": [
    "## <font color='#200CF'> 7.1. Average Model </font>"
   ]
  },
  {
   "cell_type": "code",
   "execution_count": 45,
   "id": "d7ac7a96",
   "metadata": {
    "ExecuteTime": {
     "end_time": "2021-09-30T14:57:29.013281Z",
     "start_time": "2021-09-30T14:57:28.874194Z"
    },
    "hidden": true
   },
   "outputs": [
    {
     "data": {
      "text/html": [
       "<div>\n",
       "<style scoped>\n",
       "    .dataframe tbody tr th:only-of-type {\n",
       "        vertical-align: middle;\n",
       "    }\n",
       "\n",
       "    .dataframe tbody tr th {\n",
       "        vertical-align: top;\n",
       "    }\n",
       "\n",
       "    .dataframe thead th {\n",
       "        text-align: right;\n",
       "    }\n",
       "</style>\n",
       "<table border=\"1\" class=\"dataframe\">\n",
       "  <thead>\n",
       "    <tr style=\"text-align: right;\">\n",
       "      <th></th>\n",
       "      <th>Model Name</th>\n",
       "      <th>MAE</th>\n",
       "      <th>MAPE</th>\n",
       "      <th>RMSE</th>\n",
       "    </tr>\n",
       "  </thead>\n",
       "  <tbody>\n",
       "    <tr>\n",
       "      <th>0</th>\n",
       "      <td>Average Model</td>\n",
       "      <td>1435.166505</td>\n",
       "      <td>0.213648</td>\n",
       "      <td>1940.458462</td>\n",
       "    </tr>\n",
       "  </tbody>\n",
       "</table>\n",
       "</div>"
      ],
      "text/plain": [
       "      Model Name          MAE      MAPE         RMSE\n",
       "0  Average Model  1435.166505  0.213648  1940.458462"
      ]
     },
     "execution_count": 45,
     "metadata": {},
     "output_type": "execute_result"
    }
   ],
   "source": [
    "# for this model it is fine to use date and sales from X_train and X_test\n",
    "# using store and sales columns to compare actual values and predicted (average) values\n",
    "aux1 = X_test[['store', 'sales']]\n",
    "\n",
    "# using X_train dataset to calculate the average sales for each store\n",
    "aux2 = X_train[['store', 'sales']].groupby('store').mean().reset_index().rename(columns={'sales': 'predictions'})\n",
    "# aux1 = aux1.reset_index().merge(aux2, how='left', on='store', validate='many_to_one').set_index('index')\n",
    "aux1 = aux1.merge(aux2, how='left', on='store', validate='many_to_one')\n",
    "yhat_baseline = aux1['predictions']\n",
    "\n",
    "# performance test\n",
    "baseline_result = ml_error('Average Model', np.expm1(y_test), np.expm1(yhat_baseline))\n",
    "baseline_result"
   ]
  },
  {
   "cell_type": "markdown",
   "id": "61383589",
   "metadata": {
    "heading_collapsed": true,
    "hidden": true
   },
   "source": [
    "## <font color='#200CF'> 7.2. Linear Regression Model </font>"
   ]
  },
  {
   "cell_type": "code",
   "execution_count": 46,
   "id": "0f57b5a9",
   "metadata": {
    "ExecuteTime": {
     "end_time": "2021-09-30T14:57:31.439643Z",
     "start_time": "2021-09-30T14:57:30.753223Z"
    },
    "hidden": true
   },
   "outputs": [
    {
     "data": {
      "text/html": [
       "<div>\n",
       "<style scoped>\n",
       "    .dataframe tbody tr th:only-of-type {\n",
       "        vertical-align: middle;\n",
       "    }\n",
       "\n",
       "    .dataframe tbody tr th {\n",
       "        vertical-align: top;\n",
       "    }\n",
       "\n",
       "    .dataframe thead th {\n",
       "        text-align: right;\n",
       "    }\n",
       "</style>\n",
       "<table border=\"1\" class=\"dataframe\">\n",
       "  <thead>\n",
       "    <tr style=\"text-align: right;\">\n",
       "      <th></th>\n",
       "      <th>Model Name</th>\n",
       "      <th>MAE</th>\n",
       "      <th>MAPE</th>\n",
       "      <th>RMSE</th>\n",
       "    </tr>\n",
       "  </thead>\n",
       "  <tbody>\n",
       "    <tr>\n",
       "      <th>0</th>\n",
       "      <td>Linear Regression</td>\n",
       "      <td>1948.00936</td>\n",
       "      <td>0.314993</td>\n",
       "      <td>2701.059512</td>\n",
       "    </tr>\n",
       "  </tbody>\n",
       "</table>\n",
       "</div>"
      ],
      "text/plain": [
       "          Model Name         MAE      MAPE         RMSE\n",
       "0  Linear Regression  1948.00936  0.314993  2701.059512"
      ]
     },
     "execution_count": 46,
     "metadata": {},
     "output_type": "execute_result"
    }
   ],
   "source": [
    "# model\n",
    "lr = LinearRegression().fit(X_train_ml, y_train)\n",
    "\n",
    "# prediction\n",
    "yhat_lr = lr.predict(X_test_ml)\n",
    "\n",
    "# performance test\n",
    "lr_result = ml_error('Linear Regression', np.expm1(y_test), np.expm1(yhat_lr))\n",
    "lr_result"
   ]
  },
  {
   "cell_type": "markdown",
   "id": "a4b06027",
   "metadata": {
    "heading_collapsed": true,
    "hidden": true
   },
   "source": [
    "## <font color='#200CF'> 7.3. Linear Regression Regularized (Lasso) Model </font>"
   ]
  },
  {
   "cell_type": "code",
   "execution_count": 47,
   "id": "f6cc56b5",
   "metadata": {
    "ExecuteTime": {
     "end_time": "2021-09-30T14:57:40.428334Z",
     "start_time": "2021-09-30T14:57:39.622678Z"
    },
    "hidden": true
   },
   "outputs": [
    {
     "data": {
      "text/html": [
       "<div>\n",
       "<style scoped>\n",
       "    .dataframe tbody tr th:only-of-type {\n",
       "        vertical-align: middle;\n",
       "    }\n",
       "\n",
       "    .dataframe tbody tr th {\n",
       "        vertical-align: top;\n",
       "    }\n",
       "\n",
       "    .dataframe thead th {\n",
       "        text-align: right;\n",
       "    }\n",
       "</style>\n",
       "<table border=\"1\" class=\"dataframe\">\n",
       "  <thead>\n",
       "    <tr style=\"text-align: right;\">\n",
       "      <th></th>\n",
       "      <th>Model Name</th>\n",
       "      <th>MAE</th>\n",
       "      <th>MAPE</th>\n",
       "      <th>RMSE</th>\n",
       "    </tr>\n",
       "  </thead>\n",
       "  <tbody>\n",
       "    <tr>\n",
       "      <th>0</th>\n",
       "      <td>Linear Regression - Lasso</td>\n",
       "      <td>1920.550609</td>\n",
       "      <td>0.298934</td>\n",
       "      <td>2720.071156</td>\n",
       "    </tr>\n",
       "  </tbody>\n",
       "</table>\n",
       "</div>"
      ],
      "text/plain": [
       "                  Model Name          MAE      MAPE         RMSE\n",
       "0  Linear Regression - Lasso  1920.550609  0.298934  2720.071156"
      ]
     },
     "execution_count": 47,
     "metadata": {},
     "output_type": "execute_result"
    }
   ],
   "source": [
    "# model\n",
    "lrr = Lasso(alpha=0.001).fit(X_train_ml, y_train)\n",
    "\n",
    "# prediction\n",
    "yhat_lrr = lrr.predict(X_test_ml)\n",
    "\n",
    "# performance test\n",
    "lrr_result = ml_error('Linear Regression - Lasso', np.expm1(y_test), np.expm1(yhat_lrr))\n",
    "lrr_result"
   ]
  },
  {
   "cell_type": "markdown",
   "id": "e37db961",
   "metadata": {
    "heading_collapsed": true,
    "hidden": true
   },
   "source": [
    "## <font color='#200CF'> 7.4. Random Forest Regressor </font>"
   ]
  },
  {
   "cell_type": "code",
   "execution_count": 48,
   "id": "255a386f",
   "metadata": {
    "ExecuteTime": {
     "end_time": "2021-09-30T15:02:25.765348Z",
     "start_time": "2021-09-30T15:01:04.063859Z"
    },
    "hidden": true
   },
   "outputs": [
    {
     "data": {
      "text/html": [
       "<div>\n",
       "<style scoped>\n",
       "    .dataframe tbody tr th:only-of-type {\n",
       "        vertical-align: middle;\n",
       "    }\n",
       "\n",
       "    .dataframe tbody tr th {\n",
       "        vertical-align: top;\n",
       "    }\n",
       "\n",
       "    .dataframe thead th {\n",
       "        text-align: right;\n",
       "    }\n",
       "</style>\n",
       "<table border=\"1\" class=\"dataframe\">\n",
       "  <thead>\n",
       "    <tr style=\"text-align: right;\">\n",
       "      <th></th>\n",
       "      <th>Model Name</th>\n",
       "      <th>MAE</th>\n",
       "      <th>MAPE</th>\n",
       "      <th>RMSE</th>\n",
       "    </tr>\n",
       "  </thead>\n",
       "  <tbody>\n",
       "    <tr>\n",
       "      <th>0</th>\n",
       "      <td>Random Forest Regressor</td>\n",
       "      <td>802.756085</td>\n",
       "      <td>0.116518</td>\n",
       "      <td>1217.996603</td>\n",
       "    </tr>\n",
       "  </tbody>\n",
       "</table>\n",
       "</div>"
      ],
      "text/plain": [
       "                Model Name         MAE      MAPE         RMSE\n",
       "0  Random Forest Regressor  802.756085  0.116518  1217.996603"
      ]
     },
     "execution_count": 48,
     "metadata": {},
     "output_type": "execute_result"
    }
   ],
   "source": [
    "# model\n",
    "rf = RandomForestRegressor(n_estimators=200, n_jobs=-1, random_state=42).fit(X_train_ml, y_train)\n",
    "\n",
    "# prediction\n",
    "yhat_rf = rf.predict(X_test_ml)\n",
    "\n",
    "# performance test\n",
    "rf_result = ml_error('Random Forest Regressor', np.expm1(y_test), np.expm1(yhat_rf))\n",
    "rf_result"
   ]
  },
  {
   "cell_type": "markdown",
   "id": "45591f48",
   "metadata": {
    "heading_collapsed": true,
    "hidden": true
   },
   "source": [
    "## <font color='#200CF'> 7.5. XGBoost Regressor </font>"
   ]
  },
  {
   "cell_type": "code",
   "execution_count": 50,
   "id": "194c46f8",
   "metadata": {
    "ExecuteTime": {
     "end_time": "2021-09-30T15:03:29.466081Z",
     "start_time": "2021-09-30T15:03:20.062587Z"
    },
    "hidden": true
   },
   "outputs": [
    {
     "data": {
      "text/html": [
       "<div>\n",
       "<style scoped>\n",
       "    .dataframe tbody tr th:only-of-type {\n",
       "        vertical-align: middle;\n",
       "    }\n",
       "\n",
       "    .dataframe tbody tr th {\n",
       "        vertical-align: top;\n",
       "    }\n",
       "\n",
       "    .dataframe thead th {\n",
       "        text-align: right;\n",
       "    }\n",
       "</style>\n",
       "<table border=\"1\" class=\"dataframe\">\n",
       "  <thead>\n",
       "    <tr style=\"text-align: right;\">\n",
       "      <th></th>\n",
       "      <th>Model Name</th>\n",
       "      <th>MAE</th>\n",
       "      <th>MAPE</th>\n",
       "      <th>RMSE</th>\n",
       "    </tr>\n",
       "  </thead>\n",
       "  <tbody>\n",
       "    <tr>\n",
       "      <th>0</th>\n",
       "      <td>XGBoost Regressor</td>\n",
       "      <td>856.028582</td>\n",
       "      <td>0.121726</td>\n",
       "      <td>1241.039869</td>\n",
       "    </tr>\n",
       "  </tbody>\n",
       "</table>\n",
       "</div>"
      ],
      "text/plain": [
       "          Model Name         MAE      MAPE         RMSE\n",
       "0  XGBoost Regressor  856.028582  0.121726  1241.039869"
      ]
     },
     "execution_count": 50,
     "metadata": {},
     "output_type": "execute_result"
    }
   ],
   "source": [
    "# model\n",
    "xgb_model = xgb.XGBRegressor(objective='reg:squarederror', \n",
    "                             n_estimators=500, \n",
    "                             eta=0.1, \n",
    "                             max_depth=7, \n",
    "                             subsample=0.7, \n",
    "                             colsample_bytree=0.7, \n",
    "                             tree_method='gpu_hist').fit(X_train_ml, y_train)\n",
    "\n",
    "# prediction\n",
    "yhat_xgb = xgb_model.predict(X_test_ml)\n",
    "\n",
    "# performance test\n",
    "xgb_result = ml_error('XGBoost Regressor', np.expm1(y_test), np.expm1(yhat_xgb))\n",
    "xgb_result"
   ]
  },
  {
   "cell_type": "markdown",
   "id": "d7e038aa",
   "metadata": {
    "heading_collapsed": true,
    "hidden": true
   },
   "source": [
    "## <font color='#200CF'> 7.6. Comparison of Models Performance  </font>"
   ]
  },
  {
   "cell_type": "code",
   "execution_count": 51,
   "id": "824c48bc",
   "metadata": {
    "ExecuteTime": {
     "end_time": "2021-09-30T15:03:49.788279Z",
     "start_time": "2021-09-30T15:03:49.723949Z"
    },
    "hidden": true,
    "scrolled": true
   },
   "outputs": [
    {
     "data": {
      "text/html": [
       "<div>\n",
       "<style scoped>\n",
       "    .dataframe tbody tr th:only-of-type {\n",
       "        vertical-align: middle;\n",
       "    }\n",
       "\n",
       "    .dataframe tbody tr th {\n",
       "        vertical-align: top;\n",
       "    }\n",
       "\n",
       "    .dataframe thead th {\n",
       "        text-align: right;\n",
       "    }\n",
       "</style>\n",
       "<table border=\"1\" class=\"dataframe\">\n",
       "  <thead>\n",
       "    <tr style=\"text-align: right;\">\n",
       "      <th></th>\n",
       "      <th>Model Name</th>\n",
       "      <th>MAE</th>\n",
       "      <th>MAPE</th>\n",
       "      <th>RMSE</th>\n",
       "    </tr>\n",
       "  </thead>\n",
       "  <tbody>\n",
       "    <tr>\n",
       "      <th>0</th>\n",
       "      <td>Random Forest Regressor</td>\n",
       "      <td>802.756085</td>\n",
       "      <td>0.116518</td>\n",
       "      <td>1217.996603</td>\n",
       "    </tr>\n",
       "    <tr>\n",
       "      <th>1</th>\n",
       "      <td>XGBoost Regressor</td>\n",
       "      <td>856.028582</td>\n",
       "      <td>0.121726</td>\n",
       "      <td>1241.039869</td>\n",
       "    </tr>\n",
       "    <tr>\n",
       "      <th>2</th>\n",
       "      <td>Average Model</td>\n",
       "      <td>1435.166505</td>\n",
       "      <td>0.213648</td>\n",
       "      <td>1940.458462</td>\n",
       "    </tr>\n",
       "    <tr>\n",
       "      <th>3</th>\n",
       "      <td>Linear Regression</td>\n",
       "      <td>1948.009360</td>\n",
       "      <td>0.314993</td>\n",
       "      <td>2701.059512</td>\n",
       "    </tr>\n",
       "    <tr>\n",
       "      <th>4</th>\n",
       "      <td>Linear Regression - Lasso</td>\n",
       "      <td>1920.550609</td>\n",
       "      <td>0.298934</td>\n",
       "      <td>2720.071156</td>\n",
       "    </tr>\n",
       "  </tbody>\n",
       "</table>\n",
       "</div>"
      ],
      "text/plain": [
       "                  Model Name          MAE      MAPE         RMSE\n",
       "0    Random Forest Regressor   802.756085  0.116518  1217.996603\n",
       "1          XGBoost Regressor   856.028582  0.121726  1241.039869\n",
       "2              Average Model  1435.166505  0.213648  1940.458462\n",
       "3          Linear Regression  1948.009360  0.314993  2701.059512\n",
       "4  Linear Regression - Lasso  1920.550609  0.298934  2720.071156"
      ]
     },
     "execution_count": 51,
     "metadata": {},
     "output_type": "execute_result"
    }
   ],
   "source": [
    "single_performance = pd.concat([baseline_result, lr_result, lrr_result, rf_result, xgb_result])\n",
    "single_performance.sort_values(by='RMSE', inplace=True)\n",
    "# single_performance.to_csv('../ml_models_performances/single_performance.csv', index=False)\n",
    "single_performance.reset_index(drop=True)"
   ]
  },
  {
   "cell_type": "markdown",
   "id": "2d08470b",
   "metadata": {
    "heading_collapsed": true,
    "hidden": true
   },
   "source": [
    "## <font color='#200CF'> 7.7. Cross-Validation </font>"
   ]
  },
  {
   "cell_type": "markdown",
   "id": "9d2eb7d5",
   "metadata": {
    "heading_collapsed": true,
    "hidden": true
   },
   "source": [
    "### <font color='#2365FF'> 7.7.1. Linear Regression - Cross Validation </font>"
   ]
  },
  {
   "cell_type": "code",
   "execution_count": 52,
   "id": "72c7ceaf",
   "metadata": {
    "ExecuteTime": {
     "end_time": "2021-09-30T15:06:35.978599Z",
     "start_time": "2021-09-30T15:06:32.682735Z"
    },
    "hidden": true
   },
   "outputs": [],
   "source": [
    "model = LinearRegression()\n",
    "lr_result_cv = cross_validation(X_train, kfold=8, model_name='Linear Regression', ml_model=model, verbose=False)"
   ]
  },
  {
   "cell_type": "markdown",
   "id": "b0661b74",
   "metadata": {
    "heading_collapsed": true,
    "hidden": true
   },
   "source": [
    "### <font color='#2365FF'> 7.7.2. Linear Regression Regularized (Lasso) - Cross Validation </font>"
   ]
  },
  {
   "cell_type": "code",
   "execution_count": 53,
   "id": "cd7280a8",
   "metadata": {
    "ExecuteTime": {
     "end_time": "2021-09-30T15:06:43.264175Z",
     "start_time": "2021-09-30T15:06:35.982126Z"
    },
    "hidden": true
   },
   "outputs": [],
   "source": [
    "model = Lasso(alpha=0.001)\n",
    "lasso_result_cv = cross_validation(X_train, kfold=8, model_name='Lasso', ml_model=model, verbose=False)"
   ]
  },
  {
   "cell_type": "markdown",
   "id": "85fe6a16",
   "metadata": {
    "heading_collapsed": true,
    "hidden": true
   },
   "source": [
    "### <font color='#2365FF'> 7.7.3. Random Forest Regressor - Cross Validation </font>"
   ]
  },
  {
   "cell_type": "code",
   "execution_count": 54,
   "id": "bd1a0720",
   "metadata": {
    "ExecuteTime": {
     "end_time": "2021-09-30T15:15:23.987938Z",
     "start_time": "2021-09-30T15:06:43.285271Z"
    },
    "hidden": true
   },
   "outputs": [
    {
     "name": "stdout",
     "output_type": "stream",
     "text": [
      "\n",
      "KFold Number: 8\n",
      "\n",
      "KFold Number: 7\n",
      "\n",
      "KFold Number: 6\n",
      "\n",
      "KFold Number: 5\n",
      "\n",
      "KFold Number: 4\n",
      "\n",
      "KFold Number: 3\n",
      "\n",
      "KFold Number: 2\n",
      "\n",
      "KFold Number: 1\n"
     ]
    }
   ],
   "source": [
    "model = RandomForestRegressor(n_estimators=200, \n",
    "                              n_jobs=-1, \n",
    "                              random_state=42).fit(X_train_ml, y_train)\n",
    "rf_result_cv = cross_validation(X_train, kfold=8, model_name='Random Forest Regressor', ml_model=model, verbose=True)"
   ]
  },
  {
   "cell_type": "markdown",
   "id": "c6b90cdc",
   "metadata": {
    "heading_collapsed": true,
    "hidden": true
   },
   "source": [
    "### <font color='#2365FF'> 7.7.4. XGBoost Regressor - Cross Validation </font>"
   ]
  },
  {
   "cell_type": "code",
   "execution_count": 55,
   "id": "bfeaf8ba",
   "metadata": {
    "ExecuteTime": {
     "end_time": "2021-09-30T15:16:37.038985Z",
     "start_time": "2021-09-30T15:15:24.042245Z"
    },
    "hidden": true
   },
   "outputs": [
    {
     "name": "stdout",
     "output_type": "stream",
     "text": [
      "\n",
      "KFold Number: 8\n",
      "\n",
      "KFold Number: 7\n",
      "\n",
      "KFold Number: 6\n",
      "\n",
      "KFold Number: 5\n",
      "\n",
      "KFold Number: 4\n",
      "\n",
      "KFold Number: 3\n",
      "\n",
      "KFold Number: 2\n",
      "\n",
      "KFold Number: 1\n"
     ]
    }
   ],
   "source": [
    "model = xgb.XGBRegressor(objective='reg:squarederror', \n",
    "                         n_estimators=500, \n",
    "                         eta=0.1, \n",
    "                         max_depth=7, \n",
    "                         subsample=0.7, \n",
    "                         colsample_bytree=0.7, \n",
    "                         tree_method='gpu_hist').fit(X_train_ml, y_train)\n",
    "xgb_result_cv = cross_validation(X_train, kfold=8, model_name='XGBoost Regressor', ml_model=model, verbose=True)"
   ]
  },
  {
   "cell_type": "markdown",
   "id": "1cbaedc1",
   "metadata": {
    "heading_collapsed": true,
    "hidden": true
   },
   "source": [
    "## <font color='#200CF'> 7.8. Comparison of Models Performance w/ Cross Validation </font>"
   ]
  },
  {
   "cell_type": "code",
   "execution_count": 57,
   "id": "9b7b3c83",
   "metadata": {
    "ExecuteTime": {
     "end_time": "2021-09-30T15:16:50.622439Z",
     "start_time": "2021-09-30T15:16:50.603541Z"
    },
    "hidden": true,
    "scrolled": true
   },
   "outputs": [
    {
     "data": {
      "text/html": [
       "<div>\n",
       "<style scoped>\n",
       "    .dataframe tbody tr th:only-of-type {\n",
       "        vertical-align: middle;\n",
       "    }\n",
       "\n",
       "    .dataframe tbody tr th {\n",
       "        vertical-align: top;\n",
       "    }\n",
       "\n",
       "    .dataframe thead th {\n",
       "        text-align: right;\n",
       "    }\n",
       "</style>\n",
       "<table border=\"1\" class=\"dataframe\">\n",
       "  <thead>\n",
       "    <tr style=\"text-align: right;\">\n",
       "      <th></th>\n",
       "      <th>Model Name</th>\n",
       "      <th>MAE CV</th>\n",
       "      <th>MAPE CV</th>\n",
       "      <th>RMSE CV</th>\n",
       "    </tr>\n",
       "  </thead>\n",
       "  <tbody>\n",
       "    <tr>\n",
       "      <th>0</th>\n",
       "      <td>Random Forest Regressor</td>\n",
       "      <td>733.36 +/- 170.74</td>\n",
       "      <td>0.11 +/- 0.02</td>\n",
       "      <td>1098.05 +/- 251.98</td>\n",
       "    </tr>\n",
       "    <tr>\n",
       "      <th>1</th>\n",
       "      <td>XGBoost Regressor</td>\n",
       "      <td>783.55 +/- 150.41</td>\n",
       "      <td>0.11 +/- 0.01</td>\n",
       "      <td>1141.07 +/- 218.79</td>\n",
       "    </tr>\n",
       "    <tr>\n",
       "      <th>2</th>\n",
       "      <td>Linear Regression</td>\n",
       "      <td>2003.9 +/- 221.15</td>\n",
       "      <td>0.32 +/- 0.02</td>\n",
       "      <td>2796.16 +/- 364.41</td>\n",
       "    </tr>\n",
       "    <tr>\n",
       "      <th>3</th>\n",
       "      <td>Lasso</td>\n",
       "      <td>1989.23 +/- 247.15</td>\n",
       "      <td>0.31 +/- 0.01</td>\n",
       "      <td>2819.47 +/- 388.77</td>\n",
       "    </tr>\n",
       "  </tbody>\n",
       "</table>\n",
       "</div>"
      ],
      "text/plain": [
       "                Model Name              MAE CV        MAPE CV  \\\n",
       "0  Random Forest Regressor   733.36 +/- 170.74  0.11 +/- 0.02   \n",
       "1        XGBoost Regressor   783.55 +/- 150.41  0.11 +/- 0.01   \n",
       "2        Linear Regression   2003.9 +/- 221.15  0.32 +/- 0.02   \n",
       "3                    Lasso  1989.23 +/- 247.15  0.31 +/- 0.01   \n",
       "\n",
       "              RMSE CV  \n",
       "0  1098.05 +/- 251.98  \n",
       "1  1141.07 +/- 218.79  \n",
       "2  2796.16 +/- 364.41  \n",
       "3  2819.47 +/- 388.77  "
      ]
     },
     "execution_count": 57,
     "metadata": {},
     "output_type": "execute_result"
    }
   ],
   "source": [
    "cv_performance = pd.concat([lr_result_cv, lasso_result_cv, rf_result_cv, xgb_result_cv])\n",
    "cv_performance.sort_values(by='RMSE CV', inplace=True)\n",
    "# cv_performance.to_csv('../ml_models_performances/cross_validation_performance.csv', index=False)\n",
    "cv_performance.reset_index(drop=True)"
   ]
  },
  {
   "cell_type": "markdown",
   "id": "efc3a708",
   "metadata": {
    "heading_collapsed": true
   },
   "source": [
    "# <font color='#3F0094'> 8. Hyperparameter Fine Tuning </font>"
   ]
  },
  {
   "cell_type": "markdown",
   "id": "69bafd76",
   "metadata": {
    "heading_collapsed": true,
    "hidden": true
   },
   "source": [
    "## <font color='#200CF'> 8.0. Dataframe Backup and Train/Test Split </font>"
   ]
  },
  {
   "cell_type": "code",
   "execution_count": 14,
   "id": "1082b915",
   "metadata": {
    "ExecuteTime": {
     "end_time": "2021-09-30T17:08:38.041637Z",
     "start_time": "2021-09-30T17:08:37.863614Z"
    },
    "hidden": true
   },
   "outputs": [],
   "source": [
    "# copy of dataframe -- using selected features only\n",
    "df8 = df7.copy()\n",
    "\n",
    "# train/test split\n",
    "# selecting the last 7 weeks as test dataset and all previous dates as train dataset\n",
    "X_train = df8[df8['date'] < '2015-06-12']\n",
    "y_train = X_train['sales']\n",
    "X_test = df8[df8['date'] >= '2015-06-12']\n",
    "y_test = X_test['sales']\n",
    "\n",
    "# WARNING: Remember to drop 'date' and 'sales' columns from X_train and X_test before running models\n",
    "X_train_ml = X_train.drop(labels=['date', 'sales'], axis=1)\n",
    "X_test_ml = X_test.drop(labels=['date', 'sales'], axis=1)"
   ]
  },
  {
   "cell_type": "markdown",
   "id": "d00552eb",
   "metadata": {
    "heading_collapsed": true,
    "hidden": true
   },
   "source": [
    "## <font color='#200CF'> 8.1. Random Search </font>"
   ]
  },
  {
   "cell_type": "code",
   "execution_count": null,
   "id": "ae3d0ba4",
   "metadata": {
    "ExecuteTime": {
     "end_time": "2021-09-27T02:58:19.735417Z",
     "start_time": "2021-09-27T01:33:48.082650Z"
    },
    "hidden": true
   },
   "outputs": [],
   "source": [
    "# implementing hyperparameter random search\n",
    "\n",
    "# xgb model hyperparameters to be evaluated\n",
    "params = {\n",
    "    'n_estimators': [1500, 2000, 2500, 2700, 3000],\n",
    "    'eta': [0.07, 0.1, 0.12, 0.15],\n",
    "    'max_depth': [5, 8, 10],\n",
    "    'subsample': [0.3, 0.5, 0.7],\n",
    "    'colsample_bytree': [0.3, 0.5, 0.7],\n",
    "    'min_child_weight': [3, 5, 10]\n",
    "}\n",
    "\n",
    "# max number of iterations\n",
    "MAX_EVAL = 6\n",
    "\n",
    "# to keep the error measures of each set of hyperparamenters\n",
    "random_search_results = pd.DataFrame()\n",
    "\n",
    "for i in range(MAX_EVAL):\n",
    "    \n",
    "    # randomly choose among all possible hyperparameters\n",
    "    hp = {k: np.random.choice(v, size=1)[0] for k, v in params.items()}\n",
    "    print(hp)\n",
    "    \n",
    "    # setting up model with random hyperparameters\n",
    "    xgb_model = xgb.XGBRegressor(objective='reg:squarederror', \n",
    "                                 n_estimators=hp['n_estimators'], \n",
    "                                 eta=hp['eta'], \n",
    "                                 max_depth=hp['max_depth'],\n",
    "                                 min_child_weight=hp['min_child_weight'],\n",
    "                                 subsample=hp['subsample'], \n",
    "                                 colsample_bytree=hp['colsample_bytree'], \n",
    "                                 tree_method='gpu_hist')\n",
    "\n",
    "    # performance test\n",
    "    result = cross_validation(X_train, kfold=8, model_name='XGBoost Regressor', ml_model=xgb_model, verbose=True)\n",
    "    \n",
    "    # storing performance result in dataframe\n",
    "    random_search_results = pd.concat([random_search_results, result])\n"
   ]
  },
  {
   "cell_type": "code",
   "execution_count": null,
   "id": "375bb9db",
   "metadata": {
    "ExecuteTime": {
     "end_time": "2021-09-27T03:26:55.284140Z",
     "start_time": "2021-09-27T03:26:55.268111Z"
    },
    "hidden": true
   },
   "outputs": [],
   "source": [
    "# random_search_results for hp fine tuning performances\n",
    "random_search_results.reset_index(drop=True)"
   ]
  },
  {
   "cell_type": "markdown",
   "id": "ac4ee8c9",
   "metadata": {
    "heading_collapsed": true,
    "hidden": true
   },
   "source": [
    "## <font color='#200CF'> 8.2. Final Model </font>"
   ]
  },
  {
   "cell_type": "code",
   "execution_count": 19,
   "id": "ca3e63d6",
   "metadata": {
    "ExecuteTime": {
     "end_time": "2021-09-30T17:15:38.662217Z",
     "start_time": "2021-09-30T17:15:00.441317Z"
    },
    "hidden": true
   },
   "outputs": [],
   "source": [
    "# best performance params for the lowest model size -> 12MB\n",
    "param_tuned = {'n_estimators': 3000, 'eta': 0.07, 'max_depth': 5, \n",
    "               'subsample': 0.5, 'colsample_bytree': 0.7, 'min_child_weight': 3}\n",
    "\n",
    "# model with tuned hyperparameters\n",
    "xgb_model_tuned = xgb.XGBRegressor(objective='reg:squarederror', \n",
    "                                   n_estimators=param_tuned['n_estimators'], \n",
    "                                   eta=param_tuned['eta'], \n",
    "                                   max_depth=param_tuned['max_depth'], \n",
    "                                   min_child_weight=param_tuned['min_child_weight'], \n",
    "                                   subsample=param_tuned['subsample'], \n",
    "                                   colsample_bytree=param_tuned['colsample_bytree'], \n",
    "                                   tree_method='gpu_hist').fit(X_train_ml, y_train)\n",
    "\n",
    "# prediction\n",
    "yhat_xgb_tuned = xgb_model_tuned.predict(X_test_ml)\n",
    "\n",
    "# performance\n",
    "result_xgb_tuned = ml_error('XGBoost Regressor', np.expm1(y_test), np.expm1(yhat_xgb_tuned))"
   ]
  },
  {
   "cell_type": "code",
   "execution_count": 20,
   "id": "8723d1be",
   "metadata": {
    "ExecuteTime": {
     "end_time": "2021-09-30T17:15:38.673066Z",
     "start_time": "2021-09-30T17:15:38.664385Z"
    },
    "hidden": true
   },
   "outputs": [
    {
     "data": {
      "text/html": [
       "<div>\n",
       "<style scoped>\n",
       "    .dataframe tbody tr th:only-of-type {\n",
       "        vertical-align: middle;\n",
       "    }\n",
       "\n",
       "    .dataframe tbody tr th {\n",
       "        vertical-align: top;\n",
       "    }\n",
       "\n",
       "    .dataframe thead th {\n",
       "        text-align: right;\n",
       "    }\n",
       "</style>\n",
       "<table border=\"1\" class=\"dataframe\">\n",
       "  <thead>\n",
       "    <tr style=\"text-align: right;\">\n",
       "      <th></th>\n",
       "      <th>Model Name</th>\n",
       "      <th>MAE</th>\n",
       "      <th>MAPE</th>\n",
       "      <th>RMSE</th>\n",
       "    </tr>\n",
       "  </thead>\n",
       "  <tbody>\n",
       "    <tr>\n",
       "      <th>0</th>\n",
       "      <td>XGBoost Regressor</td>\n",
       "      <td>691.731443</td>\n",
       "      <td>0.102965</td>\n",
       "      <td>977.602222</td>\n",
       "    </tr>\n",
       "  </tbody>\n",
       "</table>\n",
       "</div>"
      ],
      "text/plain": [
       "          Model Name         MAE      MAPE        RMSE\n",
       "0  XGBoost Regressor  691.731443  0.102965  977.602222"
      ]
     },
     "execution_count": 20,
     "metadata": {},
     "output_type": "execute_result"
    }
   ],
   "source": [
    "# saving model to be loaded in case of future use\n",
    "\n",
    "# # saving model as json file\n",
    "# xgb_model_tuned.save_model('../ml_model_tuned/xgb_model_tuned.json')\n",
    "\n",
    "# # saving model as pickle file\n",
    "# pickle.dump(xgb_model_tuned, open('../ml_model_tuned/xgb_model_tuned.pkl', 'wb'))\n",
    "\n",
    "# ml model with alternative hyperparameters\n",
    "# result_xgb_tuned.to_csv('../ml_models_performances/xgb_tuned_performance_on_test.csv', index=False)\n",
    "result_xgb_tuned"
   ]
  },
  {
   "cell_type": "markdown",
   "id": "5dde0ebe",
   "metadata": {
    "heading_collapsed": true
   },
   "source": [
    "# <font color='#3F0094'> 9. Error Interpretation </font>"
   ]
  },
  {
   "cell_type": "markdown",
   "id": "313cf676",
   "metadata": {
    "heading_collapsed": true,
    "hidden": true
   },
   "source": [
    "## <font color='#200CF'> 9.0. Dataframe Backup and Rescale </font>"
   ]
  },
  {
   "cell_type": "code",
   "execution_count": 21,
   "id": "ad187de5",
   "metadata": {
    "ExecuteTime": {
     "end_time": "2021-09-30T17:15:38.681659Z",
     "start_time": "2021-09-30T17:15:38.674656Z"
    },
    "hidden": true
   },
   "outputs": [],
   "source": [
    "df9 = X_test.copy()\n",
    "\n",
    "# rescaling sales and predictions\n",
    "df9['sales'] = np.expm1(df9['sales'])\n",
    "df9['predictions'] = np.expm1(yhat_xgb_tuned).astype('float')"
   ]
  },
  {
   "cell_type": "markdown",
   "id": "7930ef9e",
   "metadata": {
    "heading_collapsed": true,
    "hidden": true
   },
   "source": [
    "## <font color='#200CF'> 9.1. Business Performance </font>"
   ]
  },
  {
   "cell_type": "code",
   "execution_count": 22,
   "id": "def07202",
   "metadata": {
    "ExecuteTime": {
     "end_time": "2021-09-30T17:16:01.346419Z",
     "start_time": "2021-09-30T17:16:00.415690Z"
    },
    "hidden": true
   },
   "outputs": [],
   "source": [
    "# calculate mean of sales\n",
    "df91 = df9[['store', 'predictions']].groupby('store').agg(['sum', 'count']).reset_index().droplevel(level=0, axis=1)\n",
    "df91.columns = ['store', 'predictions', 'count']\n",
    "\n",
    "# MAE and MAPE\n",
    "df9_mae = df9[['store', 'sales', 'predictions']].groupby('store').apply(\n",
    "    lambda x: mean_absolute_error(x['sales'], x['predictions'])).reset_index().rename(columns={0: 'MAE_1'})\n",
    "df9_mape = df9[['store', 'sales', 'predictions']].groupby('store').apply(\n",
    "    lambda x: mean_absolute_percentage_error(x['sales'], x['predictions']) * 100).reset_index().rename(columns={0: 'MAPE %'})\n",
    "\n",
    "# merge MAE_1\n",
    "df91 = pd.merge(df91, df9_mae, how='left', on='store')\n",
    "# multiply MAE_1 by the number of days open\n",
    "df91['MAE'] = df91['count'] * df91['MAE_1']\n",
    "\n",
    "# merge MAPE\n",
    "df91 = pd.merge(df91, df9_mape, how='left', on='store')\n",
    "# drop columns used to calculate total MAE\n",
    "df91.drop(labels=['count', 'MAE_1'], axis=1, inplace=True)\n",
    "\n",
    "# best and worst scenarios of sales\n",
    "df91['worst_scenario'] = df91['predictions'] - df91['MAE']\n",
    "df91['best_scenario'] = df91['predictions'] + df91['MAE']\n",
    "# re-organize columns order\n",
    "df91 = df91[['store', 'predictions', 'worst_scenario', 'best_scenario', 'MAE', 'MAPE %']].round(2)"
   ]
  },
  {
   "cell_type": "code",
   "execution_count": null,
   "id": "7bc60eea",
   "metadata": {
    "ExecuteTime": {
     "end_time": "2021-09-27T20:47:26.176332Z",
     "start_time": "2021-09-27T20:47:26.138267Z"
    },
    "hidden": true,
    "scrolled": true
   },
   "outputs": [],
   "source": [
    "# check predictions performance\n",
    "df91.describe().T"
   ]
  },
  {
   "cell_type": "code",
   "execution_count": 38,
   "id": "3acdf6dd",
   "metadata": {
    "ExecuteTime": {
     "end_time": "2021-09-30T17:41:34.284388Z",
     "start_time": "2021-09-30T17:41:33.804472Z"
    },
    "hidden": true
   },
   "outputs": [
    {
     "data": {
      "image/png": "[encoded data removed]",
      "text/plain": [
       "<Figure size 1440x576 with 1 Axes>"
      ]
     },
     "metadata": {},
     "output_type": "display_data"
    }
   ],
   "source": [
    "# visually check the predictions erros\n",
    "plt.figure(figsize=(20, 8))\n",
    "plt.title('MAPE(%)-Error by Store No.', fontsize=20, pad =10)\n",
    "\n",
    "sns.scatterplot(x='store', y='MAPE %', data=df91)\n",
    "plt.xlabel('Store')\n",
    "\n",
    "# plt.savefig('../img/error_mape_by_store.png')\n",
    "plt.show()"
   ]
  },
  {
   "cell_type": "code",
   "execution_count": 24,
   "id": "09ef8a35",
   "metadata": {
    "ExecuteTime": {
     "end_time": "2021-09-30T17:16:31.476594Z",
     "start_time": "2021-09-30T17:16:31.457353Z"
    },
    "hidden": true
   },
   "outputs": [
    {
     "data": {
      "text/html": [
       "<div>\n",
       "<style scoped>\n",
       "    .dataframe tbody tr th:only-of-type {\n",
       "        vertical-align: middle;\n",
       "    }\n",
       "\n",
       "    .dataframe tbody tr th {\n",
       "        vertical-align: top;\n",
       "    }\n",
       "\n",
       "    .dataframe thead th {\n",
       "        text-align: right;\n",
       "    }\n",
       "</style>\n",
       "<table border=\"1\" class=\"dataframe\">\n",
       "  <thead>\n",
       "    <tr style=\"text-align: right;\">\n",
       "      <th></th>\n",
       "      <th>store</th>\n",
       "      <th>predictions</th>\n",
       "      <th>worst_scenario</th>\n",
       "      <th>best_scenario</th>\n",
       "      <th>MAE</th>\n",
       "      <th>MAPE %</th>\n",
       "    </tr>\n",
       "  </thead>\n",
       "  <tbody>\n",
       "    <tr>\n",
       "      <th>291</th>\n",
       "      <td>292</td>\n",
       "      <td>144415.45</td>\n",
       "      <td>78723.97</td>\n",
       "      <td>210106.94</td>\n",
       "      <td>65691.48</td>\n",
       "      <td>44.87</td>\n",
       "    </tr>\n",
       "    <tr>\n",
       "      <th>908</th>\n",
       "      <td>909</td>\n",
       "      <td>310946.31</td>\n",
       "      <td>128236.65</td>\n",
       "      <td>493655.97</td>\n",
       "      <td>182709.66</td>\n",
       "      <td>43.35</td>\n",
       "    </tr>\n",
       "    <tr>\n",
       "      <th>721</th>\n",
       "      <td>722</td>\n",
       "      <td>426948.39</td>\n",
       "      <td>327556.00</td>\n",
       "      <td>526340.78</td>\n",
       "      <td>99392.39</td>\n",
       "      <td>30.35</td>\n",
       "    </tr>\n",
       "    <tr>\n",
       "      <th>875</th>\n",
       "      <td>876</td>\n",
       "      <td>273754.61</td>\n",
       "      <td>176873.76</td>\n",
       "      <td>370635.46</td>\n",
       "      <td>96880.85</td>\n",
       "      <td>27.39</td>\n",
       "    </tr>\n",
       "    <tr>\n",
       "      <th>1013</th>\n",
       "      <td>1014</td>\n",
       "      <td>502035.28</td>\n",
       "      <td>421701.69</td>\n",
       "      <td>582368.87</td>\n",
       "      <td>80333.59</td>\n",
       "      <td>24.50</td>\n",
       "    </tr>\n",
       "    <tr>\n",
       "      <th>1038</th>\n",
       "      <td>1039</td>\n",
       "      <td>417835.46</td>\n",
       "      <td>338284.35</td>\n",
       "      <td>497386.56</td>\n",
       "      <td>79551.11</td>\n",
       "      <td>23.79</td>\n",
       "    </tr>\n",
       "    <tr>\n",
       "      <th>323</th>\n",
       "      <td>324</td>\n",
       "      <td>249594.51</td>\n",
       "      <td>212863.27</td>\n",
       "      <td>286325.76</td>\n",
       "      <td>36731.25</td>\n",
       "      <td>22.61</td>\n",
       "    </tr>\n",
       "    <tr>\n",
       "      <th>674</th>\n",
       "      <td>675</td>\n",
       "      <td>176511.98</td>\n",
       "      <td>145963.64</td>\n",
       "      <td>207060.33</td>\n",
       "      <td>30548.35</td>\n",
       "      <td>22.16</td>\n",
       "    </tr>\n",
       "    <tr>\n",
       "      <th>273</th>\n",
       "      <td>274</td>\n",
       "      <td>227760.18</td>\n",
       "      <td>164635.27</td>\n",
       "      <td>290885.09</td>\n",
       "      <td>63124.91</td>\n",
       "      <td>22.13</td>\n",
       "    </tr>\n",
       "    <tr>\n",
       "      <th>656</th>\n",
       "      <td>657</td>\n",
       "      <td>273902.98</td>\n",
       "      <td>228354.04</td>\n",
       "      <td>319451.92</td>\n",
       "      <td>45548.94</td>\n",
       "      <td>21.93</td>\n",
       "    </tr>\n",
       "  </tbody>\n",
       "</table>\n",
       "</div>"
      ],
      "text/plain": [
       "      store  predictions  worst_scenario  best_scenario        MAE  MAPE %\n",
       "291     292    144415.45        78723.97      210106.94   65691.48   44.87\n",
       "908     909    310946.31       128236.65      493655.97  182709.66   43.35\n",
       "721     722    426948.39       327556.00      526340.78   99392.39   30.35\n",
       "875     876    273754.61       176873.76      370635.46   96880.85   27.39\n",
       "1013   1014    502035.28       421701.69      582368.87   80333.59   24.50\n",
       "1038   1039    417835.46       338284.35      497386.56   79551.11   23.79\n",
       "323     324    249594.51       212863.27      286325.76   36731.25   22.61\n",
       "674     675    176511.98       145963.64      207060.33   30548.35   22.16\n",
       "273     274    227760.18       164635.27      290885.09   63124.91   22.13\n",
       "656     657    273902.98       228354.04      319451.92   45548.94   21.93"
      ]
     },
     "execution_count": 24,
     "metadata": {},
     "output_type": "execute_result"
    }
   ],
   "source": [
    "# check worst predicitions\n",
    "df91.sort_values(by='MAPE %', ascending=False).head(10)"
   ]
  },
  {
   "cell_type": "markdown",
   "id": "9ae89d64",
   "metadata": {
    "heading_collapsed": true,
    "hidden": true
   },
   "source": [
    "## <font color='#200CF'> 9.2. Total Performance </font>"
   ]
  },
  {
   "cell_type": "code",
   "execution_count": 25,
   "id": "7b246ae3",
   "metadata": {
    "ExecuteTime": {
     "end_time": "2021-09-30T17:16:57.546954Z",
     "start_time": "2021-09-30T17:16:57.532263Z"
    },
    "hidden": true
   },
   "outputs": [
    {
     "data": {
      "text/html": [
       "<div>\n",
       "<style scoped>\n",
       "    .dataframe tbody tr th:only-of-type {\n",
       "        vertical-align: middle;\n",
       "    }\n",
       "\n",
       "    .dataframe tbody tr th {\n",
       "        vertical-align: top;\n",
       "    }\n",
       "\n",
       "    .dataframe thead th {\n",
       "        text-align: right;\n",
       "    }\n",
       "</style>\n",
       "<table border=\"1\" class=\"dataframe\">\n",
       "  <thead>\n",
       "    <tr style=\"text-align: right;\">\n",
       "      <th></th>\n",
       "      <th>Scenario</th>\n",
       "      <th>Values</th>\n",
       "    </tr>\n",
       "  </thead>\n",
       "  <tbody>\n",
       "    <tr>\n",
       "      <th>0</th>\n",
       "      <td>predictions</td>\n",
       "      <td>$ 342,994,410.28</td>\n",
       "    </tr>\n",
       "    <tr>\n",
       "      <th>1</th>\n",
       "      <td>worst_scenario</td>\n",
       "      <td>$ 309,713,827.05</td>\n",
       "    </tr>\n",
       "    <tr>\n",
       "      <th>2</th>\n",
       "      <td>best_scenario</td>\n",
       "      <td>$ 376,274,993.50</td>\n",
       "    </tr>\n",
       "  </tbody>\n",
       "</table>\n",
       "</div>"
      ],
      "text/plain": [
       "         Scenario            Values\n",
       "0     predictions  $ 342,994,410.28\n",
       "1  worst_scenario  $ 309,713,827.05\n",
       "2   best_scenario  $ 376,274,993.50"
      ]
     },
     "execution_count": 25,
     "metadata": {},
     "output_type": "execute_result"
    }
   ],
   "source": [
    "df92 = df91[['predictions', 'worst_scenario', 'best_scenario']].sum().reset_index().rename(columns={'index': 'Scenario', 0: 'Values'})\n",
    "df92['Values'] = df92['Values'].map('$ {:,.2f}'.format)\n",
    "df92"
   ]
  },
  {
   "cell_type": "markdown",
   "id": "745dcef4",
   "metadata": {
    "heading_collapsed": true,
    "hidden": true
   },
   "source": [
    "## <font color='#200CF'> 9.3. Machine Learning Performance </font>"
   ]
  },
  {
   "cell_type": "code",
   "execution_count": 27,
   "id": "cfb3dad2",
   "metadata": {
    "ExecuteTime": {
     "end_time": "2021-09-30T17:22:55.905331Z",
     "start_time": "2021-09-30T17:22:55.896636Z"
    },
    "hidden": true
   },
   "outputs": [],
   "source": [
    "df9['error'] = df9['sales'] - df9['predictions']\n",
    "df9['error_rate'] = df9['predictions'] / df9['sales']"
   ]
  },
  {
   "cell_type": "code",
   "execution_count": 37,
   "id": "52dbf9de",
   "metadata": {
    "ExecuteTime": {
     "end_time": "2021-09-30T17:41:04.652765Z",
     "start_time": "2021-09-30T17:40:57.275453Z"
    },
    "hidden": true
   },
   "outputs": [
    {
     "data": {
      "image/png": "[encoded data removed]",
      "text/plain": [
       "<Figure size 1584x1296 with 4 Axes>"
      ]
     },
     "metadata": {},
     "output_type": "display_data"
    }
   ],
   "source": [
    "plt.figure(figsize=(22, 18))\n",
    "plt.suptitle('Erros Analysis')\n",
    "\n",
    "plt.subplot(2, 2, 1)\n",
    "sns.lineplot(x='date', y='sales', data=df9, label='Sales')\n",
    "sns.lineplot(x='date', y='predictions', data=df9, label='Predictions')\n",
    "plt.xlabel('')\n",
    "plt.ylabel('')\n",
    "plt.xticks(fontsize=13)\n",
    "\n",
    "plt.subplot(2, 2, 2)\n",
    "sns.lineplot(x='date', y='error_rate', data=df9, label='Error Rate')\n",
    "plt.axhline(y=1, ls='--', c='y')\n",
    "plt.xlabel('')\n",
    "plt.ylabel('')\n",
    "plt.xticks(fontsize=13)\n",
    "\n",
    "plt.subplot(2, 2, 3)\n",
    "sns.histplot(x='error', data=df9, stat='proportion', bins=80, kde=True)\n",
    "\n",
    "plt.subplot(2, 2, 4)\n",
    "sns.scatterplot(x='predictions', y='error', data=df9)\n",
    "\n",
    "# plt.savefig('../img/error_analysis.png')\n",
    "plt.show()"
   ]
  },
  {
   "cell_type": "code",
   "execution_count": null,
   "id": "d5b6d0e4",
   "metadata": {
    "hidden": true
   },
   "outputs": [],
   "source": []
  },
  {
   "cell_type": "markdown",
   "id": "a09df7c2",
   "metadata": {},
   "source": [
    "# <font color='#3F0094'> 10. Model Deploy to Production </font>"
   ]
  },
  {
   "cell_type": "markdown",
   "id": "4bf09492",
   "metadata": {
    "heading_collapsed": true
   },
   "source": [
    "## <font color='#200CF'> 10.0. Dataframe Backup </font>"
   ]
  },
  {
   "cell_type": "code",
   "execution_count": 75,
   "id": "fadbe976",
   "metadata": {
    "ExecuteTime": {
     "end_time": "2021-09-30T16:06:57.393631Z",
     "start_time": "2021-09-30T16:06:56.695180Z"
    },
    "hidden": true,
    "scrolled": true
   },
   "outputs": [
    {
     "data": {
      "text/html": [
       "<div>\n",
       "<style scoped>\n",
       "    .dataframe tbody tr th:only-of-type {\n",
       "        vertical-align: middle;\n",
       "    }\n",
       "\n",
       "    .dataframe tbody tr th {\n",
       "        vertical-align: top;\n",
       "    }\n",
       "\n",
       "    .dataframe thead th {\n",
       "        text-align: right;\n",
       "    }\n",
       "</style>\n",
       "<table border=\"1\" class=\"dataframe\">\n",
       "  <thead>\n",
       "    <tr style=\"text-align: right;\">\n",
       "      <th></th>\n",
       "      <th>Model Name</th>\n",
       "      <th>MAE</th>\n",
       "      <th>MAPE</th>\n",
       "      <th>RMSE</th>\n",
       "    </tr>\n",
       "  </thead>\n",
       "  <tbody>\n",
       "    <tr>\n",
       "      <th>0</th>\n",
       "      <td>XGBoost Regressor</td>\n",
       "      <td>691.731443</td>\n",
       "      <td>0.102965</td>\n",
       "      <td>977.602222</td>\n",
       "    </tr>\n",
       "  </tbody>\n",
       "</table>\n",
       "</div>"
      ],
      "text/plain": [
       "          Model Name         MAE      MAPE        RMSE\n",
       "0  XGBoost Regressor  691.731443  0.102965  977.602222"
      ]
     },
     "execution_count": 75,
     "metadata": {},
     "output_type": "execute_result"
    }
   ],
   "source": [
    "# test loading saved model\n",
    "loaded_model = xgb.XGBRegressor()\n",
    "loaded_model.load_model('../ml_model_tuned/xgb_model_tuned.json')\n",
    "yhat = loaded_model.predict(X_test_ml)\n",
    "ml_error('XGBoost Regressor', np.expm1(y_test), np.expm1(yhat))"
   ]
  },
  {
   "cell_type": "markdown",
   "id": "3ba91c29",
   "metadata": {
    "heading_collapsed": true
   },
   "source": [
    "## <font color='#200CF'> 10.1. StoreSales Class </font>"
   ]
  },
  {
   "cell_type": "code",
   "execution_count": null,
   "id": "dfdd8e90",
   "metadata": {
    "ExecuteTime": {
     "end_time": "2021-09-29T21:01:41.466083Z",
     "start_time": "2021-09-29T21:01:41.462094Z"
    },
    "hidden": true
   },
   "outputs": [],
   "source": [
    "import pickle\n",
    "import inflection\n",
    "import numpy as np\n",
    "import pandas as pd\n",
    "from datetime import datetime\n",
    "\n",
    "\n",
    "class StoreSales(object):\n",
    "    \n",
    "    def __init__(self):\n",
    "        \n",
    "        self.home_path='/mnt/repos/dev/store_sales_prediction/'\n",
    "        self.competition_distance_scaler   = pickle.load(open(self.home_path + 'rescaling/competition_distance_scaler.pkl', 'rb'))\n",
    "        self.competition_months_old_scaler = pickle.load(open(self.home_path + 'rescaling/competition_months_old_scaler.pkl', 'rb'))\n",
    "        self.promo2_months_old_scaler      = pickle.load(open(self.home_path + 'rescaling/promo2_months_old_scaler.pkl', 'rb'))\n",
    "        self.store_type_scaler             = pickle.load(open(self.home_path + 'rescaling/store_type_scaler.pkl', 'rb'))\n",
    "        self.year_scaler                   = pickle.load(open(self.home_path + 'rescaling/year_scaler.pkl', 'rb'))\n",
    "    \n",
    "    \n",
    "    def data_cleaning(self, df1):\n",
    "        \n",
    "        # renaming column names\n",
    "        snake_case = lambda x: inflection.underscore(x)\n",
    "        df1.columns = list(map(snake_case, df1.columns))\n",
    "\n",
    "        # setting date column as datetime type\n",
    "        df1['date'] = pd.to_datetime(df1['date'])\n",
    "\n",
    "        # Filling in Missing/Null Values\n",
    "\n",
    "        # competition_distance - using maximum distance x 2\n",
    "        # maximun distance x 2\n",
    "        max_dist_x_2 = df1['competition_distance'].max() * 2\n",
    "        # assuming competitors are twice as far away as the greatest distance found\n",
    "        df1['competition_distance'] = df1['competition_distance'].apply(lambda x: max_dist_x_2 if np.isnan(x) else x)\n",
    "\n",
    "        # competition_open_since_year\n",
    "        # latest year\n",
    "        df1.loc[df1['competition_open_since_year'].isna(), 'competition_open_since_year'] = df1['date'].max().year\n",
    "\n",
    "        # competition_open_since_month\n",
    "        # latest month\n",
    "        df1.loc[df1['competition_open_since_month'].isna(), 'competition_open_since_month'] = df1['date'].max().month\n",
    "\n",
    "        # promo2_since_week AND promo2_since_year\n",
    "\n",
    "        # in case of NA values the date of sale will be used\n",
    "        # the difference between these dates will be used later\n",
    "        #promo2_since_week\n",
    "        df1['promo2_since_week'] = df1[['date', 'promo2_since_week']].apply(lambda x: x['date'].week if np.isnan(x['promo2_since_week']) else x['promo2_since_week'], axis=1)\n",
    "        # promo2_since_year\n",
    "        df1['promo2_since_year'] = df1[['date', 'promo2_since_year']].apply(lambda x: x['date'].year if np.isnan(x['promo2_since_year']) else x['promo2_since_year'], axis=1)\n",
    "\n",
    "\n",
    "        # Changing Data Types\n",
    "\n",
    "        # Changing DTypes from float to integer\n",
    "        df1['competition_distance'] = df1['competition_distance'].astype(int)\n",
    "        df1['competition_open_since_month'] = df1['competition_open_since_month'].astype(int)\n",
    "        df1['competition_open_since_year'] = df1['competition_open_since_year'].astype(int)\n",
    "        df1['promo2_since_week'] = df1['promo2_since_week'].astype(int)\n",
    "        df1['promo2_since_year'] = df1['promo2_since_year'].astype(int)\n",
    "\n",
    "        return df1\n",
    "\n",
    "\n",
    "    def feature_engineering(self, df2):\n",
    "\n",
    "        # date related features\n",
    "        # year\n",
    "        df2['year'] = df2['date'].dt.year\n",
    "        # month\n",
    "        df2['month'] = df2['date'].dt.month\n",
    "        # day\n",
    "        df2['day'] = df2['date'].dt.day\n",
    "        # week_of_year\n",
    "        df2['week_of_year'] = df2['date'].dt.isocalendar().week.astype('int64')\n",
    "\n",
    "        # competition_months_old\n",
    "        # calculating the competition period, extracting the days and dividing by 30 to get the period in months\n",
    "        df2['competition_months_old'] = df2.apply(lambda x: (\n",
    "            x['date'] - datetime(year=x['competition_open_since_year'], \n",
    "                                 month=x['competition_open_since_month'], \n",
    "                                 day=1)).days / 30, axis=1).astype(int)\n",
    "        # assigning zero to negative values of competition_months_old\n",
    "        # in this case it makes no sense to work with the time that is left for the competitor to open\n",
    "        df2.loc[df2['competition_months_old'] < 0, 'competition_months_old'] = 0\n",
    "\n",
    "\n",
    "        # promo2_months_old\n",
    "        # calculation method: zero(0) if promo2 is zero(0) else (actual_date - promo2_starting_date) >> timedelta format \n",
    "        # >> then use .days and divide by 30 to extract the number of months >> as integer\n",
    "        df2['promo2_months_old'] = df2.apply(lambda x: 0 if x['promo2'] == 0 else (\n",
    "            x['date'] - datetime.fromisocalendar(x['promo2_since_year'], \n",
    "                                                 x['promo2_since_week'], \n",
    "                                                 1)).days / 30, axis=1).astype(int)\n",
    "        # assigning zero to negative values of promo2_months_old\n",
    "        # since the store is not yet participating (but will in the future)\n",
    "        df2.loc[df2['promo2_months_old'] < 0, 'promo2_months_old'] = 0\n",
    "\n",
    "\n",
    "        # Filtering Features\n",
    "\n",
    "        # eliminating all records where stores are closed \n",
    "        df2 = df2[(df2['open'] != 0) & (df2['open'].notna())]\n",
    "\n",
    "        # columns to be droped\n",
    "        cols_drop = ['id', 'open', 'promo_interval']\n",
    "        df2.drop(cols_drop, axis=1, inplace=True)\n",
    "    \n",
    "        return df2\n",
    "    \n",
    "    \n",
    "    def data_preparation(self, df5):\n",
    "        \n",
    "        # Rescaling\n",
    "\n",
    "        # Robust Scaler\n",
    "        # competition_distance\n",
    "        df5['competition_distance'] = self.competition_distance_scaler.fit_transform(df5[['competition_distance']].values)\n",
    "        # competition_months_old\n",
    "        df5['competition_months_old'] = self.competition_months_old_scaler.fit_transform(df5[['competition_months_old']].values)\n",
    "\n",
    "        # Min-Max Scaler\n",
    "        # promo2_months_old\n",
    "        df5['promo2_months_old'] = self.promo2_months_old_scaler.fit_transform(df5[['promo2_months_old']].values)\n",
    "        # year\n",
    "        df5['year'] = self.year_scaler.fit_transform(df5[['year']].values)\n",
    "\n",
    "\n",
    "        # Feature Transformation\n",
    "\n",
    "        # Enconding: Transforming Categorical Features Into Numeric Features\n",
    "        # assortment - Ordinal Encoding\n",
    "        assortment_dict = {'a': 1, 'b': 2, 'c': 3}\n",
    "        df5['assortment'] = df5['assortment'].map(assortment_dict)\n",
    "        # store_type - Label Encoding\n",
    "        df5['store_type'] = self.store_type_scaler.fit_transform(df5['store_type'])\n",
    "        \n",
    "        # Nature Transformation \n",
    "        # month\n",
    "        df5['month_sin'] = df5['month'].apply(lambda x: np.sin(x * (2. * np.pi / 12)))\n",
    "        df5['month_cos'] = df5['month'].apply(lambda x: np.cos(x * (2. * np.pi / 12)))\n",
    "        # day\n",
    "        df5['day_sin'] = df5['day'].apply(lambda x: np.sin(x * (2. * np.pi / 30)))\n",
    "        df5['day_cos'] = df5['day'].apply(lambda x: np.cos(x * (2. * np.pi / 30)))\n",
    "        # day_of_week\n",
    "        df5['day_of_week_sin'] = df5['day_of_week'].apply(lambda x: np.sin(x * (2. * np.pi / 7)))\n",
    "        df5['day_of_week_cos'] = df5['day_of_week'].apply(lambda x: np.cos(x * (2. * np.pi / 7)))\n",
    "        # week_of_year\n",
    "        df5['week_of_year_sin'] = df5['week_of_year'].apply(lambda x: np.sin(x * (2. * np.pi / 52)))\n",
    "        df5['week_of_year_cos'] = df5['week_of_year'].apply(lambda x: np.cos(x * (2. * np.pi / 52)))\n",
    "        \n",
    "        # Boruta Selected Features\n",
    "        selected_features = ['store', 'promo', 'store_type', 'assortment', 'competition_distance', 'competition_open_since_month', \n",
    "                             'competition_open_since_year', 'promo2', 'promo2_since_week', 'promo2_since_year', 'competition_months_old', \n",
    "                             'promo2_months_old', 'month_sin', 'month_cos', 'day_sin', 'day_cos', 'day_of_week_sin', 'day_of_week_cos', \n",
    "                             'week_of_year_sin', 'week_of_year_cos']\n",
    "\n",
    "        return df5[selected_features]\n",
    "    \n",
    "    \n",
    "    def get_prediction(self, model, original_data, test_data):\n",
    "        \n",
    "        # prediction\n",
    "        predictions = model.predict(test_data)\n",
    "        \n",
    "        # join original_data and predictions\n",
    "        original_data['prediction'] = np.expm1(predictions)\n",
    "        \n",
    "        return original_data.to_json(orient='records', date_format='iso')\n"
   ]
  },
  {
   "cell_type": "markdown",
   "id": "e0dba9a3",
   "metadata": {
    "heading_collapsed": true
   },
   "source": [
    "## <font color='#200CF'> 10.2. Handler API Class </font>"
   ]
  },
  {
   "cell_type": "code",
   "execution_count": null,
   "id": "86c32263",
   "metadata": {
    "hidden": true
   },
   "outputs": [],
   "source": [
    "import pickle\n",
    "import pandas as pd\n",
    "import xgboost as xgb\n",
    "from flask             import Flask, request, Response\n",
    "from stores.StoreSales import StoreSales\n",
    "\n",
    "# loading model\n",
    "model = xgb.XGBRegressor()\n",
    "model.load_model('/mnt/repos/dev/store_sales_prediction/ml_model_tuned/xgb_model_tuned.json')\n",
    "\n",
    "# initialize API\n",
    "app = Flask(__name__)\n",
    "\n",
    "@app.route('/sales/predict', methods=['POST'])\n",
    "def sales_predict():\n",
    "    test_json = request.get_json()\n",
    "    \n",
    "    # if not null\n",
    "    if test_json:\n",
    "        if isinstance(test_json, dict):\n",
    "            # single row\n",
    "            test_raw = pd.DataFrame(test_json, index=[0])\n",
    "        else:\n",
    "            # multiple rows\n",
    "            test_raw = pd.DataFrame(test_json, columns=test_json[0].keys())\n",
    "        \n",
    "        # instantiate StoreSales Class\n",
    "        pipeline = StoreSales()\n",
    "        \n",
    "        # data cleaning\n",
    "        df1 = pipeline.data_cleaning(test_raw)\n",
    "        \n",
    "        # feature engineering\n",
    "        df2 = pipeline.feature_engineering(df1)\n",
    "        \n",
    "        # data preparation\n",
    "        df3 = pipeline.data_preparation(df2)\n",
    "        \n",
    "        # prediction\n",
    "        df_response = pipeline.get_prediction(model, test_raw, df3)\n",
    "        \n",
    "        return df_response\n",
    "        \n",
    "    else:\n",
    "        return Response('{}', status=200, mimetype='application/json')\n",
    "\n",
    "if __name__ == '__main__':\n",
    "    \n",
    "    app.run()\n"
   ]
  },
  {
   "cell_type": "markdown",
   "id": "ee1a63c7",
   "metadata": {},
   "source": [
    "## <font color='#200CF'> 10.3. API Tester </font>"
   ]
  },
  {
   "cell_type": "code",
   "execution_count": 2,
   "id": "ba59959f",
   "metadata": {
    "ExecuteTime": {
     "end_time": "2021-09-30T22:19:31.226616Z",
     "start_time": "2021-09-30T22:19:31.161867Z"
    }
   },
   "outputs": [],
   "source": [
    "import requests"
   ]
  },
  {
   "cell_type": "code",
   "execution_count": 19,
   "id": "03ec4c67",
   "metadata": {
    "ExecuteTime": {
     "end_time": "2021-09-30T22:33:01.854531Z",
     "start_time": "2021-09-30T22:33:01.801697Z"
    }
   },
   "outputs": [
    {
     "data": {
      "text/plain": [
       "array([877, 879, 880, 881, 882, 883, 884, 885, 886, 887])"
      ]
     },
     "execution_count": 19,
     "metadata": {},
     "output_type": "execute_result"
    }
   ],
   "source": [
    "# loading test dataset\n",
    "df10_test = pd.read_csv('/mnt/repos/dev/store_sales_prediction/raw_data/test.csv')\n",
    "\n",
    "# merge test dataset with store dataset\n",
    "df_test = pd.merge(df10_test, df_store_raw, how='left', on='Store')\n",
    "\n",
    "# check some existing store in test dataset\n",
    "df_test[\"Store\"].unique()[675:685]"
   ]
  },
  {
   "cell_type": "code",
   "execution_count": 27,
   "id": "83545938",
   "metadata": {
    "ExecuteTime": {
     "end_time": "2021-09-30T23:12:57.589121Z",
     "start_time": "2021-09-30T23:12:57.541150Z"
    }
   },
   "outputs": [],
   "source": [
    "# select a list of stores\n",
    "store_list = list(df_test[\"Store\"].unique()[740:755])\n",
    "\n",
    "# choose store\n",
    "df_test_ex = df_test[df_test['Store'].isin(store_list)]\n",
    "\n",
    "# remove closed day and null\n",
    "df_test_ex = df_test_ex[df_test_ex['Open'] != 0]\n",
    "df_test_ex = df_test_ex[df_test_ex['Open'].notna()]\n",
    "# df_test_ex = df_test_ex.drop('Id', axis=1)\n",
    "\n",
    "# convert dataframe to json\n",
    "data = json.dumps(df_test_ex.to_dict(orient='records'))"
   ]
  },
  {
   "cell_type": "code",
   "execution_count": 28,
   "id": "675508bc",
   "metadata": {
    "ExecuteTime": {
     "end_time": "2021-09-30T23:13:01.299192Z",
     "start_time": "2021-09-30T23:12:58.045206Z"
    }
   },
   "outputs": [
    {
     "name": "stdout",
     "output_type": "stream",
     "text": [
      "Status Code 200\n"
     ]
    }
   ],
   "source": [
    "# API Call\n",
    "\n",
    "# Local\n",
    "# url    = 'http://127.0.0.1:5000/sales/predict'\n",
    "\n",
    "# Heroku\n",
    "url    = 'https://sales-predictions-ds.herokuapp.com/sales/predict'\n",
    "\n",
    "header = {'Content-type': 'application/json'}\n",
    "\n",
    "data   = data\n",
    "\n",
    "r = requests.post(url, data=data, headers=header)\n",
    "print(f'Status Code {r.status_code}')"
   ]
  },
  {
   "cell_type": "code",
   "execution_count": 29,
   "id": "f8b6e07a",
   "metadata": {
    "ExecuteTime": {
     "end_time": "2021-09-30T23:13:01.336133Z",
     "start_time": "2021-09-30T23:13:01.303041Z"
    }
   },
   "outputs": [
    {
     "name": "stdout",
     "output_type": "stream",
     "text": [
      "Sales prediction for the next 7 weeks:\n",
      "\n",
      "Store number:  955 - $ 237,867.59\n",
      "Store number:  956 - $ 212,017.72\n",
      "Store number:  960 - $ 262,641.64\n",
      "Store number:  961 - $ 276,480.80\n",
      "Store number:  962 - $ 218,456.69\n",
      "Store number:  964 - $ 211,420.71\n",
      "Store number:  965 - $ 273,879.25\n",
      "Store number:  966 - $ 221,117.02\n",
      "Store number:  967 - $ 285,962.99\n",
      "Store number:  969 - $ 169,029.20\n",
      "Store number:  970 - $ 129,589.67\n",
      "Store number:  973 - $ 232,066.00\n",
      "Store number:  974 - $ 270,732.09\n",
      "Store number:  975 - $ 333,628.10\n",
      "Store number:  976 - $ 262,784.26\n"
     ]
    }
   ],
   "source": [
    "# getting predictions for future sales\n",
    "d1 = pd.DataFrame(r.json(), columns=r.json()[0].keys())\n",
    "\n",
    "# prediction for all sales in the next 7 weeks (by store)\n",
    "d2 = d1[['store', 'prediction']].groupby('store').sum().reset_index()\n",
    "\n",
    "print('Sales prediction for the next 7 weeks:\\n')\n",
    "for i in range(len(d2)):\n",
    "    print(f\"Store number: {d2.loc[i, 'store']:4} - $ {d2.loc[i, 'prediction']:,.2f}\")\n"
   ]
  },
  {
   "cell_type": "code",
   "execution_count": null,
   "id": "a34ce0a5",
   "metadata": {},
   "outputs": [],
   "source": []
  }
 ],
 "metadata": {
  "kernelspec": {
   "display_name": "ve_sales_prediction",
   "language": "python",
   "name": "ve_sales_prediction"
  },
  "language_info": {
   "codemirror_mode": {
    "name": "ipython",
    "version": 3
   },
   "file_extension": ".py",
   "mimetype": "text/x-python",
   "name": "python",
   "nbconvert_exporter": "python",
   "pygments_lexer": "ipython3",
   "version": "3.9.6"
  }
 },
 "nbformat": 4,
 "nbformat_minor": 5
}
