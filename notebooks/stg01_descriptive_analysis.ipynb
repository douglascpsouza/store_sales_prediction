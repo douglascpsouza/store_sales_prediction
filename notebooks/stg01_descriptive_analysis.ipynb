{
 "cells": [
  {
   "cell_type": "markdown",
   "id": "7bfc2ef0",
   "metadata": {},
   "source": [
    "# <font color='#002726'> Data Science em Produção </font>\n",
    "    \n",
    "=-=- ROSSMANN - STORE SALES PREDICTION -=-="
   ]
  },
  {
   "cell_type": "markdown",
   "id": "170c65a0",
   "metadata": {},
   "source": [
    "# <font color='#3F0094'> 0. Imports </font>"
   ]
  },
  {
   "cell_type": "code",
   "execution_count": 2,
   "id": "11ade934",
   "metadata": {
    "ExecuteTime": {
     "end_time": "2021-09-17T20:01:22.454934Z",
     "start_time": "2021-09-17T20:01:21.588693Z"
    }
   },
   "outputs": [],
   "source": [
    "import inflection  # helper function\n",
    "\n",
    "import numpy as np\n",
    "import pandas as pd\n",
    "import seaborn as sns\n",
    "import matplotlib.pyplot as plt"
   ]
  },
  {
   "cell_type": "markdown",
   "id": "ce4b793b",
   "metadata": {
    "heading_collapsed": true
   },
   "source": [
    "## <font color='#200CF'> 0.1. Helper Functions </font>"
   ]
  },
  {
   "cell_type": "code",
   "execution_count": 42,
   "id": "be4f4bcb",
   "metadata": {
    "ExecuteTime": {
     "end_time": "2021-09-17T20:47:28.679613Z",
     "start_time": "2021-09-17T20:47:28.670712Z"
    },
    "hidden": true
   },
   "outputs": [],
   "source": [
    "# Notebook Setups\n",
    "\n",
    "sns.set_style('darkgrid')\n",
    "sns.set_context('talk')\n",
    "sns.set_palette('Set2')\n",
    "\n",
    "# Functions\n",
    "\n",
    "def snakecase(list_of_names):\n",
    "    \"\"\"Returns a list of names in snake case, which refers to the style of  \n",
    "    writing in which each space is replaced by an underscore (_) character.\"\"\"\n",
    "    \n",
    "    new_list = list(map(inflection.underscore, list_of_names))\n",
    "    return new_list\n",
    "\n"
   ]
  },
  {
   "cell_type": "markdown",
   "id": "1a0db2ad",
   "metadata": {
    "heading_collapsed": true
   },
   "source": [
    "## <font color='#200CF'> 0.2. Loading Data </font>"
   ]
  },
  {
   "cell_type": "code",
   "execution_count": 4,
   "id": "d4757095",
   "metadata": {
    "ExecuteTime": {
     "end_time": "2021-09-17T20:01:23.289677Z",
     "start_time": "2021-09-17T20:01:22.462523Z"
    },
    "hidden": true
   },
   "outputs": [],
   "source": [
    "# loading historical data - including Sales\n",
    "df_sales_raw = pd.read_csv('../raw_data/train.csv', low_memory=False)\n",
    "\n",
    "# loading information about the stores\n",
    "df_store_raw = pd.read_csv('../raw_data/store.csv', low_memory=False)\n",
    "\n",
    "# merging dataframes\n",
    "df_raw = pd.merge(df_sales_raw, df_store_raw, how='left', on='Store')"
   ]
  },
  {
   "cell_type": "markdown",
   "id": "92084ce1",
   "metadata": {
    "hidden": true
   },
   "source": [
    "### <font color='#F37126'> Data Fields </font>"
   ]
  },
  {
   "cell_type": "markdown",
   "id": "d51b697a",
   "metadata": {
    "hidden": true
   },
   "source": [
    "**Most of the fields are self-explanatory. The following are descriptions for those that aren't.**\n",
    "\n",
    "- **Id** - an Id that represents a (Store, Date) duple within the test set;\n",
    "- **Store** - a unique Id for each store;\n",
    "- **Sales** - the turnover for any given day (this is what you are predicting);\n",
    "- **Customers** - the number of customers on a given day;\n",
    "- **Open** - an indicator for whether the store was open: 0 = closed, 1 = open;\n",
    "- **StateHoliday** - indicates a state holiday. Normally all stores, with few exceptions, are closed on state holidays. Note that all schools are closed on public holidays and weekends. a = public holiday, b = Easter holiday, c = Christmas, 0 = None;\n",
    "- **SchoolHoliday** - indicates if the (Store, Date) was affected by the closure of public schools;\n",
    "- **StoreType** - differentiates between 4 different store models: a, b, c, d;\n",
    "- **Assortment** - describes an assortment level: a = basic, b = extra, c = extended;\n",
    "- **CompetitionDistance** - distance in meters to the nearest competitor store;\n",
    "- **CompetitionOpenSince[Month/Year]** - gives the approximate year and month of the time the nearest competitor was opened;\n",
    "- **Promo** - indicates whether a store is running a promo on that day;\n",
    "- **Promo2** - Promo2 is a continuing and consecutive promotion for some stores: 0 = store is not participating, 1 = store is participating;\n",
    "- **Promo2Since[Year/Week]** - describes the year and calendar week when the store started participating in Promo2;\n",
    "- **PromoInterval** - describes the consecutive intervals Promo2 is started, naming the months the promotion is started anew. E.g. \"Feb,May,Aug,Nov\" means each round starts in February, May, August, November of any given year for that store."
   ]
  },
  {
   "cell_type": "markdown",
   "id": "d5cc887a",
   "metadata": {},
   "source": [
    "# <font color='#3F0094'> 1. Descriptive Data Analysis </font>"
   ]
  },
  {
   "cell_type": "markdown",
   "id": "7ea07f34",
   "metadata": {
    "heading_collapsed": true
   },
   "source": [
    "## <font color='#200CF'> 1.0. Dataframe in Progress Backup </font>"
   ]
  },
  {
   "cell_type": "code",
   "execution_count": 5,
   "id": "eb99744f",
   "metadata": {
    "ExecuteTime": {
     "end_time": "2021-09-17T20:01:23.494474Z",
     "start_time": "2021-09-17T20:01:23.292112Z"
    },
    "hidden": true
   },
   "outputs": [],
   "source": [
    "df1 = df_raw.copy()"
   ]
  },
  {
   "cell_type": "markdown",
   "id": "756086eb",
   "metadata": {
    "heading_collapsed": true
   },
   "source": [
    "## <font color='#200CF'> 1.1. Column Renaming </font>"
   ]
  },
  {
   "cell_type": "code",
   "execution_count": 6,
   "id": "906c4dfa",
   "metadata": {
    "ExecuteTime": {
     "end_time": "2021-09-17T20:01:23.500027Z",
     "start_time": "2021-09-17T20:01:23.496271Z"
    },
    "hidden": true
   },
   "outputs": [],
   "source": [
    "# renaming df1 column names\n",
    "df1.columns = snakecase(df1.columns)\n"
   ]
  },
  {
   "cell_type": "markdown",
   "id": "dd6798be",
   "metadata": {
    "heading_collapsed": true
   },
   "source": [
    "## <font color='#200CF'> 1.2. Data Dimension </font>"
   ]
  },
  {
   "cell_type": "code",
   "execution_count": 7,
   "id": "7b0ac497",
   "metadata": {
    "ExecuteTime": {
     "end_time": "2021-09-17T20:01:23.505481Z",
     "start_time": "2021-09-17T20:01:23.501422Z"
    },
    "hidden": true
   },
   "outputs": [
    {
     "name": "stdout",
     "output_type": "stream",
     "text": [
      "Store Dataframe - Number of Rows: 1017209. \n",
      "Store Dataframe - Number of Columns: 18.\n"
     ]
    }
   ],
   "source": [
    "print(f'Store Dataframe - Number of Rows: {df1.shape[0]}. \\nStore Dataframe - Number of Columns: {df1.shape[1]}.')"
   ]
  },
  {
   "cell_type": "markdown",
   "id": "9b0a5aec",
   "metadata": {
    "heading_collapsed": true
   },
   "source": [
    "## <font color='#200CF'> 1.3. Data Types </font>"
   ]
  },
  {
   "cell_type": "code",
   "execution_count": 8,
   "id": "8a7e10a1",
   "metadata": {
    "ExecuteTime": {
     "end_time": "2021-09-17T20:01:23.515062Z",
     "start_time": "2021-09-17T20:01:23.507005Z"
    },
    "hidden": true
   },
   "outputs": [
    {
     "data": {
      "text/plain": [
       "store                             int64\n",
       "day_of_week                       int64\n",
       "date                             object\n",
       "sales                             int64\n",
       "customers                         int64\n",
       "open                              int64\n",
       "promo                             int64\n",
       "state_holiday                    object\n",
       "school_holiday                    int64\n",
       "store_type                       object\n",
       "assortment                       object\n",
       "competition_distance            float64\n",
       "competition_open_since_month    float64\n",
       "competition_open_since_year     float64\n",
       "promo2                            int64\n",
       "promo2_since_week               float64\n",
       "promo2_since_year               float64\n",
       "promo_interval                   object\n",
       "dtype: object"
      ]
     },
     "execution_count": 8,
     "metadata": {},
     "output_type": "execute_result"
    }
   ],
   "source": [
    "# dataframe data types\n",
    "df1.dtypes"
   ]
  },
  {
   "cell_type": "code",
   "execution_count": 9,
   "id": "b1caacc8",
   "metadata": {
    "ExecuteTime": {
     "end_time": "2021-09-17T20:01:23.634098Z",
     "start_time": "2021-09-17T20:01:23.516595Z"
    },
    "hidden": true
   },
   "outputs": [
    {
     "data": {
      "text/plain": [
       "store                                    int64\n",
       "day_of_week                              int64\n",
       "date                            datetime64[ns]\n",
       "sales                                    int64\n",
       "customers                                int64\n",
       "open                                     int64\n",
       "promo                                    int64\n",
       "state_holiday                           object\n",
       "school_holiday                           int64\n",
       "store_type                              object\n",
       "assortment                              object\n",
       "competition_distance                   float64\n",
       "competition_open_since_month           float64\n",
       "competition_open_since_year            float64\n",
       "promo2                                   int64\n",
       "promo2_since_week                      float64\n",
       "promo2_since_year                      float64\n",
       "promo_interval                          object\n",
       "dtype: object"
      ]
     },
     "execution_count": 9,
     "metadata": {},
     "output_type": "execute_result"
    }
   ],
   "source": [
    "# setting date column as datetime type\n",
    "df1['date'] = pd.to_datetime(df1['date'])\n"
   ]
  },
  {
   "cell_type": "markdown",
   "id": "77d975fd",
   "metadata": {
    "heading_collapsed": true
   },
   "source": [
    "## <font color='#200CF'> 1.4. NA Check </font>"
   ]
  },
  {
   "cell_type": "code",
   "execution_count": 10,
   "id": "92168873",
   "metadata": {
    "ExecuteTime": {
     "end_time": "2021-09-17T20:01:23.847425Z",
     "start_time": "2021-09-17T20:01:23.635701Z"
    },
    "hidden": true
   },
   "outputs": [
    {
     "data": {
      "text/plain": [
       "store                                0\n",
       "day_of_week                          0\n",
       "date                                 0\n",
       "sales                                0\n",
       "customers                            0\n",
       "open                                 0\n",
       "promo                                0\n",
       "state_holiday                        0\n",
       "school_holiday                       0\n",
       "store_type                           0\n",
       "assortment                           0\n",
       "competition_distance              2642\n",
       "competition_open_since_month    323348\n",
       "competition_open_since_year     323348\n",
       "promo2                               0\n",
       "promo2_since_week               508031\n",
       "promo2_since_year               508031\n",
       "promo_interval                  508031\n",
       "dtype: int64"
      ]
     },
     "execution_count": 10,
     "metadata": {},
     "output_type": "execute_result"
    }
   ],
   "source": [
    "# checking NA - All NA values came from store.csv\n",
    "df1.isna().sum()"
   ]
  },
  {
   "cell_type": "code",
   "execution_count": 11,
   "id": "5989d000",
   "metadata": {
    "ExecuteTime": {
     "end_time": "2021-09-17T20:01:24.066489Z",
     "start_time": "2021-09-17T20:01:23.850183Z"
    },
    "hidden": true
   },
   "outputs": [
    {
     "name": "stdout",
     "output_type": "stream",
     "text": [
      "<class 'pandas.core.frame.DataFrame'>\n",
      "Int64Index: 1017209 entries, 0 to 1017208\n",
      "Data columns (total 18 columns):\n",
      " #   Column                        Non-Null Count    Dtype         \n",
      "---  ------                        --------------    -----         \n",
      " 0   store                         1017209 non-null  int64         \n",
      " 1   day_of_week                   1017209 non-null  int64         \n",
      " 2   date                          1017209 non-null  datetime64[ns]\n",
      " 3   sales                         1017209 non-null  int64         \n",
      " 4   customers                     1017209 non-null  int64         \n",
      " 5   open                          1017209 non-null  int64         \n",
      " 6   promo                         1017209 non-null  int64         \n",
      " 7   state_holiday                 1017209 non-null  object        \n",
      " 8   school_holiday                1017209 non-null  int64         \n",
      " 9   store_type                    1017209 non-null  object        \n",
      " 10  assortment                    1017209 non-null  object        \n",
      " 11  competition_distance          1014567 non-null  float64       \n",
      " 12  competition_open_since_month  693861 non-null   float64       \n",
      " 13  competition_open_since_year   693861 non-null   float64       \n",
      " 14  promo2                        1017209 non-null  int64         \n",
      " 15  promo2_since_week             509178 non-null   float64       \n",
      " 16  promo2_since_year             509178 non-null   float64       \n",
      " 17  promo_interval                509178 non-null   object        \n",
      "dtypes: datetime64[ns](1), float64(5), int64(8), object(4)\n",
      "memory usage: 147.5+ MB\n"
     ]
    }
   ],
   "source": [
    "# checking NA using info()\n",
    "df1.info()"
   ]
  },
  {
   "cell_type": "markdown",
   "id": "6aad9b4c",
   "metadata": {
    "heading_collapsed": true
   },
   "source": [
    "## <font color='#200CF'> 1.5. Filling in Missing/Null Values </font>"
   ]
  },
  {
   "cell_type": "markdown",
   "id": "a0ae51ce",
   "metadata": {
    "hidden": true
   },
   "source": [
    "**Number of NA Values**\n",
    "\n",
    "    competition_distance              2642\n",
    "\n",
    "    competition_open_since_month    323348\n",
    "    competition_open_since_year     323348\n",
    "\n",
    "    promo2_since_week               508031\n",
    "    promo2_since_year               508031\n",
    "    promo_interval                  508031"
   ]
  },
  {
   "cell_type": "code",
   "execution_count": 12,
   "id": "328ecc13",
   "metadata": {
    "ExecuteTime": {
     "end_time": "2021-09-17T20:02:19.370848Z",
     "start_time": "2021-09-17T20:01:24.068577Z"
    },
    "hidden": true
   },
   "outputs": [],
   "source": [
    "# competition_distance\n",
    "\n",
    "# maximun distance x 2\n",
    "max_dist_x_2 = df1['competition_distance'].max() * 2\n",
    "\n",
    "# assuming competitors are twice as far away as the greatest distance found\n",
    "df1['competition_distance'] = df1['competition_distance'].apply(lambda x: max_dist_x_2 if np.isnan(x) else x)\n",
    "\n",
    "\n",
    "# competition_open_since_year\n",
    "\n",
    "# frequency per year of existing competition_open_since_year data\n",
    "frequency = df1['competition_open_since_year'].value_counts(\n",
    "                                                normalize=True).reset_index().rename(\n",
    "                                                columns={'index': 'year', \n",
    "                                                         'competition_open_since_year': 'percent'})\n",
    "\n",
    "# True/False missing/Null Series\n",
    "missing = df1['competition_open_since_year'].isna()\n",
    "\n",
    "# Using Numpy's random.choice to fill out missing data based on the frequency of existing info\n",
    "df1.loc[missing,'competition_open_since_year'] = np.random.choice(frequency.year, \n",
    "                                                                  size=len(df1[missing]), \n",
    "                                                                  p=frequency.percent)\n",
    "\n",
    "\n",
    "# competition_open_since_month\n",
    "\n",
    "# frequency per month of existing competition_open_since_month data\n",
    "frequency = df1['competition_open_since_month'].value_counts(\n",
    "                                                normalize=True).reset_index().rename(\n",
    "                                                columns={'index': 'month', \n",
    "                                                         'competition_open_since_month': 'percent'})\n",
    "\n",
    "# True/False missing/Null Series\n",
    "missing = df1['competition_open_since_month'].isna()\n",
    "\n",
    "# Using Numpy's random.choice to fill out missing data based on the frequency of existing info\n",
    "df1.loc[missing,'competition_open_since_month'] = np.random.choice(frequency.month, \n",
    "                                                                   size=len(df1[missing]), \n",
    "                                                                   p=frequency.percent)\n",
    "\n",
    "\n",
    "# promo2_since_week AND promo2_since_year\n",
    "\n",
    "# the same date of sale will be used as a reference to fill in the NA values\n",
    "# then a new timedelta column will be created (promo2_duration)\n",
    "\n",
    "#promo2_since_week\n",
    "df1['promo2_since_week'] = df1[['date', 'promo2_since_week']].apply(lambda x: x['date'].week if np.isnan(x['promo2_since_week']) else x['promo2_since_week'], axis=1)\n",
    "\n",
    "# promo2_since_year\n",
    "df1['promo2_since_year'] = df1[['date', 'promo2_since_year']].apply(lambda x: x['date'].year if np.isnan(x['promo2_since_year']) else x['promo2_since_year'], axis=1)\n",
    "\n",
    "\n",
    "# promo_interval\n",
    "\n",
    "# filling in NA with 'none'\n",
    "df1['promo_interval'].fillna(value='none', inplace=True)\n",
    "# creating a column with current month\n",
    "df1['curr_month'] = df1['date'].dt.strftime('%b')\n",
    "# creating a column to indicate whether promo2 is active\n",
    "df1['promo2_active'] = df1[['curr_month', 'promo_interval']].apply(lambda x: 1 if x['curr_month'] in x['promo_interval'].split(',') else 0, axis=1)"
   ]
  },
  {
   "cell_type": "markdown",
   "id": "a332ab3f",
   "metadata": {
    "heading_collapsed": true
   },
   "source": [
    "## <font color='#200CF'> 1.6. Changing Data Types </font>"
   ]
  },
  {
   "cell_type": "code",
   "execution_count": 13,
   "id": "410d8b49",
   "metadata": {
    "ExecuteTime": {
     "end_time": "2021-09-17T20:02:19.378744Z",
     "start_time": "2021-09-17T20:02:19.372679Z"
    },
    "hidden": true
   },
   "outputs": [
    {
     "data": {
      "text/plain": [
       "store                                    int64\n",
       "day_of_week                              int64\n",
       "date                            datetime64[ns]\n",
       "sales                                    int64\n",
       "customers                                int64\n",
       "open                                     int64\n",
       "promo                                    int64\n",
       "state_holiday                           object\n",
       "school_holiday                           int64\n",
       "store_type                              object\n",
       "assortment                              object\n",
       "competition_distance                   float64\n",
       "competition_open_since_month           float64\n",
       "competition_open_since_year            float64\n",
       "promo2                                   int64\n",
       "promo2_since_week                      float64\n",
       "promo2_since_year                      float64\n",
       "promo_interval                          object\n",
       "curr_month                              object\n",
       "promo2_active                            int64\n",
       "dtype: object"
      ]
     },
     "execution_count": 13,
     "metadata": {},
     "output_type": "execute_result"
    }
   ],
   "source": [
    "df1.dtypes"
   ]
  },
  {
   "cell_type": "code",
   "execution_count": 14,
   "id": "0037c6e4",
   "metadata": {
    "ExecuteTime": {
     "end_time": "2021-09-17T20:02:19.427131Z",
     "start_time": "2021-09-17T20:02:19.380016Z"
    },
    "hidden": true
   },
   "outputs": [],
   "source": [
    "# Changing DTypes from float to integer\n",
    "\n",
    "df1['competition_distance'] = df1['competition_distance'].astype(int)\n",
    "df1['competition_open_since_month'] = df1['competition_open_since_month'].astype(int)\n",
    "df1['competition_open_since_year'] = df1['competition_open_since_year'].astype(int)\n",
    "df1['promo2_since_week'] = df1['promo2_since_week'].astype(int)\n",
    "df1['promo2_since_year'] = df1['promo2_since_year'].astype(int)"
   ]
  },
  {
   "cell_type": "markdown",
   "id": "23c18483",
   "metadata": {},
   "source": [
    "## <font color='#200CF'> 1.7. Descriptive Statistics </font>"
   ]
  },
  {
   "cell_type": "markdown",
   "id": "0a9e4bf7",
   "metadata": {
    "heading_collapsed": true
   },
   "source": [
    "### <font color='#2365FF'> 1.7.0. Numeric vs Categorical - Attributes Split </font>"
   ]
  },
  {
   "cell_type": "code",
   "execution_count": 16,
   "id": "a627141e",
   "metadata": {
    "ExecuteTime": {
     "end_time": "2021-09-17T20:02:19.917392Z",
     "start_time": "2021-09-17T20:02:19.826466Z"
    },
    "hidden": true
   },
   "outputs": [],
   "source": [
    "df_numeric = df1.select_dtypes(include=['int64', 'float64'])\n",
    "df_categorical = df1.select_dtypes(exclude=['int64', 'float64', 'datetime64[ns]'])"
   ]
  },
  {
   "cell_type": "markdown",
   "id": "b2a9e2e4",
   "metadata": {
    "heading_collapsed": true
   },
   "source": [
    "### <font color='#2365FF'> 1.7.1. Numeric Attributes </font>"
   ]
  },
  {
   "cell_type": "code",
   "execution_count": 15,
   "id": "07153cf1",
   "metadata": {
    "ExecuteTime": {
     "end_time": "2021-09-17T20:02:19.824995Z",
     "start_time": "2021-09-17T20:02:19.429064Z"
    },
    "hidden": true
   },
   "outputs": [
    {
     "data": {
      "text/html": [
       "<div>\n",
       "<style scoped>\n",
       "    .dataframe tbody tr th:only-of-type {\n",
       "        vertical-align: middle;\n",
       "    }\n",
       "\n",
       "    .dataframe tbody tr th {\n",
       "        vertical-align: top;\n",
       "    }\n",
       "\n",
       "    .dataframe thead th {\n",
       "        text-align: right;\n",
       "    }\n",
       "</style>\n",
       "<table border=\"1\" class=\"dataframe\">\n",
       "  <thead>\n",
       "    <tr style=\"text-align: right;\">\n",
       "      <th></th>\n",
       "      <th>count</th>\n",
       "      <th>mean</th>\n",
       "      <th>std</th>\n",
       "      <th>min</th>\n",
       "      <th>25%</th>\n",
       "      <th>50%</th>\n",
       "      <th>75%</th>\n",
       "      <th>max</th>\n",
       "    </tr>\n",
       "  </thead>\n",
       "  <tbody>\n",
       "    <tr>\n",
       "      <th>store</th>\n",
       "      <td>1017209.0</td>\n",
       "      <td>558.429727</td>\n",
       "      <td>321.908651</td>\n",
       "      <td>1.0</td>\n",
       "      <td>280.0</td>\n",
       "      <td>558.0</td>\n",
       "      <td>838.0</td>\n",
       "      <td>1115.0</td>\n",
       "    </tr>\n",
       "    <tr>\n",
       "      <th>day_of_week</th>\n",
       "      <td>1017209.0</td>\n",
       "      <td>3.998341</td>\n",
       "      <td>1.997391</td>\n",
       "      <td>1.0</td>\n",
       "      <td>2.0</td>\n",
       "      <td>4.0</td>\n",
       "      <td>6.0</td>\n",
       "      <td>7.0</td>\n",
       "    </tr>\n",
       "    <tr>\n",
       "      <th>sales</th>\n",
       "      <td>1017209.0</td>\n",
       "      <td>5773.818972</td>\n",
       "      <td>3849.926175</td>\n",
       "      <td>0.0</td>\n",
       "      <td>3727.0</td>\n",
       "      <td>5744.0</td>\n",
       "      <td>7856.0</td>\n",
       "      <td>41551.0</td>\n",
       "    </tr>\n",
       "    <tr>\n",
       "      <th>customers</th>\n",
       "      <td>1017209.0</td>\n",
       "      <td>633.145946</td>\n",
       "      <td>464.411734</td>\n",
       "      <td>0.0</td>\n",
       "      <td>405.0</td>\n",
       "      <td>609.0</td>\n",
       "      <td>837.0</td>\n",
       "      <td>7388.0</td>\n",
       "    </tr>\n",
       "    <tr>\n",
       "      <th>open</th>\n",
       "      <td>1017209.0</td>\n",
       "      <td>0.830107</td>\n",
       "      <td>0.375539</td>\n",
       "      <td>0.0</td>\n",
       "      <td>1.0</td>\n",
       "      <td>1.0</td>\n",
       "      <td>1.0</td>\n",
       "      <td>1.0</td>\n",
       "    </tr>\n",
       "    <tr>\n",
       "      <th>promo</th>\n",
       "      <td>1017209.0</td>\n",
       "      <td>0.381515</td>\n",
       "      <td>0.485759</td>\n",
       "      <td>0.0</td>\n",
       "      <td>0.0</td>\n",
       "      <td>0.0</td>\n",
       "      <td>1.0</td>\n",
       "      <td>1.0</td>\n",
       "    </tr>\n",
       "    <tr>\n",
       "      <th>school_holiday</th>\n",
       "      <td>1017209.0</td>\n",
       "      <td>0.178647</td>\n",
       "      <td>0.383056</td>\n",
       "      <td>0.0</td>\n",
       "      <td>0.0</td>\n",
       "      <td>0.0</td>\n",
       "      <td>0.0</td>\n",
       "      <td>1.0</td>\n",
       "    </tr>\n",
       "    <tr>\n",
       "      <th>competition_distance</th>\n",
       "      <td>1017209.0</td>\n",
       "      <td>5810.044888</td>\n",
       "      <td>10715.012901</td>\n",
       "      <td>20.0</td>\n",
       "      <td>710.0</td>\n",
       "      <td>2330.0</td>\n",
       "      <td>6910.0</td>\n",
       "      <td>151720.0</td>\n",
       "    </tr>\n",
       "    <tr>\n",
       "      <th>competition_open_since_month</th>\n",
       "      <td>1017209.0</td>\n",
       "      <td>7.222582</td>\n",
       "      <td>3.211959</td>\n",
       "      <td>1.0</td>\n",
       "      <td>4.0</td>\n",
       "      <td>8.0</td>\n",
       "      <td>10.0</td>\n",
       "      <td>12.0</td>\n",
       "    </tr>\n",
       "    <tr>\n",
       "      <th>competition_open_since_year</th>\n",
       "      <td>1017209.0</td>\n",
       "      <td>2008.691604</td>\n",
       "      <td>6.005059</td>\n",
       "      <td>1900.0</td>\n",
       "      <td>2006.0</td>\n",
       "      <td>2010.0</td>\n",
       "      <td>2013.0</td>\n",
       "      <td>2015.0</td>\n",
       "    </tr>\n",
       "    <tr>\n",
       "      <th>promo2</th>\n",
       "      <td>1017209.0</td>\n",
       "      <td>0.500564</td>\n",
       "      <td>0.500000</td>\n",
       "      <td>0.0</td>\n",
       "      <td>0.0</td>\n",
       "      <td>1.0</td>\n",
       "      <td>1.0</td>\n",
       "      <td>1.0</td>\n",
       "    </tr>\n",
       "    <tr>\n",
       "      <th>promo2_since_week</th>\n",
       "      <td>1017209.0</td>\n",
       "      <td>23.619033</td>\n",
       "      <td>14.310064</td>\n",
       "      <td>1.0</td>\n",
       "      <td>12.0</td>\n",
       "      <td>22.0</td>\n",
       "      <td>37.0</td>\n",
       "      <td>52.0</td>\n",
       "    </tr>\n",
       "    <tr>\n",
       "      <th>promo2_since_year</th>\n",
       "      <td>1017209.0</td>\n",
       "      <td>2012.793297</td>\n",
       "      <td>1.662658</td>\n",
       "      <td>2009.0</td>\n",
       "      <td>2012.0</td>\n",
       "      <td>2013.0</td>\n",
       "      <td>2014.0</td>\n",
       "      <td>2015.0</td>\n",
       "    </tr>\n",
       "    <tr>\n",
       "      <th>promo2_active</th>\n",
       "      <td>1017209.0</td>\n",
       "      <td>0.165966</td>\n",
       "      <td>0.372050</td>\n",
       "      <td>0.0</td>\n",
       "      <td>0.0</td>\n",
       "      <td>0.0</td>\n",
       "      <td>0.0</td>\n",
       "      <td>1.0</td>\n",
       "    </tr>\n",
       "  </tbody>\n",
       "</table>\n",
       "</div>"
      ],
      "text/plain": [
       "                                  count         mean           std     min  \\\n",
       "store                         1017209.0   558.429727    321.908651     1.0   \n",
       "day_of_week                   1017209.0     3.998341      1.997391     1.0   \n",
       "sales                         1017209.0  5773.818972   3849.926175     0.0   \n",
       "customers                     1017209.0   633.145946    464.411734     0.0   \n",
       "open                          1017209.0     0.830107      0.375539     0.0   \n",
       "promo                         1017209.0     0.381515      0.485759     0.0   \n",
       "school_holiday                1017209.0     0.178647      0.383056     0.0   \n",
       "competition_distance          1017209.0  5810.044888  10715.012901    20.0   \n",
       "competition_open_since_month  1017209.0     7.222582      3.211959     1.0   \n",
       "competition_open_since_year   1017209.0  2008.691604      6.005059  1900.0   \n",
       "promo2                        1017209.0     0.500564      0.500000     0.0   \n",
       "promo2_since_week             1017209.0    23.619033     14.310064     1.0   \n",
       "promo2_since_year             1017209.0  2012.793297      1.662658  2009.0   \n",
       "promo2_active                 1017209.0     0.165966      0.372050     0.0   \n",
       "\n",
       "                                 25%     50%     75%       max  \n",
       "store                          280.0   558.0   838.0    1115.0  \n",
       "day_of_week                      2.0     4.0     6.0       7.0  \n",
       "sales                         3727.0  5744.0  7856.0   41551.0  \n",
       "customers                      405.0   609.0   837.0    7388.0  \n",
       "open                             1.0     1.0     1.0       1.0  \n",
       "promo                            0.0     0.0     1.0       1.0  \n",
       "school_holiday                   0.0     0.0     0.0       1.0  \n",
       "competition_distance           710.0  2330.0  6910.0  151720.0  \n",
       "competition_open_since_month     4.0     8.0    10.0      12.0  \n",
       "competition_open_since_year   2006.0  2010.0  2013.0    2015.0  \n",
       "promo2                           0.0     1.0     1.0       1.0  \n",
       "promo2_since_week               12.0    22.0    37.0      52.0  \n",
       "promo2_since_year             2012.0  2013.0  2014.0    2015.0  \n",
       "promo2_active                    0.0     0.0     0.0       1.0  "
      ]
     },
     "execution_count": 15,
     "metadata": {},
     "output_type": "execute_result"
    }
   ],
   "source": [
    "# using DF describe() method\n",
    "df1.describe().T"
   ]
  },
  {
   "cell_type": "code",
   "execution_count": 17,
   "id": "8b58de8d",
   "metadata": {
    "ExecuteTime": {
     "end_time": "2021-09-17T20:02:22.876611Z",
     "start_time": "2021-09-17T20:02:19.918997Z"
    },
    "hidden": true
   },
   "outputs": [
    {
     "data": {
      "text/html": [
       "<div>\n",
       "<style scoped>\n",
       "    .dataframe tbody tr th:only-of-type {\n",
       "        vertical-align: middle;\n",
       "    }\n",
       "\n",
       "    .dataframe tbody tr th {\n",
       "        vertical-align: top;\n",
       "    }\n",
       "\n",
       "    .dataframe thead th {\n",
       "        text-align: right;\n",
       "    }\n",
       "</style>\n",
       "<table border=\"1\" class=\"dataframe\">\n",
       "  <thead>\n",
       "    <tr style=\"text-align: right;\">\n",
       "      <th></th>\n",
       "      <th>min</th>\n",
       "      <th>max</th>\n",
       "      <th>range</th>\n",
       "      <th>mean</th>\n",
       "      <th>median</th>\n",
       "      <th>std</th>\n",
       "      <th>skew</th>\n",
       "      <th>kurtosis</th>\n",
       "    </tr>\n",
       "  </thead>\n",
       "  <tbody>\n",
       "    <tr>\n",
       "      <th>store</th>\n",
       "      <td>1</td>\n",
       "      <td>1115</td>\n",
       "      <td>1114</td>\n",
       "      <td>558.429727</td>\n",
       "      <td>558.0</td>\n",
       "      <td>321.908493</td>\n",
       "      <td>-0.000955</td>\n",
       "      <td>-1.200524</td>\n",
       "    </tr>\n",
       "    <tr>\n",
       "      <th>day_of_week</th>\n",
       "      <td>1</td>\n",
       "      <td>7</td>\n",
       "      <td>6</td>\n",
       "      <td>3.998341</td>\n",
       "      <td>4.0</td>\n",
       "      <td>1.997390</td>\n",
       "      <td>0.001593</td>\n",
       "      <td>-1.246873</td>\n",
       "    </tr>\n",
       "    <tr>\n",
       "      <th>sales</th>\n",
       "      <td>0</td>\n",
       "      <td>41551</td>\n",
       "      <td>41551</td>\n",
       "      <td>5773.818972</td>\n",
       "      <td>5744.0</td>\n",
       "      <td>3849.924283</td>\n",
       "      <td>0.641460</td>\n",
       "      <td>1.778375</td>\n",
       "    </tr>\n",
       "    <tr>\n",
       "      <th>customers</th>\n",
       "      <td>0</td>\n",
       "      <td>7388</td>\n",
       "      <td>7388</td>\n",
       "      <td>633.145946</td>\n",
       "      <td>609.0</td>\n",
       "      <td>464.411506</td>\n",
       "      <td>1.598650</td>\n",
       "      <td>7.091773</td>\n",
       "    </tr>\n",
       "    <tr>\n",
       "      <th>open</th>\n",
       "      <td>0</td>\n",
       "      <td>1</td>\n",
       "      <td>1</td>\n",
       "      <td>0.830107</td>\n",
       "      <td>1.0</td>\n",
       "      <td>0.375539</td>\n",
       "      <td>-1.758045</td>\n",
       "      <td>1.090723</td>\n",
       "    </tr>\n",
       "    <tr>\n",
       "      <th>promo</th>\n",
       "      <td>0</td>\n",
       "      <td>1</td>\n",
       "      <td>1</td>\n",
       "      <td>0.381515</td>\n",
       "      <td>0.0</td>\n",
       "      <td>0.485758</td>\n",
       "      <td>0.487838</td>\n",
       "      <td>-1.762018</td>\n",
       "    </tr>\n",
       "    <tr>\n",
       "      <th>school_holiday</th>\n",
       "      <td>0</td>\n",
       "      <td>1</td>\n",
       "      <td>1</td>\n",
       "      <td>0.178647</td>\n",
       "      <td>0.0</td>\n",
       "      <td>0.383056</td>\n",
       "      <td>1.677842</td>\n",
       "      <td>0.815154</td>\n",
       "    </tr>\n",
       "    <tr>\n",
       "      <th>competition_distance</th>\n",
       "      <td>20</td>\n",
       "      <td>151720</td>\n",
       "      <td>151700</td>\n",
       "      <td>5810.044888</td>\n",
       "      <td>2330.0</td>\n",
       "      <td>10715.007635</td>\n",
       "      <td>7.593832</td>\n",
       "      <td>90.447876</td>\n",
       "    </tr>\n",
       "    <tr>\n",
       "      <th>competition_open_since_month</th>\n",
       "      <td>1</td>\n",
       "      <td>12</td>\n",
       "      <td>11</td>\n",
       "      <td>7.222582</td>\n",
       "      <td>8.0</td>\n",
       "      <td>3.211958</td>\n",
       "      <td>-0.169956</td>\n",
       "      <td>-1.248122</td>\n",
       "    </tr>\n",
       "    <tr>\n",
       "      <th>competition_open_since_year</th>\n",
       "      <td>1900</td>\n",
       "      <td>2015</td>\n",
       "      <td>115</td>\n",
       "      <td>2008.691604</td>\n",
       "      <td>2010.0</td>\n",
       "      <td>6.005056</td>\n",
       "      <td>-7.587062</td>\n",
       "      <td>122.651494</td>\n",
       "    </tr>\n",
       "    <tr>\n",
       "      <th>promo2</th>\n",
       "      <td>0</td>\n",
       "      <td>1</td>\n",
       "      <td>1</td>\n",
       "      <td>0.500564</td>\n",
       "      <td>1.0</td>\n",
       "      <td>0.500000</td>\n",
       "      <td>-0.002255</td>\n",
       "      <td>-1.999999</td>\n",
       "    </tr>\n",
       "    <tr>\n",
       "      <th>promo2_since_week</th>\n",
       "      <td>1</td>\n",
       "      <td>52</td>\n",
       "      <td>51</td>\n",
       "      <td>23.619033</td>\n",
       "      <td>22.0</td>\n",
       "      <td>14.310057</td>\n",
       "      <td>0.178723</td>\n",
       "      <td>-1.184046</td>\n",
       "    </tr>\n",
       "    <tr>\n",
       "      <th>promo2_since_year</th>\n",
       "      <td>2009</td>\n",
       "      <td>2015</td>\n",
       "      <td>6</td>\n",
       "      <td>2012.793297</td>\n",
       "      <td>2013.0</td>\n",
       "      <td>1.662657</td>\n",
       "      <td>-0.784436</td>\n",
       "      <td>-0.210075</td>\n",
       "    </tr>\n",
       "    <tr>\n",
       "      <th>promo2_active</th>\n",
       "      <td>0</td>\n",
       "      <td>1</td>\n",
       "      <td>1</td>\n",
       "      <td>0.165966</td>\n",
       "      <td>0.0</td>\n",
       "      <td>0.372050</td>\n",
       "      <td>1.795644</td>\n",
       "      <td>1.224338</td>\n",
       "    </tr>\n",
       "  </tbody>\n",
       "</table>\n",
       "</div>"
      ],
      "text/plain": [
       "                               min     max   range         mean  median  \\\n",
       "store                            1    1115    1114   558.429727   558.0   \n",
       "day_of_week                      1       7       6     3.998341     4.0   \n",
       "sales                            0   41551   41551  5773.818972  5744.0   \n",
       "customers                        0    7388    7388   633.145946   609.0   \n",
       "open                             0       1       1     0.830107     1.0   \n",
       "promo                            0       1       1     0.381515     0.0   \n",
       "school_holiday                   0       1       1     0.178647     0.0   \n",
       "competition_distance            20  151720  151700  5810.044888  2330.0   \n",
       "competition_open_since_month     1      12      11     7.222582     8.0   \n",
       "competition_open_since_year   1900    2015     115  2008.691604  2010.0   \n",
       "promo2                           0       1       1     0.500564     1.0   \n",
       "promo2_since_week                1      52      51    23.619033    22.0   \n",
       "promo2_since_year             2009    2015       6  2012.793297  2013.0   \n",
       "promo2_active                    0       1       1     0.165966     0.0   \n",
       "\n",
       "                                       std      skew    kurtosis  \n",
       "store                           321.908493 -0.000955   -1.200524  \n",
       "day_of_week                       1.997390  0.001593   -1.246873  \n",
       "sales                          3849.924283  0.641460    1.778375  \n",
       "customers                       464.411506  1.598650    7.091773  \n",
       "open                              0.375539 -1.758045    1.090723  \n",
       "promo                             0.485758  0.487838   -1.762018  \n",
       "school_holiday                    0.383056  1.677842    0.815154  \n",
       "competition_distance          10715.007635  7.593832   90.447876  \n",
       "competition_open_since_month      3.211958 -0.169956   -1.248122  \n",
       "competition_open_since_year       6.005056 -7.587062  122.651494  \n",
       "promo2                            0.500000 -0.002255   -1.999999  \n",
       "promo2_since_week                14.310057  0.178723   -1.184046  \n",
       "promo2_since_year                 1.662657 -0.784436   -0.210075  \n",
       "promo2_active                     0.372050  1.795644    1.224338  "
      ]
     },
     "execution_count": 17,
     "metadata": {},
     "output_type": "execute_result"
    }
   ],
   "source": [
    "# central tendency metrics - mean, median\n",
    "ct_mean = df_numeric.apply(np.mean)\n",
    "ct_median = df_numeric.apply(np.median)\n",
    "\n",
    "# dispersion metrics - std, min, max, range, skew, kurtosis\n",
    "d_std = df_numeric.apply(np.std)\n",
    "d_min = df_numeric.apply(min)\n",
    "d_max = df_numeric.apply(max)\n",
    "d_range = df_numeric.apply(lambda x: x.max() - x.min())\n",
    "d_skew = df_numeric.apply(lambda x: x.skew())\n",
    "d_kurtosis = df_numeric.apply(lambda x: x.kurtosis())\n",
    "\n",
    "metrics = pd.DataFrame({\n",
    "    'min': d_min, 'max': d_max, 'range': d_range, 'mean': ct_mean, \n",
    "    'median': ct_median, 'std': d_std, 'skew': d_skew, 'kurtosis': d_kurtosis\n",
    "})\n",
    "metrics"
   ]
  },
  {
   "cell_type": "markdown",
   "id": "c4365998",
   "metadata": {
    "hidden": true
   },
   "source": [
    "**competition_distance**\n",
    " - Skew: highly skewed data, high positive value means that the right-hand tail is much longer than the left-hand tail.\n",
    " - Kurtosis: increases as the tails become heavier, the high positive value indicates a very peaked curve.\n",
    "\n",
    "**competition_open_since_year**\n",
    " - Skew: highly skewed data, high negative value means that the left-hand tail is longer than the right-hand tail.\n",
    " - Kurtosis: increases as the tails become heavier, the high positive value indicates a very peaked curve.\n",
    "\n",
    "**sales**\n",
    " - Skewness is close to zero, indicating that the data is not too skewed"
   ]
  },
  {
   "cell_type": "code",
   "execution_count": 47,
   "id": "45574a1b",
   "metadata": {
    "ExecuteTime": {
     "end_time": "2021-09-17T21:30:24.022259Z",
     "start_time": "2021-09-17T21:30:23.455220Z"
    },
    "hidden": true
   },
   "outputs": [
    {
     "data": {
      "image/png": "[encoded data removed]",
      "text/plain": [
       "<Figure size 1008x504 with 1 Axes>"
      ]
     },
     "metadata": {},
     "output_type": "display_data"
    }
   ],
   "source": [
    "# sales histogram - not considering when sales is zero\n",
    "\n",
    "ax = sns.histplot(data=df_numeric[df_numeric['sales'] > 0], x='sales', stat='proportion', bins=100)\n",
    "ax.figure.set_size_inches(14, 7)\n",
    "ax.set_title('Sales Histogram', fontsize=20, pad=10)\n",
    "\n",
    "median = np.median(df_numeric['sales'])\n",
    "ax.vlines(x=5744, ymin=0, ymax=0.07, linestyles='dashed', label='median', colors='firebrick')\n",
    "ax.annotate(f'median = {median}', xy=(7000, 0.061), fontsize=14, color='firebrick')\n",
    "\n",
    "ax;"
   ]
  },
  {
   "cell_type": "markdown",
   "id": "babb577b",
   "metadata": {
    "heading_collapsed": true
   },
   "source": [
    "### <font color='#2365FF'> 1.7.2. Categorical Attributes </font>"
   ]
  },
  {
   "cell_type": "code",
   "execution_count": 46,
   "id": "70c783d3",
   "metadata": {
    "ExecuteTime": {
     "end_time": "2021-09-17T21:27:06.855798Z",
     "start_time": "2021-09-17T21:27:06.601900Z"
    },
    "hidden": true
   },
   "outputs": [
    {
     "data": {
      "text/plain": [
       "state_holiday      4\n",
       "store_type         4\n",
       "assortment         3\n",
       "promo_interval     4\n",
       "curr_month        12\n",
       "dtype: int64"
      ]
     },
     "execution_count": 46,
     "metadata": {},
     "output_type": "execute_result"
    }
   ],
   "source": [
    "# verifying unique valuesfor each categorical attribute\n",
    "df_categorical.apply(lambda x: len(x.unique()))"
   ]
  },
  {
   "cell_type": "markdown",
   "id": "a5220e6b",
   "metadata": {
    "hidden": true
   },
   "source": [
    "**BOXPLOT OF CATEGORICAL ATTRIBUTES**"
   ]
  },
  {
   "cell_type": "code",
   "execution_count": 63,
   "id": "598de3a1",
   "metadata": {
    "ExecuteTime": {
     "end_time": "2021-09-17T22:06:01.263981Z",
     "start_time": "2021-09-17T22:05:59.627565Z"
    },
    "hidden": true
   },
   "outputs": [
    {
     "data": {
      "image/png": "[encoded data removed]",
      "text/plain": [
       "<Figure size 1728x720 with 3 Axes>"
      ]
     },
     "metadata": {},
     "output_type": "display_data"
    }
   ],
   "source": [
    "# Boxplot -- state_holiday\n",
    "\n",
    "# not considering when: sales = 0 \n",
    "aux = df1[df1['sales'] > 0]\n",
    "\n",
    "plt.figure(figsize=(24,10))\n",
    "\n",
    "plt.subplot(1, 3, 1)\n",
    "ax1 = sns.boxplot(x='state_holiday', y='sales', data=aux)\n",
    "ax1.set_title('Boxplot - state_holiday', fontsize=18, pad=10)\n",
    "ax1.set_xticklabels(labels=['None', 'Public', 'Easter', 'Christmas'])\n",
    "\n",
    "plt.subplot(1, 3, 2)\n",
    "ax2 = sns.boxplot(x='store_type', y='sales', data=aux)\n",
    "ax2.set_title('Boxplot - store_type', fontsize=18, pad=10)\n",
    "\n",
    "plt.subplot(1, 3, 3)\n",
    "ax3 = sns.boxplot(x='assortment', y='sales', data=aux)\n",
    "ax3.set_title('Boxplot - assortment', fontsize=18, pad=10)\n",
    "\n",
    "plt.show()"
   ]
  },
  {
   "cell_type": "code",
   "execution_count": null,
   "id": "423fdf35",
   "metadata": {
    "hidden": true
   },
   "outputs": [],
   "source": []
  }
 ],
 "metadata": {
  "kernelspec": {
   "display_name": "ve_sales_prediction",
   "language": "python",
   "name": "ve_sales_prediction"
  },
  "language_info": {
   "codemirror_mode": {
    "name": "ipython",
    "version": 3
   },
   "file_extension": ".py",
   "mimetype": "text/x-python",
   "name": "python",
   "nbconvert_exporter": "python",
   "pygments_lexer": "ipython3",
   "version": "3.9.6"
  }
 },
 "nbformat": 4,
 "nbformat_minor": 5
}
